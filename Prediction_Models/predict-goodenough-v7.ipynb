{
 "cells": [
  {
   "cell_type": "code",
   "execution_count": 1,
   "id": "ead3e3de",
   "metadata": {
    "_cell_guid": "b1076dfc-b9ad-4769-8c92-a6c4dae69d19",
    "_uuid": "8f2839f25d086af736a60e9eeb907d3b93b6e0e5",
    "execution": {
     "iopub.execute_input": "2024-01-30T13:44:31.598377Z",
     "iopub.status.busy": "2024-01-30T13:44:31.597947Z",
     "iopub.status.idle": "2024-01-30T13:44:37.810705Z",
     "shell.execute_reply": "2024-01-30T13:44:37.809488Z"
    },
    "papermill": {
     "duration": 6.238224,
     "end_time": "2024-01-30T13:44:37.813364",
     "exception": false,
     "start_time": "2024-01-30T13:44:31.575140",
     "status": "completed"
    },
    "tags": []
   },
   "outputs": [],
   "source": [
    "import numpy as np\n",
    "import pandas as pd\n",
    "\n",
    "import os\n",
    "import sys\n",
    "import itertools\n",
    "\n",
    "import sklearn as sk\n",
    "from sklearn.model_selection import train_test_split\n",
    "from lightgbm import LGBMRegressor\n",
    "import xgboost as xgb\n",
    "import scipy.stats as stats\n",
    "from statsmodels.tsa.deterministic import CalendarFourier, DeterministicProcess\n",
    "import statsmodels.api as sm\n",
    "from sklearn.linear_model import LinearRegression\n",
    "from sklearn.metrics import mean_absolute_error\n",
    "from scipy.optimize import minimize\n",
    "\n",
    "import matplotlib.pyplot as plt\n",
    "\n",
    "from datetime import timedelta\n",
    "import holidays\n",
    "\n",
    "import enefit"
   ]
  },
  {
   "cell_type": "code",
   "execution_count": 2,
   "id": "26e54165",
   "metadata": {
    "execution": {
     "iopub.execute_input": "2024-01-30T13:44:37.858569Z",
     "iopub.status.busy": "2024-01-30T13:44:37.857802Z",
     "iopub.status.idle": "2024-01-30T13:44:37.862544Z",
     "shell.execute_reply": "2024-01-30T13:44:37.861540Z"
    },
    "papermill": {
     "duration": 0.02928,
     "end_time": "2024-01-30T13:44:37.864865",
     "exception": false,
     "start_time": "2024-01-30T13:44:37.835585",
     "status": "completed"
    },
    "tags": []
   },
   "outputs": [],
   "source": [
    "import warnings\n",
    "warnings.filterwarnings(\"ignore\")"
   ]
  },
  {
   "cell_type": "code",
   "execution_count": 3,
   "id": "2d2bbe94",
   "metadata": {
    "execution": {
     "iopub.execute_input": "2024-01-30T13:44:37.910181Z",
     "iopub.status.busy": "2024-01-30T13:44:37.909417Z",
     "iopub.status.idle": "2024-01-30T13:44:37.913963Z",
     "shell.execute_reply": "2024-01-30T13:44:37.913158Z"
    },
    "papermill": {
     "duration": 0.030158,
     "end_time": "2024-01-30T13:44:37.916138",
     "exception": false,
     "start_time": "2024-01-30T13:44:37.885980",
     "status": "completed"
    },
    "tags": []
   },
   "outputs": [],
   "source": [
    "env = enefit.make_env()"
   ]
  },
  {
   "cell_type": "markdown",
   "id": "d18996ee",
   "metadata": {
    "papermill": {
     "duration": 0.021722,
     "end_time": "2024-01-30T13:44:37.958913",
     "exception": false,
     "start_time": "2024-01-30T13:44:37.937191",
     "status": "completed"
    },
    "tags": []
   },
   "source": [
    "# ETL"
   ]
  },
  {
   "cell_type": "markdown",
   "id": "66a235df",
   "metadata": {
    "papermill": {
     "duration": 0.020599,
     "end_time": "2024-01-30T13:44:38.000706",
     "exception": false,
     "start_time": "2024-01-30T13:44:37.980107",
     "status": "completed"
    },
    "tags": []
   },
   "source": [
    "## Load & Convert Data"
   ]
  },
  {
   "cell_type": "code",
   "execution_count": 4,
   "id": "e4f5bc3f",
   "metadata": {
    "execution": {
     "iopub.execute_input": "2024-01-30T13:44:38.045450Z",
     "iopub.status.busy": "2024-01-30T13:44:38.044961Z",
     "iopub.status.idle": "2024-01-30T13:45:01.458556Z",
     "shell.execute_reply": "2024-01-30T13:45:01.457321Z"
    },
    "papermill": {
     "duration": 23.439636,
     "end_time": "2024-01-30T13:45:01.461689",
     "exception": false,
     "start_time": "2024-01-30T13:44:38.022053",
     "status": "completed"
    },
    "tags": []
   },
   "outputs": [],
   "source": [
    "df_client = pd.read_csv(\"/kaggle/input/predict-energy-behavior-of-prosumers/client.csv\")\n",
    "df_electricity = pd.read_csv(\"/kaggle/input/predict-energy-behavior-of-prosumers/electricity_prices.csv\")\n",
    "df_gas = pd.read_csv(\"/kaggle/input/predict-energy-behavior-of-prosumers/gas_prices.csv\")\n",
    "df_weather = pd.read_csv(\"/kaggle/input/predict-energy-behavior-of-prosumers/forecast_weather.csv\")\n",
    "df_train = pd.read_csv(\"/kaggle/input/predict-energy-behavior-of-prosumers/train.csv\")\n",
    "df_stations_county_mapping = pd.read_csv(\"/kaggle/input/predict-energy-behavior-of-prosumers/weather_station_to_county_mapping.csv\")"
   ]
  },
  {
   "cell_type": "code",
   "execution_count": 5,
   "id": "6d92e542",
   "metadata": {
    "execution": {
     "iopub.execute_input": "2024-01-30T13:45:01.505952Z",
     "iopub.status.busy": "2024-01-30T13:45:01.505558Z",
     "iopub.status.idle": "2024-01-30T13:45:02.018262Z",
     "shell.execute_reply": "2024-01-30T13:45:02.017040Z"
    },
    "papermill": {
     "duration": 0.538192,
     "end_time": "2024-01-30T13:45:02.020944",
     "exception": false,
     "start_time": "2024-01-30T13:45:01.482752",
     "status": "completed"
    },
    "tags": []
   },
   "outputs": [
    {
     "name": "stdout",
     "output_type": "stream",
     "text": [
      "Median Spring Consumption : 137.83, Production : 0.17\n"
     ]
    }
   ],
   "source": [
    "df_train['datetime'] = pd.to_datetime(df_train['datetime'])\n",
    "\n",
    "df_medianes = df_train.loc[((df_train['datetime']>='2022-01-01') & (df_train['datetime']<='2022-04-30')) | \n",
    "                           ((df_train['datetime']>='2023-01-01') & (df_train['datetime']<='2023-04-30'))].copy()\n",
    "\n",
    "spring_consumption = df_medianes[['target']].loc[df_medianes.is_consumption==1].median()\n",
    "med_spring_consumption = spring_consumption[0]\n",
    "spring_production = df_medianes[['target']].loc[df_medianes.is_consumption==0].median()\n",
    "med_spring_production = spring_production[0]\n",
    "\n",
    "print(\"Median Spring Consumption : {:.2f}, Production : {:.2f}\".format(med_spring_consumption, med_spring_production))"
   ]
  },
  {
   "cell_type": "markdown",
   "id": "c5afb1af",
   "metadata": {
    "papermill": {
     "duration": 0.021467,
     "end_time": "2024-01-30T13:45:02.063772",
     "exception": false,
     "start_time": "2024-01-30T13:45:02.042305",
     "status": "completed"
    },
    "tags": []
   },
   "source": [
    "mapping, **reference dataframe**"
   ]
  },
  {
   "cell_type": "code",
   "execution_count": 6,
   "id": "633a4eac",
   "metadata": {
    "execution": {
     "iopub.execute_input": "2024-01-30T13:45:02.107601Z",
     "iopub.status.busy": "2024-01-30T13:45:02.107126Z",
     "iopub.status.idle": "2024-01-30T13:45:02.117175Z",
     "shell.execute_reply": "2024-01-30T13:45:02.116070Z"
    },
    "papermill": {
     "duration": 0.034837,
     "end_time": "2024-01-30T13:45:02.119585",
     "exception": false,
     "start_time": "2024-01-30T13:45:02.084748",
     "status": "completed"
    },
    "tags": []
   },
   "outputs": [],
   "source": [
    "# Fill empty values of county with 12. County 12 is set as 'unknown', so we will average all 'unknown' locations into 1\n",
    "df_stations_county_mapping['county'].fillna(12, inplace=True)\n",
    "\n",
    "# primary key\n",
    "df_stations_county_mapping['cle_lat-long'] = round(df_stations_county_mapping.latitude, 1).astype(str) + \"-\" + df_stations_county_mapping.longitude.astype(str)\n",
    "\n",
    "df_stations_county_mapping = df_stations_county_mapping[['cle_lat-long','county']]"
   ]
  },
  {
   "cell_type": "markdown",
   "id": "fcb08277",
   "metadata": {
    "papermill": {
     "duration": 0.020402,
     "end_time": "2024-01-30T13:45:02.160754",
     "exception": false,
     "start_time": "2024-01-30T13:45:02.140352",
     "status": "completed"
    },
    "tags": []
   },
   "source": [
    "Weather forecast"
   ]
  },
  {
   "cell_type": "code",
   "execution_count": 7,
   "id": "9e2b8240",
   "metadata": {
    "execution": {
     "iopub.execute_input": "2024-01-30T13:45:02.270334Z",
     "iopub.status.busy": "2024-01-30T13:45:02.268100Z",
     "iopub.status.idle": "2024-01-30T13:45:05.701097Z",
     "shell.execute_reply": "2024-01-30T13:45:05.699620Z"
    },
    "papermill": {
     "duration": 3.459215,
     "end_time": "2024-01-30T13:45:05.704340",
     "exception": false,
     "start_time": "2024-01-30T13:45:02.245125",
     "status": "completed"
    },
    "tags": []
   },
   "outputs": [],
   "source": [
    "# Keeps only forecast for the next day\n",
    "df_weather =  df_weather.loc[(df_weather.hours_ahead>=22) & (df_weather.hours_ahead<=45)]\n",
    "# primary key\n",
    "df_weather['cle_lat-long'] = df_weather.latitude.astype(str) + \"-\" + df_weather.longitude.astype(str)"
   ]
  },
  {
   "cell_type": "code",
   "execution_count": 8,
   "id": "42b482ea",
   "metadata": {
    "execution": {
     "iopub.execute_input": "2024-01-30T13:45:05.748659Z",
     "iopub.status.busy": "2024-01-30T13:45:05.748190Z",
     "iopub.status.idle": "2024-01-30T13:45:06.984896Z",
     "shell.execute_reply": "2024-01-30T13:45:06.983688Z"
    },
    "papermill": {
     "duration": 1.262116,
     "end_time": "2024-01-30T13:45:06.987701",
     "exception": false,
     "start_time": "2024-01-30T13:45:05.725585",
     "status": "completed"
    },
    "tags": []
   },
   "outputs": [],
   "source": [
    "# Join to add county to each lat-long key\n",
    "df_forecast_w_per_county = pd.merge(df_weather, df_stations_county_mapping, on='cle_lat-long')"
   ]
  },
  {
   "cell_type": "code",
   "execution_count": 9,
   "id": "99284b2f",
   "metadata": {
    "execution": {
     "iopub.execute_input": "2024-01-30T13:45:07.033239Z",
     "iopub.status.busy": "2024-01-30T13:45:07.032827Z",
     "iopub.status.idle": "2024-01-30T13:45:07.770849Z",
     "shell.execute_reply": "2024-01-30T13:45:07.769613Z"
    },
    "papermill": {
     "duration": 0.763522,
     "end_time": "2024-01-30T13:45:07.773647",
     "exception": false,
     "start_time": "2024-01-30T13:45:07.010125",
     "status": "completed"
    },
    "tags": []
   },
   "outputs": [],
   "source": [
    "# Agg measures per county per hour\n",
    "# as_index= False to preserve hourly measures\n",
    "df_forecast_w_per_county = df_forecast_w_per_county.groupby(['forecast_datetime', 'county'], as_index=False)\\\n",
    ".agg({'temperature': ['min', 'mean', 'max'],\\\n",
    "      'dewpoint': 'mean',\\\n",
    "      '10_metre_u_wind_component': 'mean',\\\n",
    "      'direct_solar_radiation': ['mean', 'max'],\\\n",
    "      'surface_solar_radiation_downwards' : ['mean', 'max']\n",
    "     })\n",
    "\n",
    "# Flatten multi-level columns\n",
    "df_forecast_w_per_county.columns = [\"_\".join(a) for a in df_forecast_w_per_county.columns.to_flat_index()]\n",
    "df_forecast_w_per_county.rename(columns={'forecast_datetime_':'datetime','county_':'county'}, inplace=True)"
   ]
  },
  {
   "cell_type": "code",
   "execution_count": 10,
   "id": "9647de7e",
   "metadata": {
    "execution": {
     "iopub.execute_input": "2024-01-30T13:45:07.817748Z",
     "iopub.status.busy": "2024-01-30T13:45:07.817358Z",
     "iopub.status.idle": "2024-01-30T13:45:07.885371Z",
     "shell.execute_reply": "2024-01-30T13:45:07.884267Z"
    },
    "papermill": {
     "duration": 0.093228,
     "end_time": "2024-01-30T13:45:07.888177",
     "exception": false,
     "start_time": "2024-01-30T13:45:07.794949",
     "status": "completed"
    },
    "tags": []
   },
   "outputs": [],
   "source": [
    "df_forecast_w_per_county['county'] = df_forecast_w_per_county.county.astype(int)\n",
    "df_forecast_w_per_county['datetime'] = pd.to_datetime(df_forecast_w_per_county['datetime'], format='%Y-%m-%d %H:%M:%S')\n",
    "df_forecast_w_per_county['datetime'] = df_forecast_w_per_county['datetime'].dt.tz_localize('UTC')"
   ]
  },
  {
   "cell_type": "markdown",
   "id": "39243617",
   "metadata": {
    "execution": {
     "iopub.execute_input": "2024-01-19T17:13:51.791034Z",
     "iopub.status.busy": "2024-01-19T17:13:51.789886Z",
     "iopub.status.idle": "2024-01-19T17:13:51.800901Z",
     "shell.execute_reply": "2024-01-19T17:13:51.799672Z",
     "shell.execute_reply.started": "2024-01-19T17:13:51.790985Z"
    },
    "papermill": {
     "duration": 0.020924,
     "end_time": "2024-01-30T13:45:07.930610",
     "exception": false,
     "start_time": "2024-01-30T13:45:07.909686",
     "status": "completed"
    },
    "tags": []
   },
   "source": [
    "Keep forecast_datetime as object or reduced to day precision after merge or groupby"
   ]
  },
  {
   "cell_type": "markdown",
   "id": "0ba57ad3",
   "metadata": {
    "papermill": {
     "duration": 0.020587,
     "end_time": "2024-01-30T13:45:07.972393",
     "exception": false,
     "start_time": "2024-01-30T13:45:07.951806",
     "status": "completed"
    },
    "tags": []
   },
   "source": [
    "Client"
   ]
  },
  {
   "cell_type": "code",
   "execution_count": 11,
   "id": "a30fcc41",
   "metadata": {
    "execution": {
     "iopub.execute_input": "2024-01-30T13:45:08.016128Z",
     "iopub.status.busy": "2024-01-30T13:45:08.015723Z",
     "iopub.status.idle": "2024-01-30T13:45:08.038703Z",
     "shell.execute_reply": "2024-01-30T13:45:08.037614Z"
    },
    "papermill": {
     "duration": 0.048263,
     "end_time": "2024-01-30T13:45:08.041569",
     "exception": false,
     "start_time": "2024-01-30T13:45:07.993306",
     "status": "completed"
    },
    "tags": []
   },
   "outputs": [],
   "source": [
    "df_client[\"date\"] = pd.to_datetime(df_client.date)\n",
    "# Date where the measure is received\n",
    "# Converts to str to join as key later\n",
    "#df_client[\"datetime_day\"] = (df_client[\"date\"] + timedelta(days=2)).dt.strftime('%Y-%m-%d')\n",
    "df_client[\"datetime_day\"] = (df_client[\"date\"] + timedelta(days=2)).dt.tz_localize('UTC')\n",
    "\n",
    "df_client = df_client[['datetime_day','county','is_business','product_type','eic_count','installed_capacity']]"
   ]
  },
  {
   "cell_type": "markdown",
   "id": "1ef26823",
   "metadata": {
    "papermill": {
     "duration": 0.020472,
     "end_time": "2024-01-30T13:45:08.083123",
     "exception": false,
     "start_time": "2024-01-30T13:45:08.062651",
     "status": "completed"
    },
    "tags": []
   },
   "source": [
    "gas et elec nothing to change. Forecast_date already set, as object.<br>\n",
    "Beware : electricity/h, gas/d"
   ]
  },
  {
   "cell_type": "code",
   "execution_count": 12,
   "id": "96f8aebe",
   "metadata": {
    "execution": {
     "iopub.execute_input": "2024-01-30T13:45:08.126929Z",
     "iopub.status.busy": "2024-01-30T13:45:08.126539Z",
     "iopub.status.idle": "2024-01-30T13:45:08.137681Z",
     "shell.execute_reply": "2024-01-30T13:45:08.136470Z"
    },
    "papermill": {
     "duration": 0.03596,
     "end_time": "2024-01-30T13:45:08.140045",
     "exception": false,
     "start_time": "2024-01-30T13:45:08.104085",
     "status": "completed"
    },
    "tags": []
   },
   "outputs": [],
   "source": [
    "df_gas.rename(columns={'forecast_date':'datetime_day'}, inplace=True)\n",
    "\n",
    "df_gas[\"datetime_day\"] = pd.to_datetime(df_gas.datetime_day)\n",
    "#df_gas[\"datetime_day\"] = (df_gas[\"date\"] + timedelta(days=1)).dt.strftime('%Y-%m-%d')\n",
    "df_gas[\"datetime_day\"] = (df_gas[\"datetime_day\"] + timedelta(days=1)).dt.tz_localize('UTC')\n",
    "\n",
    "df_gas = df_gas[['datetime_day','lowest_price_per_mwh','highest_price_per_mwh']]"
   ]
  },
  {
   "cell_type": "code",
   "execution_count": 13,
   "id": "35059ba7",
   "metadata": {
    "execution": {
     "iopub.execute_input": "2024-01-30T13:45:08.184108Z",
     "iopub.status.busy": "2024-01-30T13:45:08.183357Z",
     "iopub.status.idle": "2024-01-30T13:45:08.201315Z",
     "shell.execute_reply": "2024-01-30T13:45:08.200144Z"
    },
    "papermill": {
     "duration": 0.042778,
     "end_time": "2024-01-30T13:45:08.203948",
     "exception": false,
     "start_time": "2024-01-30T13:45:08.161170",
     "status": "completed"
    },
    "tags": []
   },
   "outputs": [],
   "source": [
    "df_electricity['datetime'] = pd.to_datetime(df_electricity['forecast_date'], format='%Y-%m-%d %H:%M:%S')\n",
    "df_electricity['datetime'] = (df_electricity['datetime'] + timedelta(days=1)).dt.tz_localize('UTC')\n",
    "df_electricity = df_electricity[['datetime','euros_per_mwh']]"
   ]
  },
  {
   "cell_type": "markdown",
   "id": "baea9c90",
   "metadata": {
    "papermill": {
     "duration": 0.020553,
     "end_time": "2024-01-30T13:45:08.245625",
     "exception": false,
     "start_time": "2024-01-30T13:45:08.225072",
     "status": "completed"
    },
    "tags": []
   },
   "source": [
    "## Fourier transform and out-of-sample"
   ]
  },
  {
   "cell_type": "markdown",
   "id": "566b5d4f",
   "metadata": {
    "papermill": {
     "duration": 0.020489,
     "end_time": "2024-01-30T13:45:08.286987",
     "exception": false,
     "start_time": "2024-01-30T13:45:08.266498",
     "status": "completed"
    },
    "tags": []
   },
   "source": [
    "We want to isolate only pid where measure are complete for training.<br>\n",
    "Extrapolate on missing data would have been possible, but data is sufficient for proper training.<br>\n",
    "Some pid (68 i.e.) have way too much missing values, we want to keep them away."
   ]
  },
  {
   "cell_type": "code",
   "execution_count": 14,
   "id": "dfc1b7d0",
   "metadata": {
    "execution": {
     "iopub.execute_input": "2024-01-30T13:45:08.331688Z",
     "iopub.status.busy": "2024-01-30T13:45:08.331298Z",
     "iopub.status.idle": "2024-01-30T13:45:08.441772Z",
     "shell.execute_reply": "2024-01-30T13:45:08.440296Z"
    },
    "papermill": {
     "duration": 0.135805,
     "end_time": "2024-01-30T13:45:08.444637",
     "exception": false,
     "start_time": "2024-01-30T13:45:08.308832",
     "status": "completed"
    },
    "tags": []
   },
   "outputs": [
    {
     "name": "stdout",
     "output_type": "stream",
     "text": [
      "56 prediction_unit_id are complete out of 69\n"
     ]
    }
   ],
   "source": [
    "df_conso = df_train[df_train.is_consumption==1].copy()\n",
    "\n",
    "df_full_pid = df_conso.groupby('prediction_unit_id').size().reset_index(name='count')\n",
    "\n",
    "pid_is_complete = df_full_pid['count'].max()\n",
    "df_full_pid = df_full_pid[df_full_pid['count'] == pid_is_complete]\n",
    "\n",
    "print(\"{} prediction_unit_id are complete out of 69\".format(df_full_pid.shape[0]))\n",
    "\n",
    "del df_conso"
   ]
  },
  {
   "cell_type": "code",
   "execution_count": 15,
   "id": "8b4b3657",
   "metadata": {
    "execution": {
     "iopub.execute_input": "2024-01-30T13:45:08.489399Z",
     "iopub.status.busy": "2024-01-30T13:45:08.488701Z",
     "iopub.status.idle": "2024-01-30T13:45:08.512722Z",
     "shell.execute_reply": "2024-01-30T13:45:08.511534Z"
    },
    "papermill": {
     "duration": 0.049343,
     "end_time": "2024-01-30T13:45:08.515379",
     "exception": false,
     "start_time": "2024-01-30T13:45:08.466036",
     "status": "completed"
    },
    "tags": []
   },
   "outputs": [
    {
     "data": {
      "text/plain": [
       "datetime           \n",
       "2022-10-30 03:00:00    136\n",
       "2022-03-27 03:00:00    134\n",
       "2023-03-26 03:00:00    132\n",
       "2021-10-31 03:00:00    126\n",
       "Name: count, dtype: int64"
      ]
     },
     "execution_count": 15,
     "metadata": {},
     "output_type": "execute_result"
    }
   ],
   "source": [
    "# Some target are nulls.\n",
    "# They are observed during daytime change, summer and winter\n",
    "df_train[['datetime']].loc[df_train.target.isnull()].value_counts()"
   ]
  },
  {
   "cell_type": "code",
   "execution_count": 16,
   "id": "b7a068c7",
   "metadata": {
    "execution": {
     "iopub.execute_input": "2024-01-30T13:45:08.560754Z",
     "iopub.status.busy": "2024-01-30T13:45:08.559920Z",
     "iopub.status.idle": "2024-01-30T13:45:08.679142Z",
     "shell.execute_reply": "2024-01-30T13:45:08.677717Z"
    },
    "papermill": {
     "duration": 0.145219,
     "end_time": "2024-01-30T13:45:08.682320",
     "exception": false,
     "start_time": "2024-01-30T13:45:08.537101",
     "status": "completed"
    },
    "tags": []
   },
   "outputs": [],
   "source": [
    "# We can drop them, no need to interpolate\n",
    "df_train.dropna(subset=['target'], inplace=True)"
   ]
  },
  {
   "cell_type": "code",
   "execution_count": 17,
   "id": "cb469786",
   "metadata": {
    "execution": {
     "iopub.execute_input": "2024-01-30T13:45:08.727518Z",
     "iopub.status.busy": "2024-01-30T13:45:08.727076Z",
     "iopub.status.idle": "2024-01-30T13:45:09.114220Z",
     "shell.execute_reply": "2024-01-30T13:45:09.112938Z"
    },
    "papermill": {
     "duration": 0.413349,
     "end_time": "2024-01-30T13:45:09.117188",
     "exception": false,
     "start_time": "2024-01-30T13:45:08.703839",
     "status": "completed"
    },
    "tags": []
   },
   "outputs": [],
   "source": [
    "df_full_pid_conso = df_train.loc[df_train.is_consumption==1].merge(\\\n",
    "                        df_full_pid[['prediction_unit_id']], on='prediction_unit_id', how='inner')\n",
    "\n",
    "df_full_pid_prod = df_train.loc[df_train.is_consumption==0].merge(\\\n",
    "                        df_full_pid[['prediction_unit_id']], on='prediction_unit_id', how='inner')"
   ]
  },
  {
   "cell_type": "markdown",
   "id": "cc9f9064",
   "metadata": {
    "papermill": {
     "duration": 0.021095,
     "end_time": "2024-01-30T13:45:09.159706",
     "exception": false,
     "start_time": "2024-01-30T13:45:09.138611",
     "status": "completed"
    },
    "tags": []
   },
   "source": [
    "#### Functions definition"
   ]
  },
  {
   "cell_type": "code",
   "execution_count": 18,
   "id": "42ddc4a8",
   "metadata": {
    "execution": {
     "iopub.execute_input": "2024-01-30T13:45:09.204151Z",
     "iopub.status.busy": "2024-01-30T13:45:09.203715Z",
     "iopub.status.idle": "2024-01-30T13:45:09.211180Z",
     "shell.execute_reply": "2024-01-30T13:45:09.209997Z"
    },
    "papermill": {
     "duration": 0.032541,
     "end_time": "2024-01-30T13:45:09.213519",
     "exception": false,
     "start_time": "2024-01-30T13:45:09.180978",
     "status": "completed"
    },
    "tags": []
   },
   "outputs": [],
   "source": [
    "def fourier_features(index, freq, order):\n",
    "    time = np.arange(len(index), dtype=np.float32)\n",
    "    k = 2 * np.pi * (1 / freq) * time\n",
    "    features = {}\n",
    "    for i in range(1, order + 1):\n",
    "        features.update({\n",
    "            f\"sin_{freq}_{i}\": np.sin(i * k),\n",
    "            f\"cos_{freq}_{i}\": np.cos(i * k),\n",
    "        })\n",
    "    return pd.DataFrame(features, index=index)"
   ]
  },
  {
   "cell_type": "code",
   "execution_count": 19,
   "id": "20c3f802",
   "metadata": {
    "execution": {
     "iopub.execute_input": "2024-01-30T13:45:09.258582Z",
     "iopub.status.busy": "2024-01-30T13:45:09.258093Z",
     "iopub.status.idle": "2024-01-30T13:45:09.271635Z",
     "shell.execute_reply": "2024-01-30T13:45:09.270473Z"
    },
    "papermill": {
     "duration": 0.03883,
     "end_time": "2024-01-30T13:45:09.274029",
     "exception": false,
     "start_time": "2024-01-30T13:45:09.235199",
     "status": "completed"
    },
    "tags": []
   },
   "outputs": [],
   "source": [
    "def add_season(df, consumption, group):\n",
    "    ''' Adds the seasonal Fourier in and out of sample, up to the end of the competition, per hour'''\n",
    "    \n",
    "    df_fourier = df.loc[ df.prediction_unit_id == group ]\n",
    "    # str -> datetime, then as index\n",
    "    df_fourier['datetime'] = pd.to_datetime(df_fourier['datetime'], format='%Y-%m-%d %H:%M:%S')\n",
    "    df_fourier = df_fourier.set_index('datetime').sort_index(ascending=True)\n",
    "    # remove timezone aware from index\n",
    "    df_fourier.index = df_fourier.index.tz_localize(None)\n",
    "    \n",
    "    # Orders are not the same for production and consumption.\n",
    "    # See periodogram in the dedicated notebook\n",
    "    nb_f = 4 if consumption==True else 3\n",
    "    \n",
    "    fourier = CalendarFourier(freq=\"A\", order=nb_f)\n",
    "\n",
    "    dp = DeterministicProcess(\n",
    "        # Need to pass index as period, otherwise won't work\n",
    "        index=df_fourier.index.to_period(\"H\"), #slice the index with in sample only\n",
    "        constant=True,               # dummy feature for bias (y-intercept)\n",
    "        order=1,                     # trend (order 1 means linear)\n",
    "        seasonal=True,               # weekly seasonality (indicators)\n",
    "        additional_terms=[fourier],  # annual seasonality (fourier)\n",
    "        drop=True                    # drop terms to avoid collinearity\n",
    "    )\n",
    "\n",
    "    # in-sample\n",
    "    X = dp.in_sample()\n",
    "    y = df_fourier['target']\n",
    "\n",
    "    model = LinearRegression(fit_intercept=False)\n",
    "    _ = model.fit(X, y)\n",
    "\n",
    "    y_pred = pd.Series(model.predict(X), index=y.index)\n",
    "\n",
    "    # There are 5880 more rows between 31-05-2022 and 02-06-2024\n",
    "    # This should be the largest 'real data' test possible\n",
    "    X_fore = dp.out_of_sample(steps=8820)\n",
    "    y_fore = pd.Series(model.predict(X_fore), index=X_fore.index)\n",
    "\n",
    "    # Concatenate in and out of sample\n",
    "    y_fore.index = y_fore.index.to_timestamp()\n",
    "    y_season = pd.concat([y_pred, y_fore])\n",
    "\n",
    "    df_season = pd.DataFrame(y_season, columns=['seasonality'])\n",
    "    \n",
    "    df_fourier = df_fourier.join(df_season, how='right')\n",
    "    # Fill pid for out of sample values\n",
    "    df_fourier['prediction_unit_id'] = group\n",
    "    df_fourier['is_consumption'] = 1 if consumption==True else 0\n",
    "\n",
    "\n",
    "    return df_fourier"
   ]
  },
  {
   "cell_type": "code",
   "execution_count": 20,
   "id": "5bca2f95",
   "metadata": {
    "execution": {
     "iopub.execute_input": "2024-01-30T13:45:09.319296Z",
     "iopub.status.busy": "2024-01-30T13:45:09.318906Z",
     "iopub.status.idle": "2024-01-30T13:45:09.327286Z",
     "shell.execute_reply": "2024-01-30T13:45:09.326441Z"
    },
    "papermill": {
     "duration": 0.033744,
     "end_time": "2024-01-30T13:45:09.329455",
     "exception": false,
     "start_time": "2024-01-30T13:45:09.295711",
     "status": "completed"
    },
    "tags": []
   },
   "outputs": [],
   "source": [
    "def add_median_columns(df_in):\n",
    "    \n",
    "    # Consumption and production can't be below 0. Floor Fourier functions to 0.\n",
    "    #df_in.loc[df_in.seasonality < 0, 'seasonality'] = 0\n",
    "\n",
    "    # Seasonality per county\n",
    "    df_gp = df_in.groupby(['datetime','county'])['seasonality'].median().reset_index()\n",
    "    df_gp.rename(columns={'seasonality':'med_st_county'}, inplace=True)\n",
    "    df_in = pd.merge(df_in, df_gp, on=['datetime', 'county'])\n",
    "\n",
    "    # Seasonality per business\n",
    "    df_gp = df_in.groupby(['datetime','is_business'])['seasonality'].median().reset_index()\n",
    "    df_gp.rename(columns={'seasonality':'med_st_business'}, inplace=True)\n",
    "    df_in = pd.merge(df_in, df_gp, on=['datetime', 'is_business'])\n",
    "\n",
    "    # Seasonality per product\n",
    "    df_gp = df_in.groupby(['datetime','product_type'])['seasonality'].median().reset_index()\n",
    "    df_gp.rename(columns={'seasonality':'med_st_product_type'}, inplace=True)\n",
    "    df_in = pd.merge(df_in, df_gp, on=['datetime', 'product_type'])\n",
    "\n",
    "    return df_in"
   ]
  },
  {
   "cell_type": "code",
   "execution_count": 21,
   "id": "b45ec0f2",
   "metadata": {
    "execution": {
     "iopub.execute_input": "2024-01-30T13:45:09.374523Z",
     "iopub.status.busy": "2024-01-30T13:45:09.373907Z",
     "iopub.status.idle": "2024-01-30T13:45:09.383423Z",
     "shell.execute_reply": "2024-01-30T13:45:09.382583Z"
    },
    "papermill": {
     "duration": 0.035,
     "end_time": "2024-01-30T13:45:09.385625",
     "exception": false,
     "start_time": "2024-01-30T13:45:09.350625",
     "status": "completed"
    },
    "tags": []
   },
   "outputs": [],
   "source": [
    "def optim_coeffs(df_in):\n",
    "    \n",
    "    df_optim = df_in[df_in['target'].notna()]\n",
    "\n",
    "    # Define the coefficients\n",
    "    x = np.random.rand()\n",
    "    y = np.random.rand()\n",
    "    z = np.random.rand()\n",
    "    \n",
    "    def f(coefficients):\n",
    "        ''' Define the function to minimize'''\n",
    "        x, y, z = coefficients\n",
    "        return np.sum((x * df_optim['med_st_county'] + y * df_optim['med_st_business'] + z * df_optim['med_st_product_type'] - df_optim['target']) ** 2)\n",
    "    \n",
    "    # Minimize the function\n",
    "    res = minimize(f, [x, y, z])\n",
    "\n",
    "    x_opt = res.x[0]\n",
    "    y_opt = res.x[1]\n",
    "    z_opt = res.x[2]\n",
    "    coeffs = [x_opt, y_opt, z_opt]\n",
    "\n",
    "    df_in['st_target'] = x_opt*df_in.med_st_county + y_opt*df_in.med_st_business + z_opt*df_in.med_st_product_type\n",
    "    df_in['residuals'] = df_in.target - df_in.st_target\n",
    "    \n",
    "    return df_in, coeffs"
   ]
  },
  {
   "cell_type": "code",
   "execution_count": 22,
   "id": "b8f98924",
   "metadata": {
    "execution": {
     "iopub.execute_input": "2024-01-30T13:45:09.430483Z",
     "iopub.status.busy": "2024-01-30T13:45:09.429377Z",
     "iopub.status.idle": "2024-01-30T13:45:09.438762Z",
     "shell.execute_reply": "2024-01-30T13:45:09.437613Z"
    },
    "papermill": {
     "duration": 0.034663,
     "end_time": "2024-01-30T13:45:09.441452",
     "exception": false,
     "start_time": "2024-01-30T13:45:09.406789",
     "status": "completed"
    },
    "tags": []
   },
   "outputs": [],
   "source": [
    "def extract_date_components(df_in):\n",
    "    '''Feature engineering for dates.\n",
    "    Add datetime day, holiday, and datetime components'''\n",
    "    \n",
    "    df_in['datetime_day'] = df_in['datetime'].dt.date\n",
    "    df_in['datetime_day'] = pd.to_datetime(df_in['datetime_day'], format='%Y-%m-%d')\n",
    "    \n",
    "    # Add Estonian holiday column, based on the previous one\n",
    "    est_holidays = holidays.Estonia(years=[2021, 2022, 2023, 2024])\n",
    "    df_in['holiday'] = df_in['datetime_day'].apply(lambda x: 1 if x in est_holidays else 0)\n",
    "    \n",
    "    # Create new columns from date column\n",
    "    df_in['week_of_year'] = df_in['datetime'].dt.isocalendar().week.astype(int)\n",
    "    df_in['day_of_week'] = df_in['datetime'].dt.dayofweek.astype(int)\n",
    "    df_in['day_of_year'] = df_in['datetime'].dt.dayofyear.astype(int)\n",
    "    df_in['hour_of_day'] = df_in['datetime'].dt.hour.astype(int)\n",
    "    df_in['month'] = df_in['datetime'].dt.month.astype(int)\n",
    "    \n",
    "    return df_in"
   ]
  },
  {
   "cell_type": "code",
   "execution_count": 23,
   "id": "2eafa7df",
   "metadata": {
    "execution": {
     "iopub.execute_input": "2024-01-30T13:45:09.487087Z",
     "iopub.status.busy": "2024-01-30T13:45:09.486697Z",
     "iopub.status.idle": "2024-01-30T13:45:09.495843Z",
     "shell.execute_reply": "2024-01-30T13:45:09.494569Z"
    },
    "papermill": {
     "duration": 0.035736,
     "end_time": "2024-01-30T13:45:09.498404",
     "exception": false,
     "start_time": "2024-01-30T13:45:09.462668",
     "status": "completed"
    },
    "tags": []
   },
   "outputs": [],
   "source": [
    "def run_fourier_and_optim(df_in, consumption, pid_list): \n",
    "    \n",
    "    df_list = []\n",
    "\n",
    "    for p in pids:\n",
    "        df_list.append( add_season(df_in, consumption=consumption, group=p) )\n",
    "    \n",
    "    df_fourier = pd.concat(df_list)\n",
    "\n",
    "    # Datetime back as column, no timezone\n",
    "    df_fourier.reset_index(inplace=True)\n",
    "    df_fourier.rename(columns={'index':'datetime'},inplace=True)\n",
    "    df_fourier['datetime'] = df_fourier['datetime'].dt.tz_localize('UTC')\n",
    "    \n",
    "    # Feature Engineering for datetime column\n",
    "    df_fourier = extract_date_components(df_fourier)\n",
    "    df_fourier['datetime_day'] = df_fourier['datetime_day'].dt.tz_localize('UTC')\n",
    "    \n",
    "    # Add 'county','is_business','product_type' to out of sample. Join with distinct pid combinations\n",
    "    df_fourier = pd.merge(df_fourier.drop(columns=['county','is_business','product_type']), df_distinct, on=['prediction_unit_id'], how='left')\n",
    "\n",
    "    # Median columns calculation\n",
    "    df_fourier = add_median_columns(df_fourier)\n",
    "    \n",
    "    # Coeff optimisation\n",
    "    df_fourier, coeffs = optim_coeffs(df_fourier)\n",
    "\n",
    "    return df_fourier.drop(columns=['data_block_id']), coeffs"
   ]
  },
  {
   "cell_type": "code",
   "execution_count": 24,
   "id": "475ba24f",
   "metadata": {
    "execution": {
     "iopub.execute_input": "2024-01-30T13:45:09.544566Z",
     "iopub.status.busy": "2024-01-30T13:45:09.544148Z",
     "iopub.status.idle": "2024-01-30T13:45:09.551614Z",
     "shell.execute_reply": "2024-01-30T13:45:09.550327Z"
    },
    "papermill": {
     "duration": 0.033244,
     "end_time": "2024-01-30T13:45:09.553928",
     "exception": false,
     "start_time": "2024-01-30T13:45:09.520684",
     "status": "completed"
    },
    "tags": []
   },
   "outputs": [],
   "source": [
    "def unite_dfs(df_in, client, gas, elec, weather_forecast):\n",
    "    ''' Merge all DataFrames into one'''\n",
    "    \n",
    "    df_unite = pd.merge(df_in, client, on=['datetime_day', 'county', 'is_business', 'product_type'], how='left')\n",
    "    df_unite = pd.merge(df_unite, gas, on=['datetime_day'], how='left')\n",
    "    df_unite = pd.merge(df_unite, elec, on=['datetime'], how='left')\n",
    "    df_unite = pd.merge(df_unite, weather_forecast, on=['datetime','county'], how='left')\n",
    "    \n",
    "    return df_unite"
   ]
  },
  {
   "cell_type": "code",
   "execution_count": 25,
   "id": "9188ba3d",
   "metadata": {
    "execution": {
     "iopub.execute_input": "2024-01-30T13:45:09.599283Z",
     "iopub.status.busy": "2024-01-30T13:45:09.598862Z",
     "iopub.status.idle": "2024-01-30T13:45:09.608968Z",
     "shell.execute_reply": "2024-01-30T13:45:09.607684Z"
    },
    "papermill": {
     "duration": 0.035754,
     "end_time": "2024-01-30T13:45:09.611477",
     "exception": false,
     "start_time": "2024-01-30T13:45:09.575723",
     "status": "completed"
    },
    "tags": []
   },
   "outputs": [],
   "source": [
    "def generate_FE_columns(df_in):\n",
    "\n",
    "    df_in['ssrd_mean*temp_mean'] = df_in.surface_solar_radiation_downwards_mean * df_in.temperature_mean\n",
    "    df_in['ssrd_mean*temp_max'] = df_in.surface_solar_radiation_downwards_mean * df_in.temperature_max\n",
    "    df_in['ssrd_mean*hod'] = df_in.surface_solar_radiation_downwards_mean * df_in.hour_of_day\n",
    "    df_in['ssrd_mean*eic'] = df_in.surface_solar_radiation_downwards_mean * df_in.eic_count\n",
    "    df_in['ssrd_max*eic'] = df_in.surface_solar_radiation_downwards_max * df_in.eic_count\n",
    "    df_in['ssrd_mean*capacity'] = df_in.surface_solar_radiation_downwards_mean * df_in.installed_capacity\n",
    "    df_in['ssrd_max*capacity'] = df_in.surface_solar_radiation_downwards_max * df_in.installed_capacity\n",
    "    df_in['ssrd_mean*dsr_mean'] = df_in.surface_solar_radiation_downwards_mean * df_in.direct_solar_radiation_mean\n",
    "    df_in['ssrd_max*dsr_mean'] = df_in.surface_solar_radiation_downwards_max * df_in.direct_solar_radiation_mean\n",
    "    \n",
    "    df_in['temp_max*hod'] = df_in.temperature_max * df_in.hour_of_day\n",
    "    df_in['temp_max*dsr_max'] = df_in.temperature_max * df_in.direct_solar_radiation_max\n",
    "    df_in['temp_min*capacity'] = df_in.temperature_min * df_in.installed_capacity\n",
    "    \n",
    "    df_in['dsr_mean*dsr_max'] = df_in.direct_solar_radiation_mean * df_in.direct_solar_radiation_max\n",
    "    \n",
    "    df_in['capacity*business'] = df_in.installed_capacity * df_in.is_business\n",
    "    df_in['holiday*eic'] = df_in.holiday * df_in.eic_count\n",
    "    \n",
    "    df_in['sqrt_capacity'] = df_in.installed_capacity ** 0.5\n",
    "    \n",
    "    return df_in"
   ]
  },
  {
   "cell_type": "code",
   "execution_count": 26,
   "id": "32b7437b",
   "metadata": {
    "execution": {
     "iopub.execute_input": "2024-01-30T13:45:09.657458Z",
     "iopub.status.busy": "2024-01-30T13:45:09.656975Z",
     "iopub.status.idle": "2024-01-30T13:45:09.664443Z",
     "shell.execute_reply": "2024-01-30T13:45:09.663017Z"
    },
    "papermill": {
     "duration": 0.033835,
     "end_time": "2024-01-30T13:45:09.667468",
     "exception": false,
     "start_time": "2024-01-30T13:45:09.633633",
     "status": "completed"
    },
    "tags": []
   },
   "outputs": [],
   "source": [
    "def interpolate_per_pids(df, group):\n",
    "    '''Interpolate null Target values.\n",
    "    Per given group'''\n",
    "    \n",
    "    # Handle on selected group, in-sample data, for training\n",
    "    df_extract = df.loc[df['prediction_unit_id'] == group].copy()\n",
    "\n",
    "    # Datetime has to be passed to index to interpolate\n",
    "    df_extract.set_index('datetime', inplace=True)\n",
    "    df_extract.sort_index(ascending=True, inplace=True)\n",
    "\n",
    "    # The pad method fills the missing values with the last known value in the column.\n",
    "    df_extract.interpolate(method='pad', inplace=True)\n",
    "\n",
    "    # Bring datetime back to column. Easier for future pd.contact for each group\n",
    "    return df_extract.reset_index()\n"
   ]
  },
  {
   "cell_type": "markdown",
   "id": "fec1c222",
   "metadata": {
    "papermill": {
     "duration": 0.02215,
     "end_time": "2024-01-30T13:45:09.711552",
     "exception": false,
     "start_time": "2024-01-30T13:45:09.689402",
     "status": "completed"
    },
    "tags": []
   },
   "source": [
    "#### Run Fourier transform"
   ]
  },
  {
   "cell_type": "code",
   "execution_count": 27,
   "id": "7b97f3d3",
   "metadata": {
    "execution": {
     "iopub.execute_input": "2024-01-30T13:45:09.756798Z",
     "iopub.status.busy": "2024-01-30T13:45:09.756404Z",
     "iopub.status.idle": "2024-01-30T13:45:10.029319Z",
     "shell.execute_reply": "2024-01-30T13:45:10.028143Z"
    },
    "papermill": {
     "duration": 0.298758,
     "end_time": "2024-01-30T13:45:10.032137",
     "exception": false,
     "start_time": "2024-01-30T13:45:09.733379",
     "status": "completed"
    },
    "tags": []
   },
   "outputs": [],
   "source": [
    "d_dfs_in = {\n",
    "    \"df_in\":[df_full_pid_conso, df_full_pid_prod],\n",
    "    \"consumption\":[True, False]\n",
    "}\n",
    "\n",
    "# List of all unique pids\n",
    "pids = set(df_full_pid_conso.prediction_unit_id)\n",
    "\n",
    "df_distinct = df_train[['prediction_unit_id','county','is_business','product_type']].drop_duplicates()"
   ]
  },
  {
   "cell_type": "code",
   "execution_count": 28,
   "id": "8df3b943",
   "metadata": {
    "execution": {
     "iopub.execute_input": "2024-01-30T13:45:10.077166Z",
     "iopub.status.busy": "2024-01-30T13:45:10.076766Z",
     "iopub.status.idle": "2024-01-30T13:46:06.052658Z",
     "shell.execute_reply": "2024-01-30T13:46:06.051186Z"
    },
    "papermill": {
     "duration": 56.002322,
     "end_time": "2024-01-30T13:46:06.056090",
     "exception": false,
     "start_time": "2024-01-30T13:45:10.053768",
     "status": "completed"
    },
    "tags": []
   },
   "outputs": [],
   "source": [
    "# Add Fourier Season + Trend /county /isBusiness /Product, on prod & conso datasets separately\n",
    "df_ref_conso, coeffs_conso = run_fourier_and_optim(d_dfs_in['df_in'][0], d_dfs_in['consumption'][0], pids)\n",
    "df_ref_prod, coeffs_prod = run_fourier_and_optim(d_dfs_in['df_in'][1], d_dfs_in['consumption'][1], pids)"
   ]
  },
  {
   "cell_type": "code",
   "execution_count": 29,
   "id": "359724ff",
   "metadata": {
    "execution": {
     "iopub.execute_input": "2024-01-30T13:46:06.102759Z",
     "iopub.status.busy": "2024-01-30T13:46:06.101740Z",
     "iopub.status.idle": "2024-01-30T13:46:06.107842Z",
     "shell.execute_reply": "2024-01-30T13:46:06.106573Z"
    },
    "papermill": {
     "duration": 0.032007,
     "end_time": "2024-01-30T13:46:06.110284",
     "exception": false,
     "start_time": "2024-01-30T13:46:06.078277",
     "status": "completed"
    },
    "tags": []
   },
   "outputs": [
    {
     "name": "stdout",
     "output_type": "stream",
     "text": [
      "[1.60664488843706, 1.0218816343893593, -0.07560426762620513]\n",
      "[1.834457779476791, -2.829650187844042, 1.8828243653414085]\n"
     ]
    }
   ],
   "source": [
    "print(coeffs_conso)\n",
    "print(coeffs_prod)"
   ]
  },
  {
   "cell_type": "code",
   "execution_count": 30,
   "id": "77a5c74a",
   "metadata": {
    "execution": {
     "iopub.execute_input": "2024-01-30T13:46:06.154814Z",
     "iopub.status.busy": "2024-01-30T13:46:06.154377Z",
     "iopub.status.idle": "2024-01-30T13:46:07.586820Z",
     "shell.execute_reply": "2024-01-30T13:46:07.585750Z"
    },
    "papermill": {
     "duration": 1.458104,
     "end_time": "2024-01-30T13:46:07.589749",
     "exception": false,
     "start_time": "2024-01-30T13:46:06.131645",
     "status": "completed"
    },
    "tags": []
   },
   "outputs": [],
   "source": [
    "# Merge main DataFrames with additional Measures Datasets\n",
    "\n",
    "df_raw_conso = unite_dfs(df_ref_conso.loc[(df_ref_conso.datetime_day>='2021-09-03') & (df_ref_conso.datetime_day<='2023-05-31')],\n",
    "                           df_client, df_gas, df_electricity, df_forecast_w_per_county)\n",
    "     \n",
    "df_raw_prod = unite_dfs(df_ref_prod.loc[(df_ref_prod.datetime_day>='2021-09-03') & (df_ref_prod.datetime_day<='2023-05-31')],\n",
    "                          df_client, df_gas, df_electricity, df_forecast_w_per_county)"
   ]
  },
  {
   "cell_type": "code",
   "execution_count": 31,
   "id": "0a071874",
   "metadata": {
    "execution": {
     "iopub.execute_input": "2024-01-30T13:46:07.639736Z",
     "iopub.status.busy": "2024-01-30T13:46:07.638999Z",
     "iopub.status.idle": "2024-01-30T13:46:18.506190Z",
     "shell.execute_reply": "2024-01-30T13:46:18.504978Z"
    },
    "papermill": {
     "duration": 10.896364,
     "end_time": "2024-01-30T13:46:18.509152",
     "exception": false,
     "start_time": "2024-01-30T13:46:07.612788",
     "status": "completed"
    },
    "tags": []
   },
   "outputs": [],
   "source": [
    "# extract in-sample data, and interpolate values per PIDs\n",
    "\n",
    "col_list = df_raw_conso.columns.to_list()\n",
    "df_train_conso = pd.DataFrame(columns=col_list)\n",
    "df_train_prod = pd.DataFrame(columns=col_list)\n",
    "\n",
    "for g in list(pids):\n",
    "        df_train_conso = pd.concat([df_train_conso, interpolate_per_pids(df_raw_conso, group=g)])\n",
    "        df_train_prod = pd.concat([df_train_prod, interpolate_per_pids(df_raw_prod, group=g)])\n",
    "\n",
    "del df_raw_conso, df_raw_prod"
   ]
  },
  {
   "cell_type": "code",
   "execution_count": 32,
   "id": "139de2ea",
   "metadata": {
    "execution": {
     "iopub.execute_input": "2024-01-30T13:46:18.554224Z",
     "iopub.status.busy": "2024-01-30T13:46:18.553352Z",
     "iopub.status.idle": "2024-01-30T13:46:20.570408Z",
     "shell.execute_reply": "2024-01-30T13:46:20.569336Z"
    },
    "papermill": {
     "duration": 2.042554,
     "end_time": "2024-01-30T13:46:20.573161",
     "exception": false,
     "start_time": "2024-01-30T13:46:18.530607",
     "status": "completed"
    },
    "tags": []
   },
   "outputs": [],
   "source": [
    "# Convert columns incorrectly converted as object back to int\n",
    "obj_cols = df_train_conso.drop('datetime_day', axis=1).select_dtypes(include=[object]).columns\n",
    "\n",
    "df_train_conso[obj_cols] = df_train_conso[obj_cols].astype(int)\n",
    "df_train_prod[obj_cols] = df_train_prod[obj_cols].astype(int)"
   ]
  },
  {
   "cell_type": "code",
   "execution_count": 33,
   "id": "e9df5d64",
   "metadata": {
    "execution": {
     "iopub.execute_input": "2024-01-30T13:46:20.618460Z",
     "iopub.status.busy": "2024-01-30T13:46:20.618013Z",
     "iopub.status.idle": "2024-01-30T13:46:20.771929Z",
     "shell.execute_reply": "2024-01-30T13:46:20.770704Z"
    },
    "papermill": {
     "duration": 0.180708,
     "end_time": "2024-01-30T13:46:20.775296",
     "exception": false,
     "start_time": "2024-01-30T13:46:20.594588",
     "status": "completed"
    },
    "tags": []
   },
   "outputs": [],
   "source": [
    "# Add Feature Engineering columns\n",
    "df_train_conso = generate_FE_columns(df_train_conso)\n",
    "df_train_prod = generate_FE_columns(df_train_prod)"
   ]
  },
  {
   "cell_type": "code",
   "execution_count": 34,
   "id": "959ce6fc",
   "metadata": {
    "execution": {
     "iopub.execute_input": "2024-01-30T13:46:20.821522Z",
     "iopub.status.busy": "2024-01-30T13:46:20.821071Z",
     "iopub.status.idle": "2024-01-30T13:46:20.894117Z",
     "shell.execute_reply": "2024-01-30T13:46:20.893005Z"
    },
    "papermill": {
     "duration": 0.099215,
     "end_time": "2024-01-30T13:46:20.896627",
     "exception": false,
     "start_time": "2024-01-30T13:46:20.797412",
     "status": "completed"
    },
    "tags": []
   },
   "outputs": [
    {
     "data": {
      "text/plain": [
       "datetime                                  0\n",
       "target                                    0\n",
       "is_consumption                            0\n",
       "row_id                                    0\n",
       "prediction_unit_id                        0\n",
       "seasonality                               0\n",
       "datetime_day                              0\n",
       "holiday                                   0\n",
       "week_of_year                              0\n",
       "day_of_week                               0\n",
       "day_of_year                               0\n",
       "hour_of_day                               0\n",
       "month                                     0\n",
       "county                                    0\n",
       "is_business                               0\n",
       "product_type                              0\n",
       "med_st_county                             0\n",
       "med_st_business                           0\n",
       "med_st_product_type                       0\n",
       "st_target                                 0\n",
       "residuals                                 0\n",
       "eic_count                                 0\n",
       "installed_capacity                        0\n",
       "lowest_price_per_mwh                      0\n",
       "highest_price_per_mwh                     0\n",
       "euros_per_mwh                             0\n",
       "temperature_min                           0\n",
       "temperature_mean                          0\n",
       "temperature_max                           0\n",
       "dewpoint_mean                             0\n",
       "10_metre_u_wind_component_mean            0\n",
       "direct_solar_radiation_mean               0\n",
       "direct_solar_radiation_max                0\n",
       "surface_solar_radiation_downwards_mean    0\n",
       "surface_solar_radiation_downwards_max     0\n",
       "ssrd_mean*temp_mean                       0\n",
       "ssrd_mean*temp_max                        0\n",
       "ssrd_mean*hod                             0\n",
       "ssrd_mean*eic                             0\n",
       "ssrd_max*eic                              0\n",
       "ssrd_mean*capacity                        0\n",
       "ssrd_max*capacity                         0\n",
       "ssrd_mean*dsr_mean                        0\n",
       "ssrd_max*dsr_mean                         0\n",
       "temp_max*hod                              0\n",
       "temp_max*dsr_max                          0\n",
       "temp_min*capacity                         0\n",
       "dsr_mean*dsr_max                          0\n",
       "capacity*business                         0\n",
       "holiday*eic                               0\n",
       "sqrt_capacity                             0\n",
       "dtype: int64"
      ]
     },
     "execution_count": 34,
     "metadata": {},
     "output_type": "execute_result"
    }
   ],
   "source": [
    "df_train_conso.isnull().sum()"
   ]
  },
  {
   "cell_type": "code",
   "execution_count": 35,
   "id": "38bfb8f4",
   "metadata": {
    "execution": {
     "iopub.execute_input": "2024-01-30T13:46:20.941949Z",
     "iopub.status.busy": "2024-01-30T13:46:20.941541Z",
     "iopub.status.idle": "2024-01-30T13:46:21.015422Z",
     "shell.execute_reply": "2024-01-30T13:46:21.014315Z"
    },
    "papermill": {
     "duration": 0.099876,
     "end_time": "2024-01-30T13:46:21.018023",
     "exception": false,
     "start_time": "2024-01-30T13:46:20.918147",
     "status": "completed"
    },
    "tags": []
   },
   "outputs": [
    {
     "data": {
      "text/plain": [
       "datetime                                  0\n",
       "target                                    0\n",
       "is_consumption                            0\n",
       "row_id                                    0\n",
       "prediction_unit_id                        0\n",
       "seasonality                               0\n",
       "datetime_day                              0\n",
       "holiday                                   0\n",
       "week_of_year                              0\n",
       "day_of_week                               0\n",
       "day_of_year                               0\n",
       "hour_of_day                               0\n",
       "month                                     0\n",
       "county                                    0\n",
       "is_business                               0\n",
       "product_type                              0\n",
       "med_st_county                             0\n",
       "med_st_business                           0\n",
       "med_st_product_type                       0\n",
       "st_target                                 0\n",
       "residuals                                 0\n",
       "eic_count                                 0\n",
       "installed_capacity                        0\n",
       "lowest_price_per_mwh                      0\n",
       "highest_price_per_mwh                     0\n",
       "euros_per_mwh                             0\n",
       "temperature_min                           0\n",
       "temperature_mean                          0\n",
       "temperature_max                           0\n",
       "dewpoint_mean                             0\n",
       "10_metre_u_wind_component_mean            0\n",
       "direct_solar_radiation_mean               0\n",
       "direct_solar_radiation_max                0\n",
       "surface_solar_radiation_downwards_mean    0\n",
       "surface_solar_radiation_downwards_max     0\n",
       "ssrd_mean*temp_mean                       0\n",
       "ssrd_mean*temp_max                        0\n",
       "ssrd_mean*hod                             0\n",
       "ssrd_mean*eic                             0\n",
       "ssrd_max*eic                              0\n",
       "ssrd_mean*capacity                        0\n",
       "ssrd_max*capacity                         0\n",
       "ssrd_mean*dsr_mean                        0\n",
       "ssrd_max*dsr_mean                         0\n",
       "temp_max*hod                              0\n",
       "temp_max*dsr_max                          0\n",
       "temp_min*capacity                         0\n",
       "dsr_mean*dsr_max                          0\n",
       "capacity*business                         0\n",
       "holiday*eic                               0\n",
       "sqrt_capacity                             0\n",
       "dtype: int64"
      ]
     },
     "execution_count": 35,
     "metadata": {},
     "output_type": "execute_result"
    }
   ],
   "source": [
    "df_train_prod.isnull().sum()"
   ]
  },
  {
   "cell_type": "markdown",
   "id": "cdf14ae0",
   "metadata": {
    "papermill": {
     "duration": 0.022145,
     "end_time": "2024-01-30T13:46:21.062783",
     "exception": false,
     "start_time": "2024-01-30T13:46:21.040638",
     "status": "completed"
    },
    "tags": []
   },
   "source": [
    "# Train & Fit Model"
   ]
  },
  {
   "cell_type": "markdown",
   "id": "cbc9774b",
   "metadata": {
    "papermill": {
     "duration": 0.021652,
     "end_time": "2024-01-30T13:46:21.106864",
     "exception": false,
     "start_time": "2024-01-30T13:46:21.085212",
     "status": "completed"
    },
    "tags": []
   },
   "source": [
    "Stratify per month before train, in order to have the closest 'target' distribution on each set<br> *(train, test, validate. For CONSO & PROD)*.<br>\n",
    "We also focus the training on months to forecast"
   ]
  },
  {
   "cell_type": "code",
   "execution_count": 36,
   "id": "2bbb5756",
   "metadata": {
    "execution": {
     "iopub.execute_input": "2024-01-30T13:46:21.152850Z",
     "iopub.status.busy": "2024-01-30T13:46:21.152434Z",
     "iopub.status.idle": "2024-01-30T13:46:22.104765Z",
     "shell.execute_reply": "2024-01-30T13:46:22.103675Z"
    },
    "papermill": {
     "duration": 0.978603,
     "end_time": "2024-01-30T13:46:22.107445",
     "exception": false,
     "start_time": "2024-01-30T13:46:21.128842",
     "status": "completed"
    },
    "tags": []
   },
   "outputs": [],
   "source": [
    "#df_train_conso['month'] = df_train_conso['datetime'].dt.month.astype(int)\n",
    "#df_train_prod['month'] = df_train_prod['datetime'].dt.month.astype(int)\n",
    "\n",
    "df_spring_conso = df_train_conso.loc[df_train_conso['month'].isin(list(range(1,5)) + list(range(9,13)))].copy()\n",
    "df_spring_prod = df_train_prod.loc[df_train_prod['month'].isin(list(range(1,5)) + list(range(9,13)))].copy()"
   ]
  },
  {
   "cell_type": "code",
   "execution_count": 37,
   "id": "94460264",
   "metadata": {
    "execution": {
     "iopub.execute_input": "2024-01-30T13:46:22.154615Z",
     "iopub.status.busy": "2024-01-30T13:46:22.153081Z",
     "iopub.status.idle": "2024-01-30T13:46:23.749418Z",
     "shell.execute_reply": "2024-01-30T13:46:23.748199Z"
    },
    "papermill": {
     "duration": 1.622727,
     "end_time": "2024-01-30T13:46:23.752216",
     "exception": false,
     "start_time": "2024-01-30T13:46:22.129489",
     "status": "completed"
    },
    "tags": []
   },
   "outputs": [],
   "source": [
    "# 70/20/10 en conservant la même ratio de mois pour chaque.\n",
    "# target a trop de valeurs uniques, datetime_day serait trop fin, woy bizarre sur semaine 35\n",
    "\n",
    "X_train_conso, test_validate_conso = train_test_split(df_spring_conso, test_size=0.3, random_state=1334, stratify=df_spring_conso['month'])\n",
    "X_test_conso, X_validate_conso = train_test_split(test_validate_conso, test_size=0.33, random_state=1334, stratify=test_validate_conso['month'])\n",
    "\n",
    "X_train_prod, test_validate_prod = train_test_split(df_spring_prod, test_size=0.3, random_state=1334, stratify=df_spring_prod['month'])\n",
    "X_test_prod, X_validate_prod = train_test_split(test_validate_prod, test_size=0.33, random_state=1334, stratify=test_validate_prod['month'])"
   ]
  },
  {
   "cell_type": "code",
   "execution_count": 38,
   "id": "b4a4d365",
   "metadata": {
    "execution": {
     "iopub.execute_input": "2024-01-30T13:46:23.800605Z",
     "iopub.status.busy": "2024-01-30T13:46:23.799876Z",
     "iopub.status.idle": "2024-01-30T13:46:23.973754Z",
     "shell.execute_reply": "2024-01-30T13:46:23.972552Z"
    },
    "papermill": {
     "duration": 0.200298,
     "end_time": "2024-01-30T13:46:23.976525",
     "exception": false,
     "start_time": "2024-01-30T13:46:23.776227",
     "status": "completed"
    },
    "tags": []
   },
   "outputs": [],
   "source": [
    "# extract y_train, y_test conso\n",
    "\n",
    "y_train_conso = X_train_conso['residuals']\n",
    "y_test_conso = X_test_conso['residuals']\n",
    "y_validate_conso = X_validate_conso['residuals']\n",
    "\n",
    "X_train_conso = X_train_conso.drop(columns=['datetime','row_id','is_consumption','datetime_day','target','prediction_unit_id','seasonality','med_st_county','med_st_business','med_st_product_type','st_target','residuals'])\n",
    "X_test_conso = X_test_conso.drop(columns=['datetime','row_id','is_consumption','datetime_day','target','prediction_unit_id','seasonality','med_st_county','med_st_business','med_st_product_type','st_target','residuals'])\n",
    "X_validate_conso = X_validate_conso.drop(columns=['datetime','row_id','is_consumption','datetime_day','target','prediction_unit_id','seasonality','med_st_county','med_st_business','med_st_product_type','st_target','residuals'])\n",
    "\n",
    "# & prod\n",
    "y_train_prod = X_train_prod['residuals']\n",
    "y_test_prod = X_test_prod['residuals']\n",
    "y_validate_prod = X_validate_prod['residuals']\n",
    "\n",
    "X_train_prod = X_train_prod.drop(columns=['datetime','row_id','is_consumption','datetime_day','target','prediction_unit_id','seasonality','med_st_county','med_st_business','med_st_product_type','st_target','residuals'])\n",
    "X_test_prod = X_test_prod.drop(columns=['datetime','row_id','is_consumption','datetime_day','target','prediction_unit_id','seasonality','med_st_county','med_st_business','med_st_product_type','st_target','residuals'])\n",
    "X_validate_prod = X_validate_prod.drop(columns=['datetime','row_id','is_consumption','datetime_day','target','prediction_unit_id','seasonality','med_st_county','med_st_business','med_st_product_type','st_target','residuals'])"
   ]
  },
  {
   "cell_type": "code",
   "execution_count": 39,
   "id": "7eadad41",
   "metadata": {
    "execution": {
     "iopub.execute_input": "2024-01-30T13:46:24.022872Z",
     "iopub.status.busy": "2024-01-30T13:46:24.022457Z",
     "iopub.status.idle": "2024-01-30T13:46:24.471537Z",
     "shell.execute_reply": "2024-01-30T13:46:24.470231Z"
    },
    "papermill": {
     "duration": 0.474943,
     "end_time": "2024-01-30T13:46:24.474086",
     "exception": false,
     "start_time": "2024-01-30T13:46:23.999143",
     "status": "completed"
    },
    "tags": []
   },
   "outputs": [
    {
     "name": "stdout",
     "output_type": "stream",
     "text": [
      "p-value conso train/test is 0.8441\n",
      "p-value conso train/validate is 0.8644\n",
      "p-value conso test/validate is 0.6508\n",
      "=============================================\n",
      "p-value prod train/test is 0.3100\n",
      "p-value prod train/validate is 0.1372\n",
      "p-value prod test/validate is 0.5223\n"
     ]
    }
   ],
   "source": [
    "# Compare the distributions of the target columns\n",
    "statistic, pvalue = stats.ks_2samp(y_train_conso, y_test_conso)\n",
    "print(f\"p-value conso train/test is {pvalue:.4f}\")\n",
    "statistic, pvalue = stats.ks_2samp(y_train_conso, y_validate_conso)\n",
    "print(f\"p-value conso train/validate is {pvalue:.4f}\")\n",
    "statistic, pvalue = stats.ks_2samp(y_test_conso, y_validate_conso)\n",
    "print(f\"p-value conso test/validate is {pvalue:.4f}\")\n",
    "\n",
    "print(\"=============================================\")\n",
    "\n",
    "statistic, pvalue = stats.ks_2samp(y_train_prod, y_test_prod)\n",
    "print(f\"p-value prod train/test is {pvalue:.4f}\")\n",
    "statistic, pvalue = stats.ks_2samp(y_train_prod, y_validate_prod)\n",
    "print(f\"p-value prod train/validate is {pvalue:.4f}\")\n",
    "statistic, pvalue = stats.ks_2samp(y_test_prod, y_validate_prod)\n",
    "print(f\"p-value prod test/validate is {pvalue:.4f}\")\n"
   ]
  },
  {
   "cell_type": "markdown",
   "id": "b277bff6",
   "metadata": {
    "papermill": {
     "duration": 0.021999,
     "end_time": "2024-01-30T13:46:24.518238",
     "exception": false,
     "start_time": "2024-01-30T13:46:24.496239",
     "status": "completed"
    },
    "tags": []
   },
   "source": [
    "#### MAE pour conso"
   ]
  },
  {
   "cell_type": "code",
   "execution_count": 40,
   "id": "64e1ab5a",
   "metadata": {
    "execution": {
     "iopub.execute_input": "2024-01-30T13:46:24.565681Z",
     "iopub.status.busy": "2024-01-30T13:46:24.565230Z",
     "iopub.status.idle": "2024-01-30T13:46:24.572092Z",
     "shell.execute_reply": "2024-01-30T13:46:24.570844Z"
    },
    "papermill": {
     "duration": 0.037655,
     "end_time": "2024-01-30T13:46:24.578328",
     "exception": false,
     "start_time": "2024-01-30T13:46:24.540673",
     "status": "completed"
    },
    "tags": []
   },
   "outputs": [],
   "source": [
    "clf_conso = LGBMRegressor(\n",
    "                    boosting_type='gbdt',\n",
    "                    num_leaves=500,\n",
    "                    max_depth=20,\n",
    "                    learning_rate=0.407758307054,\n",
    "                    n_estimators=301,\n",
    "                    subsample_for_bin=200000,\n",
    "                    min_split_gain=1.0,\n",
    "                    min_child_weight=0.001,\n",
    "                    min_child_samples=1,\n",
    "                    subsample=0.9,\n",
    "                    subsample_freq=1,\n",
    "                    colsample_bytree=1.0,\n",
    "                    reg_alpha=0.637303362873,\n",
    "                    reg_lambda=1.0,\n",
    "                    random_state=1337\n",
    "                  )"
   ]
  },
  {
   "cell_type": "markdown",
   "id": "00965198",
   "metadata": {
    "execution": {
     "iopub.execute_input": "2024-01-24T13:53:46.017299Z",
     "iopub.status.busy": "2024-01-24T13:53:46.016997Z",
     "iopub.status.idle": "2024-01-24T13:53:46.028425Z",
     "shell.execute_reply": "2024-01-24T13:53:46.027266Z",
     "shell.execute_reply.started": "2024-01-24T13:53:46.017272Z"
    },
    "papermill": {
     "duration": 0.021999,
     "end_time": "2024-01-30T13:46:24.623892",
     "exception": false,
     "start_time": "2024-01-30T13:46:24.601893",
     "status": "completed"
    },
    "tags": []
   },
   "source": [
    "clf = xgb.XGBRegressor(\n",
    "                    max_depth=6,\n",
    "                    learning_rate=0.2249351,\n",
    "                    gamma=0.14525607,\n",
    "                    min_child_weight=2.4945118,\n",
    "                    max_delta_step=0.0,\n",
    "                    subsample=0.6806308,\n",
    "                    colsample_bytree=0.5475739,\n",
    "                    colsample_bylevel=0.9011847,\n",
    "                    reg_alpha=0.78955835,\n",
    "                    reg_lambda=0.7961774,\n",
    "                    n_estimators=9996,\n",
    "                    silent=0,\n",
    "                    scale_pos_weight=1.0,\n",
    "                    base_score=0.5,\n",
    "                    seed=1664\n",
    "                  )"
   ]
  },
  {
   "cell_type": "code",
   "execution_count": 41,
   "id": "35076a96",
   "metadata": {
    "execution": {
     "iopub.execute_input": "2024-01-30T13:46:24.670273Z",
     "iopub.status.busy": "2024-01-30T13:46:24.669852Z",
     "iopub.status.idle": "2024-01-30T13:47:19.010434Z",
     "shell.execute_reply": "2024-01-30T13:47:19.009311Z"
    },
    "papermill": {
     "duration": 54.38941,
     "end_time": "2024-01-30T13:47:19.035275",
     "exception": false,
     "start_time": "2024-01-30T13:46:24.645865",
     "status": "completed"
    },
    "tags": []
   },
   "outputs": [
    {
     "name": "stdout",
     "output_type": "stream",
     "text": [
      "CPU times: user 1min 45s, sys: 20.3 s, total: 2min 5s\n",
      "Wall time: 54.3 s\n"
     ]
    },
    {
     "data": {
      "text/html": [
       "<style>#sk-container-id-1 {color: black;background-color: white;}#sk-container-id-1 pre{padding: 0;}#sk-container-id-1 div.sk-toggleable {background-color: white;}#sk-container-id-1 label.sk-toggleable__label {cursor: pointer;display: block;width: 100%;margin-bottom: 0;padding: 0.3em;box-sizing: border-box;text-align: center;}#sk-container-id-1 label.sk-toggleable__label-arrow:before {content: \"▸\";float: left;margin-right: 0.25em;color: #696969;}#sk-container-id-1 label.sk-toggleable__label-arrow:hover:before {color: black;}#sk-container-id-1 div.sk-estimator:hover label.sk-toggleable__label-arrow:before {color: black;}#sk-container-id-1 div.sk-toggleable__content {max-height: 0;max-width: 0;overflow: hidden;text-align: left;background-color: #f0f8ff;}#sk-container-id-1 div.sk-toggleable__content pre {margin: 0.2em;color: black;border-radius: 0.25em;background-color: #f0f8ff;}#sk-container-id-1 input.sk-toggleable__control:checked~div.sk-toggleable__content {max-height: 200px;max-width: 100%;overflow: auto;}#sk-container-id-1 input.sk-toggleable__control:checked~label.sk-toggleable__label-arrow:before {content: \"▾\";}#sk-container-id-1 div.sk-estimator input.sk-toggleable__control:checked~label.sk-toggleable__label {background-color: #d4ebff;}#sk-container-id-1 div.sk-label input.sk-toggleable__control:checked~label.sk-toggleable__label {background-color: #d4ebff;}#sk-container-id-1 input.sk-hidden--visually {border: 0;clip: rect(1px 1px 1px 1px);clip: rect(1px, 1px, 1px, 1px);height: 1px;margin: -1px;overflow: hidden;padding: 0;position: absolute;width: 1px;}#sk-container-id-1 div.sk-estimator {font-family: monospace;background-color: #f0f8ff;border: 1px dotted black;border-radius: 0.25em;box-sizing: border-box;margin-bottom: 0.5em;}#sk-container-id-1 div.sk-estimator:hover {background-color: #d4ebff;}#sk-container-id-1 div.sk-parallel-item::after {content: \"\";width: 100%;border-bottom: 1px solid gray;flex-grow: 1;}#sk-container-id-1 div.sk-label:hover label.sk-toggleable__label {background-color: #d4ebff;}#sk-container-id-1 div.sk-serial::before {content: \"\";position: absolute;border-left: 1px solid gray;box-sizing: border-box;top: 0;bottom: 0;left: 50%;z-index: 0;}#sk-container-id-1 div.sk-serial {display: flex;flex-direction: column;align-items: center;background-color: white;padding-right: 0.2em;padding-left: 0.2em;position: relative;}#sk-container-id-1 div.sk-item {position: relative;z-index: 1;}#sk-container-id-1 div.sk-parallel {display: flex;align-items: stretch;justify-content: center;background-color: white;position: relative;}#sk-container-id-1 div.sk-item::before, #sk-container-id-1 div.sk-parallel-item::before {content: \"\";position: absolute;border-left: 1px solid gray;box-sizing: border-box;top: 0;bottom: 0;left: 50%;z-index: -1;}#sk-container-id-1 div.sk-parallel-item {display: flex;flex-direction: column;z-index: 1;position: relative;background-color: white;}#sk-container-id-1 div.sk-parallel-item:first-child::after {align-self: flex-end;width: 50%;}#sk-container-id-1 div.sk-parallel-item:last-child::after {align-self: flex-start;width: 50%;}#sk-container-id-1 div.sk-parallel-item:only-child::after {width: 0;}#sk-container-id-1 div.sk-dashed-wrapped {border: 1px dashed gray;margin: 0 0.4em 0.5em 0.4em;box-sizing: border-box;padding-bottom: 0.4em;background-color: white;}#sk-container-id-1 div.sk-label label {font-family: monospace;font-weight: bold;display: inline-block;line-height: 1.2em;}#sk-container-id-1 div.sk-label-container {text-align: center;}#sk-container-id-1 div.sk-container {/* jupyter's `normalize.less` sets `[hidden] { display: none; }` but bootstrap.min.css set `[hidden] { display: none !important; }` so we also need the `!important` here to be able to override the default hidden behavior on the sphinx rendered scikit-learn.org. See: https://github.com/scikit-learn/scikit-learn/issues/21755 */display: inline-block !important;position: relative;}#sk-container-id-1 div.sk-text-repr-fallback {display: none;}</style><div id=\"sk-container-id-1\" class=\"sk-top-container\"><div class=\"sk-text-repr-fallback\"><pre>LGBMRegressor(learning_rate=0.407758307054, max_depth=20, min_child_samples=1,\n",
       "              min_split_gain=1.0, n_estimators=301, num_leaves=500,\n",
       "              random_state=1337, reg_alpha=0.637303362873, reg_lambda=1.0,\n",
       "              subsample=0.9, subsample_freq=1)</pre><b>In a Jupyter environment, please rerun this cell to show the HTML representation or trust the notebook. <br />On GitHub, the HTML representation is unable to render, please try loading this page with nbviewer.org.</b></div><div class=\"sk-container\" hidden><div class=\"sk-item\"><div class=\"sk-estimator sk-toggleable\"><input class=\"sk-toggleable__control sk-hidden--visually\" id=\"sk-estimator-id-1\" type=\"checkbox\" checked><label for=\"sk-estimator-id-1\" class=\"sk-toggleable__label sk-toggleable__label-arrow\">LGBMRegressor</label><div class=\"sk-toggleable__content\"><pre>LGBMRegressor(learning_rate=0.407758307054, max_depth=20, min_child_samples=1,\n",
       "              min_split_gain=1.0, n_estimators=301, num_leaves=500,\n",
       "              random_state=1337, reg_alpha=0.637303362873, reg_lambda=1.0,\n",
       "              subsample=0.9, subsample_freq=1)</pre></div></div></div></div></div>"
      ],
      "text/plain": [
       "LGBMRegressor(learning_rate=0.407758307054, max_depth=20, min_child_samples=1,\n",
       "              min_split_gain=1.0, n_estimators=301, num_leaves=500,\n",
       "              random_state=1337, reg_alpha=0.637303362873, reg_lambda=1.0,\n",
       "              subsample=0.9, subsample_freq=1)"
      ]
     },
     "execution_count": 41,
     "metadata": {},
     "output_type": "execute_result"
    }
   ],
   "source": [
    "%time clf_conso.fit(X_train_conso, y_train_conso)"
   ]
  },
  {
   "cell_type": "code",
   "execution_count": 42,
   "id": "b5059666",
   "metadata": {
    "execution": {
     "iopub.execute_input": "2024-01-30T13:47:19.083807Z",
     "iopub.status.busy": "2024-01-30T13:47:19.083364Z",
     "iopub.status.idle": "2024-01-30T13:47:20.592567Z",
     "shell.execute_reply": "2024-01-30T13:47:20.591528Z"
    },
    "papermill": {
     "duration": 1.537231,
     "end_time": "2024-01-30T13:47:20.595064",
     "exception": false,
     "start_time": "2024-01-30T13:47:19.057833",
     "status": "completed"
    },
    "tags": []
   },
   "outputs": [
    {
     "name": "stdout",
     "output_type": "stream",
     "text": [
      "CPU times: user 5.78 s, sys: 12.5 ms, total: 5.79 s\n",
      "Wall time: 1.5 s\n"
     ]
    }
   ],
   "source": [
    "%time _predictions_conso = clf_conso.predict(X_test_conso)\n",
    "predictions_conso = pd.Series(data=_predictions_conso, index=X_test_conso.index, name='predicted')"
   ]
  },
  {
   "cell_type": "code",
   "execution_count": 43,
   "id": "4a2a4adf",
   "metadata": {
    "execution": {
     "iopub.execute_input": "2024-01-30T13:47:20.642792Z",
     "iopub.status.busy": "2024-01-30T13:47:20.642037Z",
     "iopub.status.idle": "2024-01-30T13:47:21.388527Z",
     "shell.execute_reply": "2024-01-30T13:47:21.387470Z"
    },
    "papermill": {
     "duration": 0.772968,
     "end_time": "2024-01-30T13:47:21.390836",
     "exception": false,
     "start_time": "2024-01-30T13:47:20.617868",
     "status": "completed"
    },
    "tags": []
   },
   "outputs": [
    {
     "name": "stdout",
     "output_type": "stream",
     "text": [
      "CPU times: user 2.84 s, sys: 289 µs, total: 2.84 s\n",
      "Wall time: 739 ms\n"
     ]
    }
   ],
   "source": [
    "%time _validate_conso = clf_conso.predict(X_validate_conso)\n",
    "validate_conso = pd.Series(data=_validate_conso, index=X_validate_conso.index, name='validation')"
   ]
  },
  {
   "cell_type": "code",
   "execution_count": 44,
   "id": "1bb48f66",
   "metadata": {
    "execution": {
     "iopub.execute_input": "2024-01-30T13:47:21.438018Z",
     "iopub.status.busy": "2024-01-30T13:47:21.437245Z",
     "iopub.status.idle": "2024-01-30T13:47:21.446673Z",
     "shell.execute_reply": "2024-01-30T13:47:21.445268Z"
    },
    "papermill": {
     "duration": 0.03574,
     "end_time": "2024-01-30T13:47:21.449105",
     "exception": false,
     "start_time": "2024-01-30T13:47:21.413365",
     "status": "completed"
    },
    "tags": []
   },
   "outputs": [
    {
     "name": "stdout",
     "output_type": "stream",
     "text": [
      "MAE Test :  35.310207334952764\n",
      "MAE validate :  35.581047369431275\n"
     ]
    }
   ],
   "source": [
    "mae_conso = mean_absolute_error(y_test_conso, predictions_conso)\n",
    "print(\"MAE Test : \",mae_conso)\n",
    "mae_validate = mean_absolute_error(y_validate_conso, validate_conso)\n",
    "print(\"MAE validate : \",mae_validate)"
   ]
  },
  {
   "cell_type": "markdown",
   "id": "6dafaca5",
   "metadata": {
    "papermill": {
     "duration": 0.022639,
     "end_time": "2024-01-30T13:47:21.494624",
     "exception": false,
     "start_time": "2024-01-30T13:47:21.471985",
     "status": "completed"
    },
    "tags": []
   },
   "source": [
    "#### MAE pour prod"
   ]
  },
  {
   "cell_type": "code",
   "execution_count": 45,
   "id": "2056a222",
   "metadata": {
    "execution": {
     "iopub.execute_input": "2024-01-30T13:47:21.542628Z",
     "iopub.status.busy": "2024-01-30T13:47:21.542205Z",
     "iopub.status.idle": "2024-01-30T13:47:21.548818Z",
     "shell.execute_reply": "2024-01-30T13:47:21.547615Z"
    },
    "papermill": {
     "duration": 0.033864,
     "end_time": "2024-01-30T13:47:21.551369",
     "exception": false,
     "start_time": "2024-01-30T13:47:21.517505",
     "status": "completed"
    },
    "tags": []
   },
   "outputs": [],
   "source": [
    "clf_prod = LGBMRegressor(\n",
    "                    boosting_type='gbdt',\n",
    "                    num_leaves=500,\n",
    "                    max_depth=20,\n",
    "                    learning_rate=0.155242982923,\n",
    "                    n_estimators=301,\n",
    "                    subsample_for_bin=200000,\n",
    "                    min_split_gain=0.0,\n",
    "                    min_child_weight=0.001,\n",
    "                    min_child_samples=1,\n",
    "                    subsample=0.9,\n",
    "                    subsample_freq=1,\n",
    "                    colsample_bytree=1.0,\n",
    "                    reg_alpha=0.0,\n",
    "                    reg_lambda=1.0,\n",
    "                    random_state=1337\n",
    ")"
   ]
  },
  {
   "cell_type": "code",
   "execution_count": 46,
   "id": "0229d80a",
   "metadata": {
    "execution": {
     "iopub.execute_input": "2024-01-30T13:47:21.599720Z",
     "iopub.status.busy": "2024-01-30T13:47:21.599323Z",
     "iopub.status.idle": "2024-01-30T13:48:16.824358Z",
     "shell.execute_reply": "2024-01-30T13:48:16.823202Z"
    },
    "papermill": {
     "duration": 55.276066,
     "end_time": "2024-01-30T13:48:16.850717",
     "exception": false,
     "start_time": "2024-01-30T13:47:21.574651",
     "status": "completed"
    },
    "tags": []
   },
   "outputs": [
    {
     "name": "stdout",
     "output_type": "stream",
     "text": [
      "CPU times: user 1min 49s, sys: 20.4 s, total: 2min 9s\n",
      "Wall time: 55.2 s\n"
     ]
    },
    {
     "data": {
      "text/html": [
       "<style>#sk-container-id-2 {color: black;background-color: white;}#sk-container-id-2 pre{padding: 0;}#sk-container-id-2 div.sk-toggleable {background-color: white;}#sk-container-id-2 label.sk-toggleable__label {cursor: pointer;display: block;width: 100%;margin-bottom: 0;padding: 0.3em;box-sizing: border-box;text-align: center;}#sk-container-id-2 label.sk-toggleable__label-arrow:before {content: \"▸\";float: left;margin-right: 0.25em;color: #696969;}#sk-container-id-2 label.sk-toggleable__label-arrow:hover:before {color: black;}#sk-container-id-2 div.sk-estimator:hover label.sk-toggleable__label-arrow:before {color: black;}#sk-container-id-2 div.sk-toggleable__content {max-height: 0;max-width: 0;overflow: hidden;text-align: left;background-color: #f0f8ff;}#sk-container-id-2 div.sk-toggleable__content pre {margin: 0.2em;color: black;border-radius: 0.25em;background-color: #f0f8ff;}#sk-container-id-2 input.sk-toggleable__control:checked~div.sk-toggleable__content {max-height: 200px;max-width: 100%;overflow: auto;}#sk-container-id-2 input.sk-toggleable__control:checked~label.sk-toggleable__label-arrow:before {content: \"▾\";}#sk-container-id-2 div.sk-estimator input.sk-toggleable__control:checked~label.sk-toggleable__label {background-color: #d4ebff;}#sk-container-id-2 div.sk-label input.sk-toggleable__control:checked~label.sk-toggleable__label {background-color: #d4ebff;}#sk-container-id-2 input.sk-hidden--visually {border: 0;clip: rect(1px 1px 1px 1px);clip: rect(1px, 1px, 1px, 1px);height: 1px;margin: -1px;overflow: hidden;padding: 0;position: absolute;width: 1px;}#sk-container-id-2 div.sk-estimator {font-family: monospace;background-color: #f0f8ff;border: 1px dotted black;border-radius: 0.25em;box-sizing: border-box;margin-bottom: 0.5em;}#sk-container-id-2 div.sk-estimator:hover {background-color: #d4ebff;}#sk-container-id-2 div.sk-parallel-item::after {content: \"\";width: 100%;border-bottom: 1px solid gray;flex-grow: 1;}#sk-container-id-2 div.sk-label:hover label.sk-toggleable__label {background-color: #d4ebff;}#sk-container-id-2 div.sk-serial::before {content: \"\";position: absolute;border-left: 1px solid gray;box-sizing: border-box;top: 0;bottom: 0;left: 50%;z-index: 0;}#sk-container-id-2 div.sk-serial {display: flex;flex-direction: column;align-items: center;background-color: white;padding-right: 0.2em;padding-left: 0.2em;position: relative;}#sk-container-id-2 div.sk-item {position: relative;z-index: 1;}#sk-container-id-2 div.sk-parallel {display: flex;align-items: stretch;justify-content: center;background-color: white;position: relative;}#sk-container-id-2 div.sk-item::before, #sk-container-id-2 div.sk-parallel-item::before {content: \"\";position: absolute;border-left: 1px solid gray;box-sizing: border-box;top: 0;bottom: 0;left: 50%;z-index: -1;}#sk-container-id-2 div.sk-parallel-item {display: flex;flex-direction: column;z-index: 1;position: relative;background-color: white;}#sk-container-id-2 div.sk-parallel-item:first-child::after {align-self: flex-end;width: 50%;}#sk-container-id-2 div.sk-parallel-item:last-child::after {align-self: flex-start;width: 50%;}#sk-container-id-2 div.sk-parallel-item:only-child::after {width: 0;}#sk-container-id-2 div.sk-dashed-wrapped {border: 1px dashed gray;margin: 0 0.4em 0.5em 0.4em;box-sizing: border-box;padding-bottom: 0.4em;background-color: white;}#sk-container-id-2 div.sk-label label {font-family: monospace;font-weight: bold;display: inline-block;line-height: 1.2em;}#sk-container-id-2 div.sk-label-container {text-align: center;}#sk-container-id-2 div.sk-container {/* jupyter's `normalize.less` sets `[hidden] { display: none; }` but bootstrap.min.css set `[hidden] { display: none !important; }` so we also need the `!important` here to be able to override the default hidden behavior on the sphinx rendered scikit-learn.org. See: https://github.com/scikit-learn/scikit-learn/issues/21755 */display: inline-block !important;position: relative;}#sk-container-id-2 div.sk-text-repr-fallback {display: none;}</style><div id=\"sk-container-id-2\" class=\"sk-top-container\"><div class=\"sk-text-repr-fallback\"><pre>LGBMRegressor(learning_rate=0.155242982923, max_depth=20, min_child_samples=1,\n",
       "              n_estimators=301, num_leaves=500, random_state=1337,\n",
       "              reg_lambda=1.0, subsample=0.9, subsample_freq=1)</pre><b>In a Jupyter environment, please rerun this cell to show the HTML representation or trust the notebook. <br />On GitHub, the HTML representation is unable to render, please try loading this page with nbviewer.org.</b></div><div class=\"sk-container\" hidden><div class=\"sk-item\"><div class=\"sk-estimator sk-toggleable\"><input class=\"sk-toggleable__control sk-hidden--visually\" id=\"sk-estimator-id-2\" type=\"checkbox\" checked><label for=\"sk-estimator-id-2\" class=\"sk-toggleable__label sk-toggleable__label-arrow\">LGBMRegressor</label><div class=\"sk-toggleable__content\"><pre>LGBMRegressor(learning_rate=0.155242982923, max_depth=20, min_child_samples=1,\n",
       "              n_estimators=301, num_leaves=500, random_state=1337,\n",
       "              reg_lambda=1.0, subsample=0.9, subsample_freq=1)</pre></div></div></div></div></div>"
      ],
      "text/plain": [
       "LGBMRegressor(learning_rate=0.155242982923, max_depth=20, min_child_samples=1,\n",
       "              n_estimators=301, num_leaves=500, random_state=1337,\n",
       "              reg_lambda=1.0, subsample=0.9, subsample_freq=1)"
      ]
     },
     "execution_count": 46,
     "metadata": {},
     "output_type": "execute_result"
    }
   ],
   "source": [
    "%time clf_prod.fit(X_train_prod, y_train_prod)"
   ]
  },
  {
   "cell_type": "code",
   "execution_count": 47,
   "id": "a69c8123",
   "metadata": {
    "execution": {
     "iopub.execute_input": "2024-01-30T13:48:16.899133Z",
     "iopub.status.busy": "2024-01-30T13:48:16.898704Z",
     "iopub.status.idle": "2024-01-30T13:48:18.602213Z",
     "shell.execute_reply": "2024-01-30T13:48:18.601032Z"
    },
    "papermill": {
     "duration": 1.730851,
     "end_time": "2024-01-30T13:48:18.604733",
     "exception": false,
     "start_time": "2024-01-30T13:48:16.873882",
     "status": "completed"
    },
    "tags": []
   },
   "outputs": [
    {
     "name": "stdout",
     "output_type": "stream",
     "text": [
      "CPU times: user 6.58 s, sys: 0 ns, total: 6.58 s\n",
      "Wall time: 1.7 s\n"
     ]
    }
   ],
   "source": [
    "%time _predictions_prod = clf_prod.predict(X_test_prod)\n",
    "predictions_prod = pd.Series(data=_predictions_prod, index=X_test_prod.index, name='predicted')"
   ]
  },
  {
   "cell_type": "code",
   "execution_count": 48,
   "id": "1d3de1be",
   "metadata": {
    "execution": {
     "iopub.execute_input": "2024-01-30T13:48:18.653473Z",
     "iopub.status.busy": "2024-01-30T13:48:18.652638Z",
     "iopub.status.idle": "2024-01-30T13:48:19.497316Z",
     "shell.execute_reply": "2024-01-30T13:48:19.496061Z"
    },
    "papermill": {
     "duration": 0.872256,
     "end_time": "2024-01-30T13:48:19.500034",
     "exception": false,
     "start_time": "2024-01-30T13:48:18.627778",
     "status": "completed"
    },
    "tags": []
   },
   "outputs": [
    {
     "name": "stdout",
     "output_type": "stream",
     "text": [
      "CPU times: user 3.25 s, sys: 0 ns, total: 3.25 s\n",
      "Wall time: 836 ms\n"
     ]
    }
   ],
   "source": [
    "%time _validate_prod = clf_prod.predict(X_validate_prod)\n",
    "validate_prod = pd.Series(data=_validate_prod, index=X_validate_prod.index, name='validation')"
   ]
  },
  {
   "cell_type": "code",
   "execution_count": 49,
   "id": "5c11172e",
   "metadata": {
    "execution": {
     "iopub.execute_input": "2024-01-30T13:48:19.548910Z",
     "iopub.status.busy": "2024-01-30T13:48:19.548059Z",
     "iopub.status.idle": "2024-01-30T13:48:19.558188Z",
     "shell.execute_reply": "2024-01-30T13:48:19.556806Z"
    },
    "papermill": {
     "duration": 0.037498,
     "end_time": "2024-01-30T13:48:19.560700",
     "exception": false,
     "start_time": "2024-01-30T13:48:19.523202",
     "status": "completed"
    },
    "tags": []
   },
   "outputs": [
    {
     "name": "stdout",
     "output_type": "stream",
     "text": [
      "MAE test prod :  17.787692884941066\n",
      "MAE validate prod:  17.92961004607065\n"
     ]
    }
   ],
   "source": [
    "mae_prod = mean_absolute_error(y_test_prod, predictions_prod)\n",
    "print(\"MAE test prod : \",mae_prod)\n",
    "mae_validate_prod = mean_absolute_error(y_validate_prod, validate_prod)\n",
    "print(\"MAE validate prod: \",mae_validate_prod)"
   ]
  },
  {
   "cell_type": "markdown",
   "id": "2edc93bb",
   "metadata": {
    "papermill": {
     "duration": 0.022896,
     "end_time": "2024-01-30T13:48:19.606736",
     "exception": false,
     "start_time": "2024-01-30T13:48:19.583840",
     "status": "completed"
    },
    "tags": []
   },
   "source": [
    "# Test set"
   ]
  },
  {
   "cell_type": "code",
   "execution_count": 50,
   "id": "b6d44d75",
   "metadata": {
    "execution": {
     "iopub.execute_input": "2024-01-30T13:48:19.656368Z",
     "iopub.status.busy": "2024-01-30T13:48:19.655940Z",
     "iopub.status.idle": "2024-01-30T13:48:19.700196Z",
     "shell.execute_reply": "2024-01-30T13:48:19.698940Z"
    },
    "papermill": {
     "duration": 0.072712,
     "end_time": "2024-01-30T13:48:19.702927",
     "exception": false,
     "start_time": "2024-01-30T13:48:19.630215",
     "status": "completed"
    },
    "tags": []
   },
   "outputs": [],
   "source": [
    "class run_ETL:\n",
    "    \n",
    "    def __init__(self, client, elec, gas, weather, main):\n",
    "        self.df_client = client\n",
    "        self.df_electricity = elec\n",
    "        self.df_gas = gas\n",
    "        self.df_weather = weather\n",
    "        self.df_test = main\n",
    "        \n",
    "    \n",
    "    def transform_measures(self):\n",
    "        \n",
    "        # ======================== WEATHER FORECAST ============================================\n",
    "        # Keeps only forecast for the next day\n",
    "        self.df_weather =  self.df_weather.loc[(self.df_weather.hours_ahead>=22) & (self.df_weather.hours_ahead<=45)]\n",
    "        # primary key\n",
    "        self.df_weather['cle_lat-long'] = self.df_weather.latitude.astype(str) + \"-\" + self.df_weather.longitude.astype(str)\n",
    "        # Join to add county to each lat-long key\n",
    "        self.df_forecast_w_per_county = pd.merge(self.df_weather, df_stations_county_mapping, on='cle_lat-long')\n",
    "\n",
    "        # Agg measures per county per hour\n",
    "        # as_index= False to preserve hourly measures\n",
    "        self.df_forecast_w_per_county = self.df_forecast_w_per_county.groupby(['forecast_datetime', 'county'], as_index=False)\\\n",
    "        .agg({'temperature': ['min', 'mean', 'max'],\\\n",
    "              'dewpoint': 'mean',\\\n",
    "              '10_metre_u_wind_component': 'mean',\\\n",
    "              'direct_solar_radiation': ['mean', 'max'],\\\n",
    "              'surface_solar_radiation_downwards' : ['mean', 'max']\n",
    "             })\n",
    "\n",
    "        # Flatten multi-level columns\n",
    "        self.df_forecast_w_per_county.columns = [\"_\".join(a) for a in self.df_forecast_w_per_county.columns.to_flat_index()]\n",
    "        self.df_forecast_w_per_county.rename(columns={'forecast_datetime_':'datetime','county_':'county'}, inplace=True)\n",
    "        self.df_forecast_w_per_county['county'] = self.df_forecast_w_per_county.county.astype(int)\n",
    "        self.df_forecast_w_per_county['datetime'] = pd.to_datetime(self.df_forecast_w_per_county['datetime'], format='%Y-%m-%d %H:%M:%S')\n",
    "        self.df_forecast_w_per_county['datetime'] = self.df_forecast_w_per_county['datetime'].dt.tz_localize('UTC')\n",
    "        \n",
    "        # ======================== CLIENT ============================================\n",
    "        self.df_client[\"date\"] = pd.to_datetime(self.df_client.date)\n",
    "        # Date where the measure is received, adjusted to prediction datetime\n",
    "        self.df_client[\"datetime_day\"] = (self.df_client[\"date\"] + timedelta(days=2)).dt.tz_localize('UTC')\n",
    "        self.df_client = self.df_client[['datetime_day','county','is_business','product_type','eic_count','installed_capacity']]\n",
    "        \n",
    "        # ======================== GAS  & ELEC ============================================\n",
    "        self.df_gas.rename(columns={'forecast_date':'datetime_day'}, inplace=True)\n",
    "        self.df_gas['datetime_day'] = pd.to_datetime(self.df_gas['datetime_day'])\n",
    "        self.df_gas['datetime_day'] = (self.df_gas['datetime_day'] + timedelta(days=1)).dt.tz_localize('UTC')\n",
    "        self.df_gas = self.df_gas[['datetime_day','lowest_price_per_mwh','highest_price_per_mwh']]\n",
    "        \n",
    "        self.df_electricity['datetime'] = pd.to_datetime(self.df_electricity['forecast_date'], format='%Y-%m-%d %H:%M:%S')\n",
    "        self.df_electricity['datetime'] = (self.df_electricity['datetime'] + timedelta(days=1)).dt.tz_localize('UTC')\n",
    "        self.df_electricity = self.df_electricity[['datetime','euros_per_mwh']]\n",
    "        \n",
    "    \n",
    "    def split_and_add_fourier_forecast(self):\n",
    "        \n",
    "        #self.df_test.rename(columns={'prediction_datetime':'datetime'}, inplace=True)\n",
    "        self.df_test['datetime'] = pd.to_datetime(self.df_test['prediction_datetime'], format='%Y-%m-%d %H:%M:%S')\n",
    "        self.df_test['datetime'] = self.df_test['datetime'].dt.tz_localize('UTC')\n",
    "        \n",
    "        self.df_conso_test = self.df_test[self.df_test.is_consumption==1].copy()\n",
    "        # Join aggregates columns\n",
    "        self.df_conso_test = pd.merge(self.df_conso_test, df_ref_conso[['datetime','county','med_st_county']].drop_duplicates(), on=['datetime','county'], how='left')\n",
    "        self.df_conso_test = pd.merge(self.df_conso_test, df_ref_conso[['datetime','is_business','med_st_business']].drop_duplicates(), on=['datetime','is_business'], how='left')\n",
    "        self.df_conso_test = pd.merge(self.df_conso_test, df_ref_conso[['datetime','product_type','med_st_product_type']].drop_duplicates(), on=['datetime','product_type'], how='left')\n",
    "        self.df_conso_test = pd.merge(self.df_conso_test, df_ref_conso[['datetime','datetime_day','holiday','week_of_year','day_of_week','day_of_year','hour_of_day','month']].drop_duplicates(), on=['datetime'], how='left')\n",
    "        # Compute seasonnalty + trend based on coefficients \n",
    "        self.df_conso_test['st_target'] = coeffs_conso[0]*self.df_conso_test.med_st_county + coeffs_conso[1]*self.df_conso_test.med_st_business + coeffs_conso[2]*self.df_conso_test.med_st_product_type\n",
    "\n",
    "        self.df_prod_test = self.df_test[self.df_test.is_consumption==0].copy()\n",
    "        self.df_prod_test = pd.merge(self.df_prod_test, df_ref_prod[['datetime','county','med_st_county']].drop_duplicates(), on=['datetime','county'], how='left')\n",
    "        self.df_prod_test = pd.merge(self.df_prod_test, df_ref_prod[['datetime','is_business','med_st_business']].drop_duplicates(), on=['datetime','is_business'], how='left')\n",
    "        self.df_prod_test = pd.merge(self.df_prod_test, df_ref_prod[['datetime','product_type','med_st_product_type']].drop_duplicates(), on=['datetime','product_type'], how='left')\n",
    "        self.df_prod_test = pd.merge(self.df_prod_test, df_ref_prod[['datetime','datetime_day','holiday','week_of_year','day_of_week','day_of_year','hour_of_day','month']].drop_duplicates(), on=['datetime'], how='left')\n",
    "        # Compute seasonnalty + trend based on coefficients \n",
    "        self.df_prod_test['st_target'] = coeffs_prod[0]*self.df_prod_test.med_st_county + coeffs_prod[1]*self.df_prod_test.med_st_business + coeffs_prod[2]*self.df_prod_test.med_st_product_type\n",
    "\n",
    "    \n",
    "    def unite_FE_and_interpolate(self):\n",
    "        \n",
    "        # List of all unique pids\n",
    "        pids = set(self.df_conso_test.prediction_unit_id)\n",
    "        \n",
    "        # Join all dataframes together\n",
    "        self.df_conso_test = unite_dfs(self.df_conso_test, self.df_client, self.df_gas, self.df_electricity, self.df_forecast_w_per_county)\n",
    "        self.df_prod_test = unite_dfs(self.df_prod_test, self.df_client, self.df_gas, self.df_electricity, self.df_forecast_w_per_county)\n",
    "        \n",
    "        # Interpolate nulls values (prices elec & gas are concerned on last day)\n",
    "        col_list = self.df_prod_test.columns.to_list()\n",
    "        self.df_conso_test_toPredict = pd.DataFrame(columns=col_list)\n",
    "        self.df_prod_test_toPredict = pd.DataFrame(columns=col_list)\n",
    "\n",
    "        for g in list(pids):\n",
    "            self.df_conso_test_toPredict = pd.concat([self.df_conso_test_toPredict, interpolate_per_pids(self.df_conso_test, group=g)])\n",
    "            self.df_prod_test_toPredict = pd.concat([self.df_prod_test_toPredict, interpolate_per_pids(self.df_prod_test, group=g)])\n",
    "        \n",
    "        # Convert columns incorrectly converted as object back to int\n",
    "        obj_cols = self.df_conso_test_toPredict.drop(columns=['prediction_datetime','datetime_day']).select_dtypes(include=[object]).columns\n",
    "        self.df_conso_test_toPredict[obj_cols] = self.df_conso_test_toPredict[obj_cols].astype(int)\n",
    "        self.df_prod_test_toPredict[obj_cols] = self.df_prod_test_toPredict[obj_cols].astype(int)\n",
    "        \n",
    "        # Add Feature Engineering columns\n",
    "        self.df_conso_test_toPredict = generate_FE_columns(self.df_conso_test_toPredict)\n",
    "        self.df_prod_test_toPredict = generate_FE_columns(self.df_prod_test_toPredict)\n",
    "    \n",
    "    \n",
    "    def predict_residuals_and_target(self):\n",
    "        \n",
    "        # Keep only necessary columns, the model has been trained on\n",
    "        cols_to_keep = X_test_conso.columns.to_list()\n",
    "        # index is a loop since interpolate -> need to reset it before predict and join results\n",
    "        self.df_conso_test_toPredict.reset_index(drop=True, inplace=True)\n",
    "        self.df_prod_test_toPredict.reset_index(drop=True, inplace=True)\n",
    "        \n",
    "        _predictions_conso = clf_conso.predict(self.df_conso_test_toPredict[cols_to_keep])\n",
    "        predictions_conso = pd.Series(data=_predictions_conso, index=self.df_conso_test_toPredict.index, name='predicted_residuals')\n",
    "        self.df_conso_test_toPredict = self.df_conso_test_toPredict.join(predictions_conso, how='left')\n",
    "        self.df_conso_test_toPredict['predicted_target'] = self.df_conso_test_toPredict['st_target'] + self.df_conso_test_toPredict['predicted_residuals']\n",
    "        # Replace negative values by 0\n",
    "        self.df_conso_test_toPredict['predicted_target'] = self.df_conso_test_toPredict['predicted_target'].clip(lower=med_spring_consumption)\n",
    "        \n",
    "        _predictions_prod = clf_prod.predict(self.df_prod_test_toPredict[cols_to_keep])\n",
    "        predictions_prod = pd.Series(data=_predictions_prod, index=self.df_prod_test_toPredict.index, name='predicted_residuals')\n",
    "        self.df_prod_test_toPredict = self.df_prod_test_toPredict.join(predictions_prod, how='left')\n",
    "        self.df_prod_test_toPredict['predicted_target'] = self.df_prod_test_toPredict['st_target'] + self.df_prod_test_toPredict['predicted_residuals']\n",
    "        self.df_prod_test_toPredict['predicted_target'] = self.df_prod_test_toPredict['predicted_target'].clip(lower=med_spring_production)\n",
    "    \n",
    "    \n",
    "    def merge_and_submit(self):\n",
    "        \n",
    "        self.df_concat = pd.concat([etl.df_conso_test_toPredict, etl.df_prod_test_toPredict]).sort_values(by='row_id')\n",
    "        self.df_test = pd.merge(self.df_test, self.df_concat[['row_id','predicted_target']], on=['row_id'], how='left')"
   ]
  },
  {
   "cell_type": "markdown",
   "id": "109a4946",
   "metadata": {
    "papermill": {
     "duration": 0.023759,
     "end_time": "2024-01-30T13:48:19.751157",
     "exception": false,
     "start_time": "2024-01-30T13:48:19.727398",
     "status": "completed"
    },
    "tags": []
   },
   "source": [
    "# Submit"
   ]
  },
  {
   "cell_type": "code",
   "execution_count": 51,
   "id": "baba9ee3",
   "metadata": {
    "execution": {
     "iopub.execute_input": "2024-01-30T13:48:19.800116Z",
     "iopub.status.busy": "2024-01-30T13:48:19.799707Z",
     "iopub.status.idle": "2024-01-30T13:48:19.804470Z",
     "shell.execute_reply": "2024-01-30T13:48:19.803197Z"
    },
    "papermill": {
     "duration": 0.032053,
     "end_time": "2024-01-30T13:48:19.806939",
     "exception": false,
     "start_time": "2024-01-30T13:48:19.774886",
     "status": "completed"
    },
    "tags": []
   },
   "outputs": [],
   "source": [
    "iter_test = env.iter_test()"
   ]
  },
  {
   "cell_type": "code",
   "execution_count": 52,
   "id": "f6c51775",
   "metadata": {
    "execution": {
     "iopub.execute_input": "2024-01-30T13:48:19.855926Z",
     "iopub.status.busy": "2024-01-30T13:48:19.855482Z",
     "iopub.status.idle": "2024-01-30T13:48:19.860505Z",
     "shell.execute_reply": "2024-01-30T13:48:19.859336Z"
    },
    "papermill": {
     "duration": 0.032855,
     "end_time": "2024-01-30T13:48:19.863099",
     "exception": false,
     "start_time": "2024-01-30T13:48:19.830244",
     "status": "completed"
    },
    "tags": []
   },
   "outputs": [],
   "source": [
    "def is_prediciton_needed(df):\n",
    "    ''' Update of competition submission rules.\n",
    "    Scores only if test column currently_scored is set to True.'''\n",
    "    return not all(df['currently_scored'] == False)"
   ]
  },
  {
   "cell_type": "code",
   "execution_count": 53,
   "id": "d1559462",
   "metadata": {
    "execution": {
     "iopub.execute_input": "2024-01-30T13:48:19.912611Z",
     "iopub.status.busy": "2024-01-30T13:48:19.911840Z",
     "iopub.status.idle": "2024-01-30T13:48:31.054492Z",
     "shell.execute_reply": "2024-01-30T13:48:31.053460Z"
    },
    "papermill": {
     "duration": 11.170072,
     "end_time": "2024-01-30T13:48:31.056928",
     "exception": false,
     "start_time": "2024-01-30T13:48:19.886856",
     "status": "completed"
    },
    "tags": []
   },
   "outputs": [
    {
     "name": "stdout",
     "output_type": "stream",
     "text": [
      "This version of the API is not optimized and should not be used to estimate the runtime of your code on the hidden test set.\n",
      "all ['currently_scored'] values are False -> dummy Prediction 0\n",
      "all ['currently_scored'] values are False -> dummy Prediction 0\n",
      "all ['currently_scored'] values are False -> dummy Prediction 0\n",
      "all ['currently_scored'] values are False -> dummy Prediction 0\n"
     ]
    }
   ],
   "source": [
    "for (test, revealed_targets, client, historical_weather,\n",
    "        forecast_weather, electricity_prices, gas_prices, sample_prediction) in iter_test:\n",
    "    \n",
    "    etl = run_ETL(client = client,\n",
    "             elec = electricity_prices,\n",
    "             gas = gas_prices,\n",
    "             weather = forecast_weather,\n",
    "             main = test)\n",
    "    \n",
    "    etl.transform_measures()\n",
    "    etl.split_and_add_fourier_forecast()\n",
    "    etl.unite_FE_and_interpolate()\n",
    "    etl.predict_residuals_and_target()\n",
    "    etl.merge_and_submit()\n",
    "    \n",
    "    #df_submit = etl.df_test[['row_id','predicted_target']].sort_values(by=['row_id'], ascending=True).copy()\n",
    "    #df_submit['predicted_target'] = round(df_submit['predicted_target'], 4)\n",
    "    #target = df_submit['predicted_target'].to_numpy()\n",
    "    \n",
    "    if not is_prediciton_needed(test):\n",
    "        print(\"all ['currently_scored'] values are False -> dummy Prediction 0\")\n",
    "        sample_prediction['target'] = 0\n",
    "        env.predict(sample_prediction)\n",
    "        continue\n",
    "    \n",
    "    #sample_prediction['target'] = target\n",
    "    sample_prediction = pd.merge(sample_prediction.drop(columns='target'), etl.df_test[['row_id','predicted_target']].rename(columns={'predicted_target':'target'}), on=['row_id'], how='left')\n",
    "    env.predict(sample_prediction)"
   ]
  },
  {
   "cell_type": "code",
   "execution_count": null,
   "id": "71b2373b",
   "metadata": {
    "papermill": {
     "duration": 0.024022,
     "end_time": "2024-01-30T13:48:31.105306",
     "exception": false,
     "start_time": "2024-01-30T13:48:31.081284",
     "status": "completed"
    },
    "tags": []
   },
   "outputs": [],
   "source": []
  }
 ],
 "metadata": {
  "kaggle": {
   "accelerator": "none",
   "dataSources": [
    {
     "databundleVersionId": 7292407,
     "sourceId": 57236,
     "sourceType": "competition"
    }
   ],
   "dockerImageVersionId": 30635,
   "isGpuEnabled": false,
   "isInternetEnabled": false,
   "language": "python",
   "sourceType": "notebook"
  },
  "kernelspec": {
   "display_name": "Python 3",
   "language": "python",
   "name": "python3"
  },
  "language_info": {
   "codemirror_mode": {
    "name": "ipython",
    "version": 3
   },
   "file_extension": ".py",
   "mimetype": "text/x-python",
   "name": "python",
   "nbconvert_exporter": "python",
   "pygments_lexer": "ipython3",
   "version": "3.10.12"
  },
  "papermill": {
   "default_parameters": {},
   "duration": 244.920601,
   "end_time": "2024-01-30T13:48:32.152037",
   "environment_variables": {},
   "exception": null,
   "input_path": "__notebook__.ipynb",
   "output_path": "__notebook__.ipynb",
   "parameters": {},
   "start_time": "2024-01-30T13:44:27.231436",
   "version": "2.4.0"
  }
 },
 "nbformat": 4,
 "nbformat_minor": 5
}
