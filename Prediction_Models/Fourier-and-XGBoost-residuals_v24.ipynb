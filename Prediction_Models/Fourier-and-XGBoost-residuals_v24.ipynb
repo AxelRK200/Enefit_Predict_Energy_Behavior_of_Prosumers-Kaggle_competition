{
 "cells": [
  {
   "cell_type": "code",
   "execution_count": 1,
   "id": "e14001bc",
   "metadata": {
    "_cell_guid": "b1076dfc-b9ad-4769-8c92-a6c4dae69d19",
    "_uuid": "8f2839f25d086af736a60e9eeb907d3b93b6e0e5",
    "execution": {
     "iopub.execute_input": "2024-01-26T10:52:18.971831Z",
     "iopub.status.busy": "2024-01-26T10:52:18.971178Z",
     "iopub.status.idle": "2024-01-26T10:52:24.800803Z",
     "shell.execute_reply": "2024-01-26T10:52:24.799472Z"
    },
    "papermill": {
     "duration": 5.855908,
     "end_time": "2024-01-26T10:52:24.804392",
     "exception": false,
     "start_time": "2024-01-26T10:52:18.948484",
     "status": "completed"
    },
    "tags": []
   },
   "outputs": [],
   "source": [
    "import numpy as np\n",
    "import pandas as pd\n",
    "\n",
    "import os\n",
    "import sys\n",
    "import itertools\n",
    "\n",
    "import sklearn as sk\n",
    "from sklearn.model_selection import train_test_split\n",
    "from lightgbm import LGBMRegressor\n",
    "import xgboost as xgb\n",
    "from statsmodels.tsa.deterministic import CalendarFourier, DeterministicProcess\n",
    "import statsmodels.api as sm\n",
    "from sklearn.linear_model import LinearRegression\n",
    "from sklearn.metrics import mean_absolute_error\n",
    "from scipy.optimize import minimize\n",
    "\n",
    "import matplotlib.pyplot as plt\n",
    "\n",
    "from datetime import timedelta\n",
    "import holidays\n",
    "\n",
    "import enefit"
   ]
  },
  {
   "cell_type": "code",
   "execution_count": 2,
   "id": "4e64572a",
   "metadata": {
    "execution": {
     "iopub.execute_input": "2024-01-26T10:52:24.848297Z",
     "iopub.status.busy": "2024-01-26T10:52:24.847821Z",
     "iopub.status.idle": "2024-01-26T10:52:24.852948Z",
     "shell.execute_reply": "2024-01-26T10:52:24.851713Z"
    },
    "papermill": {
     "duration": 0.029465,
     "end_time": "2024-01-26T10:52:24.855281",
     "exception": false,
     "start_time": "2024-01-26T10:52:24.825816",
     "status": "completed"
    },
    "tags": []
   },
   "outputs": [],
   "source": [
    "import warnings\n",
    "warnings.filterwarnings(\"ignore\")"
   ]
  },
  {
   "cell_type": "code",
   "execution_count": 3,
   "id": "1d1a1aa3",
   "metadata": {
    "execution": {
     "iopub.execute_input": "2024-01-26T10:52:24.898051Z",
     "iopub.status.busy": "2024-01-26T10:52:24.897640Z",
     "iopub.status.idle": "2024-01-26T10:52:24.902807Z",
     "shell.execute_reply": "2024-01-26T10:52:24.901596Z"
    },
    "papermill": {
     "duration": 0.029716,
     "end_time": "2024-01-26T10:52:24.905024",
     "exception": false,
     "start_time": "2024-01-26T10:52:24.875308",
     "status": "completed"
    },
    "tags": []
   },
   "outputs": [],
   "source": [
    "env = enefit.make_env()"
   ]
  },
  {
   "cell_type": "markdown",
   "id": "5e2aa6d0",
   "metadata": {
    "papermill": {
     "duration": 0.019939,
     "end_time": "2024-01-26T10:52:24.946464",
     "exception": false,
     "start_time": "2024-01-26T10:52:24.926525",
     "status": "completed"
    },
    "tags": []
   },
   "source": [
    "# ETL"
   ]
  },
  {
   "cell_type": "markdown",
   "id": "99895f9f",
   "metadata": {
    "papermill": {
     "duration": 0.019807,
     "end_time": "2024-01-26T10:52:24.987988",
     "exception": false,
     "start_time": "2024-01-26T10:52:24.968181",
     "status": "completed"
    },
    "tags": []
   },
   "source": [
    "## Load & Convert Data"
   ]
  },
  {
   "cell_type": "code",
   "execution_count": 4,
   "id": "0fe10813",
   "metadata": {
    "execution": {
     "iopub.execute_input": "2024-01-26T10:52:25.030332Z",
     "iopub.status.busy": "2024-01-26T10:52:25.029917Z",
     "iopub.status.idle": "2024-01-26T10:52:46.680536Z",
     "shell.execute_reply": "2024-01-26T10:52:46.679326Z"
    },
    "papermill": {
     "duration": 21.675199,
     "end_time": "2024-01-26T10:52:46.683503",
     "exception": false,
     "start_time": "2024-01-26T10:52:25.008304",
     "status": "completed"
    },
    "tags": []
   },
   "outputs": [],
   "source": [
    "df_client = pd.read_csv(\"/kaggle/input/predict-energy-behavior-of-prosumers/client.csv\")\n",
    "df_electricity = pd.read_csv(\"/kaggle/input/predict-energy-behavior-of-prosumers/electricity_prices.csv\")\n",
    "df_gas = pd.read_csv(\"/kaggle/input/predict-energy-behavior-of-prosumers/gas_prices.csv\")\n",
    "df_weather = pd.read_csv(\"/kaggle/input/predict-energy-behavior-of-prosumers/forecast_weather.csv\")\n",
    "df_train = pd.read_csv(\"/kaggle/input/predict-energy-behavior-of-prosumers/train.csv\")\n",
    "df_stations_county_mapping = pd.read_csv(\"/kaggle/input/predict-energy-behavior-of-prosumers/weather_station_to_county_mapping.csv\")"
   ]
  },
  {
   "cell_type": "code",
   "execution_count": 5,
   "id": "573a629a",
   "metadata": {
    "execution": {
     "iopub.execute_input": "2024-01-26T10:52:46.727035Z",
     "iopub.status.busy": "2024-01-26T10:52:46.726614Z",
     "iopub.status.idle": "2024-01-26T10:52:47.251498Z",
     "shell.execute_reply": "2024-01-26T10:52:47.250697Z"
    },
    "papermill": {
     "duration": 0.549366,
     "end_time": "2024-01-26T10:52:47.254080",
     "exception": false,
     "start_time": "2024-01-26T10:52:46.704714",
     "status": "completed"
    },
    "tags": []
   },
   "outputs": [
    {
     "name": "stdout",
     "output_type": "stream",
     "text": [
      "Median Spring Consumption : 137.83, Production : 0.17\n"
     ]
    }
   ],
   "source": [
    "df_train['datetime'] = pd.to_datetime(df_train['datetime'])\n",
    "\n",
    "df_medianes = df_train.loc[((df_train['datetime']>='2022-01-01') & (df_train['datetime']<='2022-04-30')) | \n",
    "                           ((df_train['datetime']>='2023-01-01') & (df_train['datetime']<='2023-04-30'))].copy()\n",
    "\n",
    "spring_consumption = df_medianes[['target']].loc[df_medianes.is_consumption==1].median()\n",
    "med_spring_consumption = spring_consumption[0]\n",
    "spring_production = df_medianes[['target']].loc[df_medianes.is_consumption==0].median()\n",
    "med_spring_production = spring_production[0]\n",
    "\n",
    "print(\"Median Spring Consumption : {:.2f}, Production : {:.2f}\".format(med_spring_consumption, med_spring_production))"
   ]
  },
  {
   "cell_type": "markdown",
   "id": "f52872b0",
   "metadata": {
    "papermill": {
     "duration": 0.02051,
     "end_time": "2024-01-26T10:52:47.294864",
     "exception": false,
     "start_time": "2024-01-26T10:52:47.274354",
     "status": "completed"
    },
    "tags": []
   },
   "source": [
    "napping, **reference dataframe**"
   ]
  },
  {
   "cell_type": "code",
   "execution_count": 6,
   "id": "1e550213",
   "metadata": {
    "execution": {
     "iopub.execute_input": "2024-01-26T10:52:47.338598Z",
     "iopub.status.busy": "2024-01-26T10:52:47.337924Z",
     "iopub.status.idle": "2024-01-26T10:52:47.348071Z",
     "shell.execute_reply": "2024-01-26T10:52:47.346885Z"
    },
    "papermill": {
     "duration": 0.035328,
     "end_time": "2024-01-26T10:52:47.350548",
     "exception": false,
     "start_time": "2024-01-26T10:52:47.315220",
     "status": "completed"
    },
    "tags": []
   },
   "outputs": [],
   "source": [
    "# Fill empty values of county with 12. County 12 is set as 'unknown', so we will average all 'unknown' locations into 1\n",
    "df_stations_county_mapping['county'].fillna(12, inplace=True)\n",
    "\n",
    "# primary key\n",
    "df_stations_county_mapping['cle_lat-long'] = round(df_stations_county_mapping.latitude, 1).astype(str) + \"-\" + df_stations_county_mapping.longitude.astype(str)\n",
    "\n",
    "df_stations_county_mapping = df_stations_county_mapping[['cle_lat-long','county']]"
   ]
  },
  {
   "cell_type": "markdown",
   "id": "7b60261c",
   "metadata": {
    "papermill": {
     "duration": 0.088459,
     "end_time": "2024-01-26T10:52:47.459095",
     "exception": false,
     "start_time": "2024-01-26T10:52:47.370636",
     "status": "completed"
    },
    "tags": []
   },
   "source": [
    "Weather forecast"
   ]
  },
  {
   "cell_type": "code",
   "execution_count": 7,
   "id": "69a86929",
   "metadata": {
    "execution": {
     "iopub.execute_input": "2024-01-26T10:52:47.502077Z",
     "iopub.status.busy": "2024-01-26T10:52:47.501352Z",
     "iopub.status.idle": "2024-01-26T10:52:50.983287Z",
     "shell.execute_reply": "2024-01-26T10:52:50.982081Z"
    },
    "papermill": {
     "duration": 3.50709,
     "end_time": "2024-01-26T10:52:50.986519",
     "exception": false,
     "start_time": "2024-01-26T10:52:47.479429",
     "status": "completed"
    },
    "tags": []
   },
   "outputs": [],
   "source": [
    "# Keeps only forecast for the next day\n",
    "df_weather =  df_weather.loc[(df_weather.hours_ahead>=22) & (df_weather.hours_ahead<=45)]\n",
    "# primary key\n",
    "df_weather['cle_lat-long'] = df_weather.latitude.astype(str) + \"-\" + df_weather.longitude.astype(str)"
   ]
  },
  {
   "cell_type": "code",
   "execution_count": 8,
   "id": "e0e1671f",
   "metadata": {
    "execution": {
     "iopub.execute_input": "2024-01-26T10:52:51.031090Z",
     "iopub.status.busy": "2024-01-26T10:52:51.030614Z",
     "iopub.status.idle": "2024-01-26T10:52:52.179847Z",
     "shell.execute_reply": "2024-01-26T10:52:52.178811Z"
    },
    "papermill": {
     "duration": 1.174969,
     "end_time": "2024-01-26T10:52:52.182875",
     "exception": false,
     "start_time": "2024-01-26T10:52:51.007906",
     "status": "completed"
    },
    "tags": []
   },
   "outputs": [],
   "source": [
    "# Join to add county to each lat-long key\n",
    "df_forecast_w_per_county = pd.merge(df_weather, df_stations_county_mapping, on='cle_lat-long')"
   ]
  },
  {
   "cell_type": "code",
   "execution_count": 9,
   "id": "e7f0c21e",
   "metadata": {
    "execution": {
     "iopub.execute_input": "2024-01-26T10:52:52.226784Z",
     "iopub.status.busy": "2024-01-26T10:52:52.226309Z",
     "iopub.status.idle": "2024-01-26T10:52:52.934624Z",
     "shell.execute_reply": "2024-01-26T10:52:52.933606Z"
    },
    "papermill": {
     "duration": 0.733134,
     "end_time": "2024-01-26T10:52:52.937319",
     "exception": false,
     "start_time": "2024-01-26T10:52:52.204185",
     "status": "completed"
    },
    "tags": []
   },
   "outputs": [],
   "source": [
    "# Agg measures per county per hour\n",
    "# as_index= False to preserve hourly measures\n",
    "df_forecast_w_per_county = df_forecast_w_per_county.groupby(['forecast_datetime', 'county'], as_index=False)\\\n",
    ".agg({'temperature': ['min', 'mean', 'max'],\\\n",
    "      'dewpoint': 'mean',\\\n",
    "      '10_metre_u_wind_component': 'mean',\\\n",
    "      'direct_solar_radiation': ['mean', 'max'],\\\n",
    "      'surface_solar_radiation_downwards' : ['mean', 'max']\n",
    "     })\n",
    "\n",
    "# Flatten multi-level columns\n",
    "df_forecast_w_per_county.columns = [\"_\".join(a) for a in df_forecast_w_per_county.columns.to_flat_index()]\n",
    "df_forecast_w_per_county.rename(columns={'forecast_datetime_':'datetime','county_':'county'}, inplace=True)"
   ]
  },
  {
   "cell_type": "code",
   "execution_count": 10,
   "id": "fda78966",
   "metadata": {
    "execution": {
     "iopub.execute_input": "2024-01-26T10:52:52.981170Z",
     "iopub.status.busy": "2024-01-26T10:52:52.980757Z",
     "iopub.status.idle": "2024-01-26T10:52:53.044668Z",
     "shell.execute_reply": "2024-01-26T10:52:53.043753Z"
    },
    "papermill": {
     "duration": 0.089308,
     "end_time": "2024-01-26T10:52:53.047225",
     "exception": false,
     "start_time": "2024-01-26T10:52:52.957917",
     "status": "completed"
    },
    "tags": []
   },
   "outputs": [],
   "source": [
    "df_forecast_w_per_county['county'] = df_forecast_w_per_county.county.astype(int)\n",
    "df_forecast_w_per_county['datetime'] = pd.to_datetime(df_forecast_w_per_county['datetime'], format='%Y-%m-%d %H:%M:%S')\n",
    "df_forecast_w_per_county['datetime'] = df_forecast_w_per_county['datetime'].dt.tz_localize('UTC')"
   ]
  },
  {
   "cell_type": "markdown",
   "id": "814c130d",
   "metadata": {
    "execution": {
     "iopub.execute_input": "2024-01-19T17:13:51.791034Z",
     "iopub.status.busy": "2024-01-19T17:13:51.789886Z",
     "iopub.status.idle": "2024-01-19T17:13:51.800901Z",
     "shell.execute_reply": "2024-01-19T17:13:51.799672Z",
     "shell.execute_reply.started": "2024-01-19T17:13:51.790985Z"
    },
    "papermill": {
     "duration": 0.019826,
     "end_time": "2024-01-26T10:52:53.087362",
     "exception": false,
     "start_time": "2024-01-26T10:52:53.067536",
     "status": "completed"
    },
    "tags": []
   },
   "source": [
    "Keep forecast_datetime as object or reduced to day precision after merge or groupby"
   ]
  },
  {
   "cell_type": "markdown",
   "id": "2fa19d95",
   "metadata": {
    "papermill": {
     "duration": 0.02024,
     "end_time": "2024-01-26T10:52:53.127781",
     "exception": false,
     "start_time": "2024-01-26T10:52:53.107541",
     "status": "completed"
    },
    "tags": []
   },
   "source": [
    "Client"
   ]
  },
  {
   "cell_type": "code",
   "execution_count": 11,
   "id": "69cf3db5",
   "metadata": {
    "execution": {
     "iopub.execute_input": "2024-01-26T10:52:53.170641Z",
     "iopub.status.busy": "2024-01-26T10:52:53.169916Z",
     "iopub.status.idle": "2024-01-26T10:52:53.192014Z",
     "shell.execute_reply": "2024-01-26T10:52:53.190789Z"
    },
    "papermill": {
     "duration": 0.046393,
     "end_time": "2024-01-26T10:52:53.194534",
     "exception": false,
     "start_time": "2024-01-26T10:52:53.148141",
     "status": "completed"
    },
    "tags": []
   },
   "outputs": [],
   "source": [
    "df_client[\"date\"] = pd.to_datetime(df_client.date)\n",
    "# Date where the measure is received\n",
    "# Converts to str to join as key later\n",
    "#df_client[\"datetime_day\"] = (df_client[\"date\"] + timedelta(days=2)).dt.strftime('%Y-%m-%d')\n",
    "df_client[\"datetime_day\"] = (df_client[\"date\"] + timedelta(days=2)).dt.tz_localize('UTC')\n",
    "\n",
    "df_client = df_client[['datetime_day','county','is_business','product_type','eic_count','installed_capacity']]"
   ]
  },
  {
   "cell_type": "markdown",
   "id": "714b30e6",
   "metadata": {
    "papermill": {
     "duration": 0.020214,
     "end_time": "2024-01-26T10:52:53.235063",
     "exception": false,
     "start_time": "2024-01-26T10:52:53.214849",
     "status": "completed"
    },
    "tags": []
   },
   "source": [
    "gas et elec nothing to change. Forecast_date already set, as object.<br>\n",
    "Beware : electricity/h, gas/d"
   ]
  },
  {
   "cell_type": "code",
   "execution_count": 12,
   "id": "5129ce2e",
   "metadata": {
    "execution": {
     "iopub.execute_input": "2024-01-26T10:52:53.278021Z",
     "iopub.status.busy": "2024-01-26T10:52:53.277293Z",
     "iopub.status.idle": "2024-01-26T10:52:53.287885Z",
     "shell.execute_reply": "2024-01-26T10:52:53.286516Z"
    },
    "papermill": {
     "duration": 0.035152,
     "end_time": "2024-01-26T10:52:53.290613",
     "exception": false,
     "start_time": "2024-01-26T10:52:53.255461",
     "status": "completed"
    },
    "tags": []
   },
   "outputs": [],
   "source": [
    "df_gas.rename(columns={'forecast_date':'datetime_day'}, inplace=True)\n",
    "\n",
    "df_gas[\"datetime_day\"] = pd.to_datetime(df_gas.datetime_day)\n",
    "#df_gas[\"datetime_day\"] = (df_gas[\"date\"] + timedelta(days=1)).dt.strftime('%Y-%m-%d')\n",
    "df_gas[\"datetime_day\"] = (df_gas[\"datetime_day\"] + timedelta(days=1)).dt.tz_localize('UTC')\n",
    "\n",
    "df_gas = df_gas[['datetime_day','lowest_price_per_mwh','highest_price_per_mwh']]"
   ]
  },
  {
   "cell_type": "code",
   "execution_count": 13,
   "id": "cfca46a8",
   "metadata": {
    "execution": {
     "iopub.execute_input": "2024-01-26T10:52:53.333952Z",
     "iopub.status.busy": "2024-01-26T10:52:53.333162Z",
     "iopub.status.idle": "2024-01-26T10:52:53.351265Z",
     "shell.execute_reply": "2024-01-26T10:52:53.350306Z"
    },
    "papermill": {
     "duration": 0.042787,
     "end_time": "2024-01-26T10:52:53.353895",
     "exception": false,
     "start_time": "2024-01-26T10:52:53.311108",
     "status": "completed"
    },
    "tags": []
   },
   "outputs": [],
   "source": [
    "df_electricity['datetime'] = pd.to_datetime(df_electricity['forecast_date'], format='%Y-%m-%d %H:%M:%S')\n",
    "df_electricity['datetime'] = (df_electricity['datetime'] + timedelta(days=1)).dt.tz_localize('UTC')\n",
    "df_electricity = df_electricity[['datetime','euros_per_mwh']]"
   ]
  },
  {
   "cell_type": "markdown",
   "id": "3521dde4",
   "metadata": {
    "papermill": {
     "duration": 0.020041,
     "end_time": "2024-01-26T10:52:53.394307",
     "exception": false,
     "start_time": "2024-01-26T10:52:53.374266",
     "status": "completed"
    },
    "tags": []
   },
   "source": [
    "## Fourier transform and out-of-sample"
   ]
  },
  {
   "cell_type": "markdown",
   "id": "beb03cfd",
   "metadata": {
    "papermill": {
     "duration": 0.020055,
     "end_time": "2024-01-26T10:52:53.434747",
     "exception": false,
     "start_time": "2024-01-26T10:52:53.414692",
     "status": "completed"
    },
    "tags": []
   },
   "source": [
    "We want to isolate only pid where measure are complete for training.<br>\n",
    "Extrapolate on missing data would have been possible, but data is sufficient for proper training.<br>\n",
    "Some pid (68 i.e.) have way too much missing values, we want to keep them away."
   ]
  },
  {
   "cell_type": "code",
   "execution_count": 14,
   "id": "5821cc58",
   "metadata": {
    "execution": {
     "iopub.execute_input": "2024-01-26T10:52:53.477426Z",
     "iopub.status.busy": "2024-01-26T10:52:53.477018Z",
     "iopub.status.idle": "2024-01-26T10:52:53.592815Z",
     "shell.execute_reply": "2024-01-26T10:52:53.591632Z"
    },
    "papermill": {
     "duration": 0.140435,
     "end_time": "2024-01-26T10:52:53.595385",
     "exception": false,
     "start_time": "2024-01-26T10:52:53.454950",
     "status": "completed"
    },
    "tags": []
   },
   "outputs": [
    {
     "name": "stdout",
     "output_type": "stream",
     "text": [
      "56 prediction_unit_id are complete out of 69\n"
     ]
    }
   ],
   "source": [
    "df_conso = df_train[df_train.is_consumption==1].copy()\n",
    "\n",
    "df_full_pid = df_conso.groupby('prediction_unit_id').size().reset_index(name='count')\n",
    "\n",
    "pid_is_complete = df_full_pid['count'].max()\n",
    "df_full_pid = df_full_pid[df_full_pid['count'] == pid_is_complete]\n",
    "\n",
    "print(\"{} prediction_unit_id are complete out of 69\".format(df_full_pid.shape[0]))\n",
    "\n",
    "del df_conso"
   ]
  },
  {
   "cell_type": "code",
   "execution_count": 15,
   "id": "db822617",
   "metadata": {
    "execution": {
     "iopub.execute_input": "2024-01-26T10:52:53.639060Z",
     "iopub.status.busy": "2024-01-26T10:52:53.638631Z",
     "iopub.status.idle": "2024-01-26T10:52:53.661822Z",
     "shell.execute_reply": "2024-01-26T10:52:53.660545Z"
    },
    "papermill": {
     "duration": 0.048356,
     "end_time": "2024-01-26T10:52:53.664458",
     "exception": false,
     "start_time": "2024-01-26T10:52:53.616102",
     "status": "completed"
    },
    "tags": []
   },
   "outputs": [
    {
     "data": {
      "text/plain": [
       "datetime           \n",
       "2022-10-30 03:00:00    136\n",
       "2022-03-27 03:00:00    134\n",
       "2023-03-26 03:00:00    132\n",
       "2021-10-31 03:00:00    126\n",
       "Name: count, dtype: int64"
      ]
     },
     "execution_count": 15,
     "metadata": {},
     "output_type": "execute_result"
    }
   ],
   "source": [
    "# Some target are nulls.\n",
    "# They are observed during daytime change, summer and winter\n",
    "df_train[['datetime']].loc[df_train.target.isnull()].value_counts()"
   ]
  },
  {
   "cell_type": "code",
   "execution_count": 16,
   "id": "19c42535",
   "metadata": {
    "execution": {
     "iopub.execute_input": "2024-01-26T10:52:53.708247Z",
     "iopub.status.busy": "2024-01-26T10:52:53.707854Z",
     "iopub.status.idle": "2024-01-26T10:52:53.831132Z",
     "shell.execute_reply": "2024-01-26T10:52:53.829704Z"
    },
    "papermill": {
     "duration": 0.14898,
     "end_time": "2024-01-26T10:52:53.834324",
     "exception": false,
     "start_time": "2024-01-26T10:52:53.685344",
     "status": "completed"
    },
    "tags": []
   },
   "outputs": [],
   "source": [
    "# We can drop them, no need to interpolate\n",
    "df_train.dropna(subset=['target'], inplace=True)"
   ]
  },
  {
   "cell_type": "code",
   "execution_count": 17,
   "id": "31b7f91e",
   "metadata": {
    "execution": {
     "iopub.execute_input": "2024-01-26T10:52:53.879541Z",
     "iopub.status.busy": "2024-01-26T10:52:53.879113Z",
     "iopub.status.idle": "2024-01-26T10:52:54.279690Z",
     "shell.execute_reply": "2024-01-26T10:52:54.278448Z"
    },
    "papermill": {
     "duration": 0.427055,
     "end_time": "2024-01-26T10:52:54.282464",
     "exception": false,
     "start_time": "2024-01-26T10:52:53.855409",
     "status": "completed"
    },
    "tags": []
   },
   "outputs": [],
   "source": [
    "df_full_pid_conso = df_train.loc[df_train.is_consumption==1].merge(\\\n",
    "                        df_full_pid[['prediction_unit_id']], on='prediction_unit_id', how='inner')\n",
    "\n",
    "df_full_pid_prod = df_train.loc[df_train.is_consumption==0].merge(\\\n",
    "                        df_full_pid[['prediction_unit_id']], on='prediction_unit_id', how='inner')"
   ]
  },
  {
   "cell_type": "markdown",
   "id": "7c9b625a",
   "metadata": {
    "papermill": {
     "duration": 0.021344,
     "end_time": "2024-01-26T10:52:54.325020",
     "exception": false,
     "start_time": "2024-01-26T10:52:54.303676",
     "status": "completed"
    },
    "tags": []
   },
   "source": [
    "#### Functions definition"
   ]
  },
  {
   "cell_type": "code",
   "execution_count": 18,
   "id": "3adb0471",
   "metadata": {
    "execution": {
     "iopub.execute_input": "2024-01-26T10:52:54.369350Z",
     "iopub.status.busy": "2024-01-26T10:52:54.368962Z",
     "iopub.status.idle": "2024-01-26T10:52:54.376574Z",
     "shell.execute_reply": "2024-01-26T10:52:54.375302Z"
    },
    "papermill": {
     "duration": 0.032518,
     "end_time": "2024-01-26T10:52:54.378915",
     "exception": false,
     "start_time": "2024-01-26T10:52:54.346397",
     "status": "completed"
    },
    "tags": []
   },
   "outputs": [],
   "source": [
    "def fourier_features(index, freq, order):\n",
    "    time = np.arange(len(index), dtype=np.float32)\n",
    "    k = 2 * np.pi * (1 / freq) * time\n",
    "    features = {}\n",
    "    for i in range(1, order + 1):\n",
    "        features.update({\n",
    "            f\"sin_{freq}_{i}\": np.sin(i * k),\n",
    "            f\"cos_{freq}_{i}\": np.cos(i * k),\n",
    "        })\n",
    "    return pd.DataFrame(features, index=index)"
   ]
  },
  {
   "cell_type": "code",
   "execution_count": 19,
   "id": "1ac58571",
   "metadata": {
    "execution": {
     "iopub.execute_input": "2024-01-26T10:52:54.423712Z",
     "iopub.status.busy": "2024-01-26T10:52:54.423303Z",
     "iopub.status.idle": "2024-01-26T10:52:54.436388Z",
     "shell.execute_reply": "2024-01-26T10:52:54.435238Z"
    },
    "papermill": {
     "duration": 0.037964,
     "end_time": "2024-01-26T10:52:54.438749",
     "exception": false,
     "start_time": "2024-01-26T10:52:54.400785",
     "status": "completed"
    },
    "tags": []
   },
   "outputs": [],
   "source": [
    "def add_season(df, consumption, group):\n",
    "    ''' Adds the seasonal Fourier in and out of sample, up to the end of the competition, per hour'''\n",
    "    \n",
    "    df_fourier = df.loc[ df.prediction_unit_id == group ]\n",
    "    # str -> datetime, then as index\n",
    "    df_fourier['datetime'] = pd.to_datetime(df_fourier['datetime'], format='%Y-%m-%d %H:%M:%S')\n",
    "    df_fourier = df_fourier.set_index('datetime').sort_index(ascending=True)\n",
    "    # remove timezone aware from index\n",
    "    df_fourier.index = df_fourier.index.tz_localize(None)\n",
    "    \n",
    "    # Orders are not the same for production and consumption.\n",
    "    # See periodogram in the dedicated notebook\n",
    "    nb_f = 4 if consumption==True else 3\n",
    "    \n",
    "    fourier = CalendarFourier(freq=\"A\", order=nb_f)\n",
    "\n",
    "    dp = DeterministicProcess(\n",
    "        # Need to pass index as period, otherwise won't work\n",
    "        index=df_fourier.index.to_period(\"H\"), #slice the index with in sample only\n",
    "        constant=True,               # dummy feature for bias (y-intercept)\n",
    "        order=1,                     # trend (order 1 means linear)\n",
    "        seasonal=True,               # weekly seasonality (indicators)\n",
    "        additional_terms=[fourier],  # annual seasonality (fourier)\n",
    "        drop=True                    # drop terms to avoid collinearity\n",
    "    )\n",
    "\n",
    "    # in-sample\n",
    "    X = dp.in_sample()\n",
    "    y = df_fourier['target']\n",
    "\n",
    "    model = LinearRegression(fit_intercept=False)\n",
    "    _ = model.fit(X, y)\n",
    "\n",
    "    y_pred = pd.Series(model.predict(X), index=y.index)\n",
    "\n",
    "    # There are 5880 more rows between 31-05-2022 and 02-06-2024\n",
    "    # This should be the largest 'real data' test possible\n",
    "    X_fore = dp.out_of_sample(steps=8820)\n",
    "    y_fore = pd.Series(model.predict(X_fore), index=X_fore.index)\n",
    "\n",
    "    # Concatenate in and out of sample\n",
    "    y_fore.index = y_fore.index.to_timestamp()\n",
    "    y_season = pd.concat([y_pred, y_fore])\n",
    "\n",
    "    df_season = pd.DataFrame(y_season, columns=['seasonality'])\n",
    "    \n",
    "    df_fourier = df_fourier.join(df_season, how='right')\n",
    "    # Fill pid for out of sample values\n",
    "    df_fourier['prediction_unit_id'] = group\n",
    "    df_fourier['is_consumption'] = 1 if consumption==True else 0\n",
    "\n",
    "\n",
    "    return df_fourier"
   ]
  },
  {
   "cell_type": "code",
   "execution_count": 20,
   "id": "e0237dbb",
   "metadata": {
    "execution": {
     "iopub.execute_input": "2024-01-26T10:52:54.482949Z",
     "iopub.status.busy": "2024-01-26T10:52:54.482517Z",
     "iopub.status.idle": "2024-01-26T10:52:54.492162Z",
     "shell.execute_reply": "2024-01-26T10:52:54.490894Z"
    },
    "papermill": {
     "duration": 0.035146,
     "end_time": "2024-01-26T10:52:54.494792",
     "exception": false,
     "start_time": "2024-01-26T10:52:54.459646",
     "status": "completed"
    },
    "tags": []
   },
   "outputs": [],
   "source": [
    "def add_median_columns(df_in):\n",
    "    \n",
    "    # Consumption and production can't be below 0. Floor Fourier functions to 0.\n",
    "    #df_in.loc[df_in.seasonality < 0, 'seasonality'] = 0\n",
    "\n",
    "    # Seasonality per county\n",
    "    df_gp = df_in.groupby(['datetime','county'])['seasonality'].median().reset_index()\n",
    "    df_gp.rename(columns={'seasonality':'med_st_county'}, inplace=True)\n",
    "    df_in = pd.merge(df_in, df_gp, on=['datetime', 'county'])\n",
    "\n",
    "    # Seasonality per business\n",
    "    df_gp = df_in.groupby(['datetime','is_business'])['seasonality'].median().reset_index()\n",
    "    df_gp.rename(columns={'seasonality':'med_st_business'}, inplace=True)\n",
    "    df_in = pd.merge(df_in, df_gp, on=['datetime', 'is_business'])\n",
    "\n",
    "    # Seasonality per product\n",
    "    df_gp = df_in.groupby(['datetime','product_type'])['seasonality'].median().reset_index()\n",
    "    df_gp.rename(columns={'seasonality':'med_st_product_type'}, inplace=True)\n",
    "    df_in = pd.merge(df_in, df_gp, on=['datetime', 'product_type'])\n",
    "\n",
    "    return df_in"
   ]
  },
  {
   "cell_type": "code",
   "execution_count": 21,
   "id": "691ed466",
   "metadata": {
    "execution": {
     "iopub.execute_input": "2024-01-26T10:52:54.538065Z",
     "iopub.status.busy": "2024-01-26T10:52:54.537650Z",
     "iopub.status.idle": "2024-01-26T10:52:54.547759Z",
     "shell.execute_reply": "2024-01-26T10:52:54.546700Z"
    },
    "papermill": {
     "duration": 0.034368,
     "end_time": "2024-01-26T10:52:54.550145",
     "exception": false,
     "start_time": "2024-01-26T10:52:54.515777",
     "status": "completed"
    },
    "tags": []
   },
   "outputs": [],
   "source": [
    "def optim_coeffs(df_in):\n",
    "    \n",
    "    df_optim = df_in[df_in['target'].notna()]\n",
    "\n",
    "    # Define the coefficients\n",
    "    x = np.random.rand()\n",
    "    y = np.random.rand()\n",
    "    z = np.random.rand()\n",
    "    \n",
    "    def f(coefficients):\n",
    "        ''' Define the function to minimize'''\n",
    "        x, y, z = coefficients\n",
    "        return np.sum((x * df_optim['med_st_county'] + y * df_optim['med_st_business'] + z * df_optim['med_st_product_type'] - df_optim['target']) ** 2)\n",
    "    \n",
    "    # Minimize the function\n",
    "    res = minimize(f, [x, y, z])\n",
    "\n",
    "    x_opt = res.x[0]\n",
    "    y_opt = res.x[1]\n",
    "    z_opt = res.x[2]\n",
    "    coeffs = [x_opt, y_opt, z_opt]\n",
    "\n",
    "    df_in['st_target'] = x_opt*df_in.med_st_county + y_opt*df_in.med_st_business + z_opt*df_in.med_st_product_type\n",
    "    df_in['residuals'] = df_in.target - df_in.st_target\n",
    "    \n",
    "    return df_in, coeffs"
   ]
  },
  {
   "cell_type": "code",
   "execution_count": 22,
   "id": "fbd36f73",
   "metadata": {
    "execution": {
     "iopub.execute_input": "2024-01-26T10:52:54.593166Z",
     "iopub.status.busy": "2024-01-26T10:52:54.592776Z",
     "iopub.status.idle": "2024-01-26T10:52:54.601876Z",
     "shell.execute_reply": "2024-01-26T10:52:54.600622Z"
    },
    "papermill": {
     "duration": 0.033532,
     "end_time": "2024-01-26T10:52:54.604348",
     "exception": false,
     "start_time": "2024-01-26T10:52:54.570816",
     "status": "completed"
    },
    "tags": []
   },
   "outputs": [],
   "source": [
    "def extract_date_components(df_in):\n",
    "    '''Feature engineering for dates.\n",
    "    Add datetime day, holiday, and datetime components'''\n",
    "    \n",
    "    df_in['datetime_day'] = df_in['datetime'].dt.date\n",
    "    df_in['datetime_day'] = pd.to_datetime(df_in['datetime_day'], format='%Y-%m-%d')\n",
    "    \n",
    "    # Add Estonian holiday column, based on the previous one\n",
    "    est_holidays = holidays.Estonia(years=[2021, 2022, 2023, 2024])\n",
    "    df_in['holiday'] = df_in['datetime_day'].apply(lambda x: 1 if x in est_holidays else 0)\n",
    "    \n",
    "    # Create new columns from date column\n",
    "    df_in['week_of_year'] = df_in['datetime'].dt.isocalendar().week.astype(int)\n",
    "    df_in['day_of_week'] = df_in['datetime'].dt.dayofweek.astype(int)\n",
    "    df_in['day_of_year'] = df_in['datetime'].dt.dayofyear.astype(int)\n",
    "    df_in['hour_of_day'] = df_in['datetime'].dt.hour.astype(int)\n",
    "    \n",
    "    return df_in"
   ]
  },
  {
   "cell_type": "code",
   "execution_count": 23,
   "id": "472f414a",
   "metadata": {
    "execution": {
     "iopub.execute_input": "2024-01-26T10:52:54.648010Z",
     "iopub.status.busy": "2024-01-26T10:52:54.646994Z",
     "iopub.status.idle": "2024-01-26T10:52:54.655696Z",
     "shell.execute_reply": "2024-01-26T10:52:54.654829Z"
    },
    "papermill": {
     "duration": 0.032897,
     "end_time": "2024-01-26T10:52:54.658080",
     "exception": false,
     "start_time": "2024-01-26T10:52:54.625183",
     "status": "completed"
    },
    "tags": []
   },
   "outputs": [],
   "source": [
    "def run_fourier_and_optim(df_in, consumption, pid_list): \n",
    "    \n",
    "    df_list = []\n",
    "\n",
    "    for p in pids:\n",
    "        df_list.append( add_season(df_in, consumption=consumption, group=p) )\n",
    "    \n",
    "    df_fourier = pd.concat(df_list)\n",
    "\n",
    "    # Datetime back as column, no timezone\n",
    "    df_fourier.reset_index(inplace=True)\n",
    "    df_fourier.rename(columns={'index':'datetime'},inplace=True)\n",
    "    df_fourier['datetime'] = df_fourier['datetime'].dt.tz_localize('UTC')\n",
    "    \n",
    "    # Feature Engineering for datetime column\n",
    "    df_fourier = extract_date_components(df_fourier)\n",
    "    df_fourier['datetime_day'] = df_fourier['datetime_day'].dt.tz_localize('UTC')\n",
    "    \n",
    "    # Add 'county','is_business','product_type' to out of sample. Join with distinct pid combinations\n",
    "    df_fourier = pd.merge(df_fourier.drop(columns=['county','is_business','product_type']), df_distinct, on=['prediction_unit_id'], how='left')\n",
    "\n",
    "    # Median columns calculation\n",
    "    df_fourier = add_median_columns(df_fourier)\n",
    "    \n",
    "    # Coeff optimisation\n",
    "    df_fourier, coeffs = optim_coeffs(df_fourier)\n",
    "\n",
    "    return df_fourier.drop(columns=['data_block_id']), coeffs"
   ]
  },
  {
   "cell_type": "code",
   "execution_count": 24,
   "id": "ffbda9e0",
   "metadata": {
    "execution": {
     "iopub.execute_input": "2024-01-26T10:52:54.701460Z",
     "iopub.status.busy": "2024-01-26T10:52:54.700710Z",
     "iopub.status.idle": "2024-01-26T10:52:54.711130Z",
     "shell.execute_reply": "2024-01-26T10:52:54.708220Z"
    },
    "papermill": {
     "duration": 0.03608,
     "end_time": "2024-01-26T10:52:54.714906",
     "exception": false,
     "start_time": "2024-01-26T10:52:54.678826",
     "status": "completed"
    },
    "tags": []
   },
   "outputs": [],
   "source": [
    "def unite_dfs(df_in, client, gas, elec, weather_forecast):\n",
    "    ''' Merge all DataFrames into one'''\n",
    "    \n",
    "    df_unite = pd.merge(df_in, client, on=['datetime_day', 'county', 'is_business', 'product_type'], how='left')\n",
    "    df_unite = pd.merge(df_unite, gas, on=['datetime_day'], how='left')\n",
    "    df_unite = pd.merge(df_unite, elec, on=['datetime'], how='left')\n",
    "    df_unite = pd.merge(df_unite, weather_forecast, on=['datetime','county'], how='left')\n",
    "    \n",
    "    return df_unite"
   ]
  },
  {
   "cell_type": "code",
   "execution_count": 25,
   "id": "7a4036c6",
   "metadata": {
    "execution": {
     "iopub.execute_input": "2024-01-26T10:52:54.761445Z",
     "iopub.status.busy": "2024-01-26T10:52:54.760400Z",
     "iopub.status.idle": "2024-01-26T10:52:54.770329Z",
     "shell.execute_reply": "2024-01-26T10:52:54.769319Z"
    },
    "papermill": {
     "duration": 0.03418,
     "end_time": "2024-01-26T10:52:54.772752",
     "exception": false,
     "start_time": "2024-01-26T10:52:54.738572",
     "status": "completed"
    },
    "tags": []
   },
   "outputs": [],
   "source": [
    "def generate_FE_columns(df_in):\n",
    "\n",
    "    df_in['ssrd_mean*temp_mean'] = df_in.surface_solar_radiation_downwards_mean * df_in.temperature_mean\n",
    "    df_in['ssrd_mean*temp_max'] = df_in.surface_solar_radiation_downwards_mean * df_in.temperature_max\n",
    "    df_in['ssrd_mean*hod'] = df_in.surface_solar_radiation_downwards_mean * df_in.hour_of_day\n",
    "    df_in['ssrd_mean*eic'] = df_in.surface_solar_radiation_downwards_mean * df_in.eic_count\n",
    "    df_in['ssrd_max*eic'] = df_in.surface_solar_radiation_downwards_max * df_in.eic_count\n",
    "    df_in['ssrd_mean*capacity'] = df_in.surface_solar_radiation_downwards_mean * df_in.installed_capacity\n",
    "    df_in['ssrd_max*capacity'] = df_in.surface_solar_radiation_downwards_max * df_in.installed_capacity\n",
    "    df_in['ssrd_mean*dsr_mean'] = df_in.surface_solar_radiation_downwards_mean * df_in.direct_solar_radiation_mean\n",
    "    df_in['ssrd_max*dsr_mean'] = df_in.surface_solar_radiation_downwards_max * df_in.direct_solar_radiation_mean\n",
    "    \n",
    "    df_in['temp_max*hod'] = df_in.temperature_max * df_in.hour_of_day\n",
    "    df_in['temp_max*dsr_max'] = df_in.temperature_max * df_in.direct_solar_radiation_max\n",
    "    df_in['temp_min*capacity'] = df_in.temperature_min * df_in.installed_capacity\n",
    "    \n",
    "    df_in['dsr_mean*dsr_max'] = df_in.direct_solar_radiation_mean * df_in.direct_solar_radiation_max\n",
    "    \n",
    "    df_in['capacity*business'] = df_in.installed_capacity * df_in.is_business\n",
    "    df_in['holiday*eic'] = df_in.holiday * df_in.eic_count\n",
    "    \n",
    "    df_in['sqrt_capacity'] = df_in.installed_capacity ** 0.5\n",
    "    \n",
    "    return df_in"
   ]
  },
  {
   "cell_type": "code",
   "execution_count": 26,
   "id": "0935f158",
   "metadata": {
    "execution": {
     "iopub.execute_input": "2024-01-26T10:52:54.816313Z",
     "iopub.status.busy": "2024-01-26T10:52:54.815636Z",
     "iopub.status.idle": "2024-01-26T10:52:54.822222Z",
     "shell.execute_reply": "2024-01-26T10:52:54.821401Z"
    },
    "papermill": {
     "duration": 0.031139,
     "end_time": "2024-01-26T10:52:54.824482",
     "exception": false,
     "start_time": "2024-01-26T10:52:54.793343",
     "status": "completed"
    },
    "tags": []
   },
   "outputs": [],
   "source": [
    "def interpolate_per_pids(df, group):\n",
    "    '''Interpolate null Target values.\n",
    "    Per given group'''\n",
    "    \n",
    "    # Handle on selected group, in-sample data, for training\n",
    "    df_extract = df.loc[df['prediction_unit_id'] == group].copy()\n",
    "\n",
    "    # Datetime has to be passed to index to interpolate\n",
    "    df_extract.set_index('datetime', inplace=True)\n",
    "    df_extract.sort_index(ascending=True, inplace=True)\n",
    "\n",
    "    # The pad method fills the missing values with the last known value in the column.\n",
    "    df_extract.interpolate(method='pad', inplace=True)\n",
    "\n",
    "    # Bring datetime back to column. Easier for future pd.contact for each group\n",
    "    return df_extract.reset_index()\n"
   ]
  },
  {
   "cell_type": "markdown",
   "id": "46a2f28b",
   "metadata": {
    "papermill": {
     "duration": 0.020714,
     "end_time": "2024-01-26T10:52:54.865660",
     "exception": false,
     "start_time": "2024-01-26T10:52:54.844946",
     "status": "completed"
    },
    "tags": []
   },
   "source": [
    "#### Run Fourier transform"
   ]
  },
  {
   "cell_type": "code",
   "execution_count": 27,
   "id": "99e10ebe",
   "metadata": {
    "execution": {
     "iopub.execute_input": "2024-01-26T10:52:54.909876Z",
     "iopub.status.busy": "2024-01-26T10:52:54.909418Z",
     "iopub.status.idle": "2024-01-26T10:52:55.188259Z",
     "shell.execute_reply": "2024-01-26T10:52:55.187037Z"
    },
    "papermill": {
     "duration": 0.304481,
     "end_time": "2024-01-26T10:52:55.191184",
     "exception": false,
     "start_time": "2024-01-26T10:52:54.886703",
     "status": "completed"
    },
    "tags": []
   },
   "outputs": [],
   "source": [
    "d_dfs_in = {\n",
    "    \"df_in\":[df_full_pid_conso, df_full_pid_prod],\n",
    "    \"consumption\":[True, False]\n",
    "}\n",
    "\n",
    "# List of all unique pids\n",
    "pids = set(df_full_pid_conso.prediction_unit_id)\n",
    "\n",
    "df_distinct = df_train[['prediction_unit_id','county','is_business','product_type']].drop_duplicates()"
   ]
  },
  {
   "cell_type": "code",
   "execution_count": 28,
   "id": "9d78252a",
   "metadata": {
    "execution": {
     "iopub.execute_input": "2024-01-26T10:52:55.234948Z",
     "iopub.status.busy": "2024-01-26T10:52:55.234488Z",
     "iopub.status.idle": "2024-01-26T10:53:48.022304Z",
     "shell.execute_reply": "2024-01-26T10:53:48.021268Z"
    },
    "papermill": {
     "duration": 52.813123,
     "end_time": "2024-01-26T10:53:48.025109",
     "exception": false,
     "start_time": "2024-01-26T10:52:55.211986",
     "status": "completed"
    },
    "tags": []
   },
   "outputs": [],
   "source": [
    "# Add Fourier Season + Trend /county /isBusiness /Product, on prod & conso datasets separately\n",
    "df_ref_conso, coeffs_conso = run_fourier_and_optim(d_dfs_in['df_in'][0], d_dfs_in['consumption'][0], pids)\n",
    "df_ref_prod, coeffs_prod = run_fourier_and_optim(d_dfs_in['df_in'][1], d_dfs_in['consumption'][1], pids)"
   ]
  },
  {
   "cell_type": "code",
   "execution_count": 29,
   "id": "58d8eac6",
   "metadata": {
    "execution": {
     "iopub.execute_input": "2024-01-26T10:53:48.069642Z",
     "iopub.status.busy": "2024-01-26T10:53:48.068657Z",
     "iopub.status.idle": "2024-01-26T10:53:48.074241Z",
     "shell.execute_reply": "2024-01-26T10:53:48.073058Z"
    },
    "papermill": {
     "duration": 0.030383,
     "end_time": "2024-01-26T10:53:48.076478",
     "exception": false,
     "start_time": "2024-01-26T10:53:48.046095",
     "status": "completed"
    },
    "tags": []
   },
   "outputs": [
    {
     "name": "stdout",
     "output_type": "stream",
     "text": [
      "[1.6066448275894265, 1.021881583666855, -0.07560427298800489]\n",
      "[1.834457827595931, -2.8296501874945115, 1.8828243066812798]\n"
     ]
    }
   ],
   "source": [
    "print(coeffs_conso)\n",
    "print(coeffs_prod)"
   ]
  },
  {
   "cell_type": "code",
   "execution_count": 30,
   "id": "51309563",
   "metadata": {
    "execution": {
     "iopub.execute_input": "2024-01-26T10:53:48.121882Z",
     "iopub.status.busy": "2024-01-26T10:53:48.121185Z",
     "iopub.status.idle": "2024-01-26T10:53:49.518964Z",
     "shell.execute_reply": "2024-01-26T10:53:49.517663Z"
    },
    "papermill": {
     "duration": 1.424141,
     "end_time": "2024-01-26T10:53:49.521944",
     "exception": false,
     "start_time": "2024-01-26T10:53:48.097803",
     "status": "completed"
    },
    "tags": []
   },
   "outputs": [],
   "source": [
    "# Merge main DataFrames with additional Measures Datasets\n",
    "\n",
    "df_raw_conso = unite_dfs(df_ref_conso.loc[(df_ref_conso.datetime_day>='2021-09-03') & (df_ref_conso.datetime_day<='2023-05-31')],\n",
    "                           df_client, df_gas, df_electricity, df_forecast_w_per_county)\n",
    "     \n",
    "df_raw_prod = unite_dfs(df_ref_prod.loc[(df_ref_prod.datetime_day>='2021-09-03') & (df_ref_prod.datetime_day<='2023-05-31')],\n",
    "                          df_client, df_gas, df_electricity, df_forecast_w_per_county)"
   ]
  },
  {
   "cell_type": "code",
   "execution_count": 31,
   "id": "a1c43622",
   "metadata": {
    "execution": {
     "iopub.execute_input": "2024-01-26T10:53:49.566602Z",
     "iopub.status.busy": "2024-01-26T10:53:49.566206Z",
     "iopub.status.idle": "2024-01-26T10:53:59.514599Z",
     "shell.execute_reply": "2024-01-26T10:53:59.513105Z"
    },
    "papermill": {
     "duration": 9.97427,
     "end_time": "2024-01-26T10:53:59.517607",
     "exception": false,
     "start_time": "2024-01-26T10:53:49.543337",
     "status": "completed"
    },
    "tags": []
   },
   "outputs": [],
   "source": [
    "# extract in-sample data, and interpolate values per PIDs\n",
    "\n",
    "col_list = df_raw_conso.columns.to_list()\n",
    "df_train_conso = pd.DataFrame(columns=col_list)\n",
    "df_train_prod = pd.DataFrame(columns=col_list)\n",
    "\n",
    "for g in list(pids):\n",
    "        df_train_conso = pd.concat([df_train_conso, interpolate_per_pids(df_raw_conso, group=g)])\n",
    "        df_train_prod = pd.concat([df_train_prod, interpolate_per_pids(df_raw_prod, group=g)])\n",
    "\n",
    "del df_raw_conso, df_raw_prod"
   ]
  },
  {
   "cell_type": "code",
   "execution_count": 32,
   "id": "44ace201",
   "metadata": {
    "execution": {
     "iopub.execute_input": "2024-01-26T10:53:59.562894Z",
     "iopub.status.busy": "2024-01-26T10:53:59.562411Z",
     "iopub.status.idle": "2024-01-26T10:54:01.535441Z",
     "shell.execute_reply": "2024-01-26T10:54:01.534168Z"
    },
    "papermill": {
     "duration": 1.998587,
     "end_time": "2024-01-26T10:54:01.538430",
     "exception": false,
     "start_time": "2024-01-26T10:53:59.539843",
     "status": "completed"
    },
    "tags": []
   },
   "outputs": [],
   "source": [
    "# Convert columns incorrectly converted as object back to int\n",
    "obj_cols = df_train_conso.drop('datetime_day', axis=1).select_dtypes(include=[object]).columns\n",
    "\n",
    "df_train_conso[obj_cols] = df_train_conso[obj_cols].astype(int)\n",
    "df_train_prod[obj_cols] = df_train_prod[obj_cols].astype(int)"
   ]
  },
  {
   "cell_type": "code",
   "execution_count": 33,
   "id": "64be1c3e",
   "metadata": {
    "execution": {
     "iopub.execute_input": "2024-01-26T10:54:01.582224Z",
     "iopub.status.busy": "2024-01-26T10:54:01.581829Z",
     "iopub.status.idle": "2024-01-26T10:54:01.705084Z",
     "shell.execute_reply": "2024-01-26T10:54:01.703807Z"
    },
    "papermill": {
     "duration": 0.148681,
     "end_time": "2024-01-26T10:54:01.708125",
     "exception": false,
     "start_time": "2024-01-26T10:54:01.559444",
     "status": "completed"
    },
    "tags": []
   },
   "outputs": [],
   "source": [
    "# Add Feature Engineering columns\n",
    "df_train_conso = generate_FE_columns(df_train_conso)\n",
    "df_train_prod = generate_FE_columns(df_train_prod)"
   ]
  },
  {
   "cell_type": "code",
   "execution_count": 34,
   "id": "5da507f7",
   "metadata": {
    "execution": {
     "iopub.execute_input": "2024-01-26T10:54:01.751490Z",
     "iopub.status.busy": "2024-01-26T10:54:01.751091Z",
     "iopub.status.idle": "2024-01-26T10:54:01.820822Z",
     "shell.execute_reply": "2024-01-26T10:54:01.819560Z"
    },
    "papermill": {
     "duration": 0.094482,
     "end_time": "2024-01-26T10:54:01.823434",
     "exception": false,
     "start_time": "2024-01-26T10:54:01.728952",
     "status": "completed"
    },
    "tags": []
   },
   "outputs": [
    {
     "data": {
      "text/plain": [
       "datetime                                  0\n",
       "target                                    0\n",
       "is_consumption                            0\n",
       "row_id                                    0\n",
       "prediction_unit_id                        0\n",
       "seasonality                               0\n",
       "datetime_day                              0\n",
       "holiday                                   0\n",
       "week_of_year                              0\n",
       "day_of_week                               0\n",
       "day_of_year                               0\n",
       "hour_of_day                               0\n",
       "county                                    0\n",
       "is_business                               0\n",
       "product_type                              0\n",
       "med_st_county                             0\n",
       "med_st_business                           0\n",
       "med_st_product_type                       0\n",
       "st_target                                 0\n",
       "residuals                                 0\n",
       "eic_count                                 0\n",
       "installed_capacity                        0\n",
       "lowest_price_per_mwh                      0\n",
       "highest_price_per_mwh                     0\n",
       "euros_per_mwh                             0\n",
       "temperature_min                           0\n",
       "temperature_mean                          0\n",
       "temperature_max                           0\n",
       "dewpoint_mean                             0\n",
       "10_metre_u_wind_component_mean            0\n",
       "direct_solar_radiation_mean               0\n",
       "direct_solar_radiation_max                0\n",
       "surface_solar_radiation_downwards_mean    0\n",
       "surface_solar_radiation_downwards_max     0\n",
       "ssrd_mean*temp_mean                       0\n",
       "ssrd_mean*temp_max                        0\n",
       "ssrd_mean*hod                             0\n",
       "ssrd_mean*eic                             0\n",
       "ssrd_max*eic                              0\n",
       "ssrd_mean*capacity                        0\n",
       "ssrd_max*capacity                         0\n",
       "ssrd_mean*dsr_mean                        0\n",
       "ssrd_max*dsr_mean                         0\n",
       "temp_max*hod                              0\n",
       "temp_max*dsr_max                          0\n",
       "temp_min*capacity                         0\n",
       "dsr_mean*dsr_max                          0\n",
       "capacity*business                         0\n",
       "holiday*eic                               0\n",
       "sqrt_capacity                             0\n",
       "dtype: int64"
      ]
     },
     "execution_count": 34,
     "metadata": {},
     "output_type": "execute_result"
    }
   ],
   "source": [
    "df_train_conso.isnull().sum()"
   ]
  },
  {
   "cell_type": "code",
   "execution_count": 35,
   "id": "45b0a525",
   "metadata": {
    "execution": {
     "iopub.execute_input": "2024-01-26T10:54:01.867535Z",
     "iopub.status.busy": "2024-01-26T10:54:01.867088Z",
     "iopub.status.idle": "2024-01-26T10:54:01.936916Z",
     "shell.execute_reply": "2024-01-26T10:54:01.935761Z"
    },
    "papermill": {
     "duration": 0.095189,
     "end_time": "2024-01-26T10:54:01.939657",
     "exception": false,
     "start_time": "2024-01-26T10:54:01.844468",
     "status": "completed"
    },
    "tags": []
   },
   "outputs": [
    {
     "data": {
      "text/plain": [
       "datetime                                  0\n",
       "target                                    0\n",
       "is_consumption                            0\n",
       "row_id                                    0\n",
       "prediction_unit_id                        0\n",
       "seasonality                               0\n",
       "datetime_day                              0\n",
       "holiday                                   0\n",
       "week_of_year                              0\n",
       "day_of_week                               0\n",
       "day_of_year                               0\n",
       "hour_of_day                               0\n",
       "county                                    0\n",
       "is_business                               0\n",
       "product_type                              0\n",
       "med_st_county                             0\n",
       "med_st_business                           0\n",
       "med_st_product_type                       0\n",
       "st_target                                 0\n",
       "residuals                                 0\n",
       "eic_count                                 0\n",
       "installed_capacity                        0\n",
       "lowest_price_per_mwh                      0\n",
       "highest_price_per_mwh                     0\n",
       "euros_per_mwh                             0\n",
       "temperature_min                           0\n",
       "temperature_mean                          0\n",
       "temperature_max                           0\n",
       "dewpoint_mean                             0\n",
       "10_metre_u_wind_component_mean            0\n",
       "direct_solar_radiation_mean               0\n",
       "direct_solar_radiation_max                0\n",
       "surface_solar_radiation_downwards_mean    0\n",
       "surface_solar_radiation_downwards_max     0\n",
       "ssrd_mean*temp_mean                       0\n",
       "ssrd_mean*temp_max                        0\n",
       "ssrd_mean*hod                             0\n",
       "ssrd_mean*eic                             0\n",
       "ssrd_max*eic                              0\n",
       "ssrd_mean*capacity                        0\n",
       "ssrd_max*capacity                         0\n",
       "ssrd_mean*dsr_mean                        0\n",
       "ssrd_max*dsr_mean                         0\n",
       "temp_max*hod                              0\n",
       "temp_max*dsr_max                          0\n",
       "temp_min*capacity                         0\n",
       "dsr_mean*dsr_max                          0\n",
       "capacity*business                         0\n",
       "holiday*eic                               0\n",
       "sqrt_capacity                             0\n",
       "dtype: int64"
      ]
     },
     "execution_count": 35,
     "metadata": {},
     "output_type": "execute_result"
    }
   ],
   "source": [
    "df_train_prod.isnull().sum()"
   ]
  },
  {
   "cell_type": "markdown",
   "id": "0a64aae1",
   "metadata": {
    "papermill": {
     "duration": 0.021733,
     "end_time": "2024-01-26T10:54:01.982781",
     "exception": false,
     "start_time": "2024-01-26T10:54:01.961048",
     "status": "completed"
    },
    "tags": []
   },
   "source": [
    "# Train & Fit Model"
   ]
  },
  {
   "cell_type": "markdown",
   "id": "e66a6c49",
   "metadata": {
    "papermill": {
     "duration": 0.021092,
     "end_time": "2024-01-26T10:54:02.025298",
     "exception": false,
     "start_time": "2024-01-26T10:54:02.004206",
     "status": "completed"
    },
    "tags": []
   },
   "source": [
    "#### MAE pour conso"
   ]
  },
  {
   "cell_type": "code",
   "execution_count": 36,
   "id": "6de71693",
   "metadata": {
    "execution": {
     "iopub.execute_input": "2024-01-26T10:54:02.070068Z",
     "iopub.status.busy": "2024-01-26T10:54:02.069619Z",
     "iopub.status.idle": "2024-01-26T10:54:02.761139Z",
     "shell.execute_reply": "2024-01-26T10:54:02.759704Z"
    },
    "papermill": {
     "duration": 0.716829,
     "end_time": "2024-01-26T10:54:02.763949",
     "exception": false,
     "start_time": "2024-01-26T10:54:02.047120",
     "status": "completed"
    },
    "tags": []
   },
   "outputs": [],
   "source": [
    "X_train_conso, X_test_conso, y_train_conso, y_test_conso = train_test_split(\n",
    "    df_train_conso.drop(columns=['datetime','row_id','datetime_day','target','prediction_unit_id','seasonality','med_st_county','med_st_business','med_st_product_type','st_target','residuals']),\n",
    "    df_train_conso['residuals'], test_size=0.2, random_state=1664)"
   ]
  },
  {
   "cell_type": "code",
   "execution_count": 37,
   "id": "a1443b06",
   "metadata": {
    "execution": {
     "iopub.execute_input": "2024-01-26T10:54:02.809744Z",
     "iopub.status.busy": "2024-01-26T10:54:02.808949Z",
     "iopub.status.idle": "2024-01-26T10:54:02.815225Z",
     "shell.execute_reply": "2024-01-26T10:54:02.814231Z"
    },
    "papermill": {
     "duration": 0.031847,
     "end_time": "2024-01-26T10:54:02.817537",
     "exception": false,
     "start_time": "2024-01-26T10:54:02.785690",
     "status": "completed"
    },
    "tags": []
   },
   "outputs": [],
   "source": [
    "clf_conso = LGBMRegressor(\n",
    "                    boosting_type='gbdt',\n",
    "                    num_leaves=493,\n",
    "                    max_depth=10,\n",
    "                    learning_rate=0.251616038758,\n",
    "                    n_estimators=183,\n",
    "                    subsample_for_bin=200000,\n",
    "                    min_split_gain=0.33687805764,\n",
    "                    min_child_weight=0.392389870828,\n",
    "                    min_child_samples=19,\n",
    "                    subsample=1.0,\n",
    "                    subsample_freq=0,\n",
    "                    colsample_bytree=0.836929459452,\n",
    "                    reg_alpha=0.907183957449,\n",
    "                    reg_lambda=0.453793120328,\n",
    "                    random_state=1664\n",
    "                  )"
   ]
  },
  {
   "cell_type": "markdown",
   "id": "5fdd0391",
   "metadata": {
    "execution": {
     "iopub.execute_input": "2024-01-24T13:53:46.017299Z",
     "iopub.status.busy": "2024-01-24T13:53:46.016997Z",
     "iopub.status.idle": "2024-01-24T13:53:46.028425Z",
     "shell.execute_reply": "2024-01-24T13:53:46.027266Z",
     "shell.execute_reply.started": "2024-01-24T13:53:46.017272Z"
    },
    "papermill": {
     "duration": 0.020972,
     "end_time": "2024-01-26T10:54:02.859804",
     "exception": false,
     "start_time": "2024-01-26T10:54:02.838832",
     "status": "completed"
    },
    "tags": []
   },
   "source": [
    "clf = xgb.XGBRegressor(\n",
    "                    max_depth=6,\n",
    "                    learning_rate=0.2249351,\n",
    "                    gamma=0.14525607,\n",
    "                    min_child_weight=2.4945118,\n",
    "                    max_delta_step=0.0,\n",
    "                    subsample=0.6806308,\n",
    "                    colsample_bytree=0.5475739,\n",
    "                    colsample_bylevel=0.9011847,\n",
    "                    reg_alpha=0.78955835,\n",
    "                    reg_lambda=0.7961774,\n",
    "                    n_estimators=9996,\n",
    "                    silent=0,\n",
    "                    scale_pos_weight=1.0,\n",
    "                    base_score=0.5,\n",
    "                    seed=1664\n",
    "                  )"
   ]
  },
  {
   "cell_type": "code",
   "execution_count": 38,
   "id": "2395ac12",
   "metadata": {
    "execution": {
     "iopub.execute_input": "2024-01-26T10:54:02.905069Z",
     "iopub.status.busy": "2024-01-26T10:54:02.904611Z",
     "iopub.status.idle": "2024-01-26T10:54:34.245696Z",
     "shell.execute_reply": "2024-01-26T10:54:34.244325Z"
    },
    "papermill": {
     "duration": 31.381559,
     "end_time": "2024-01-26T10:54:34.263044",
     "exception": false,
     "start_time": "2024-01-26T10:54:02.881485",
     "status": "completed"
    },
    "tags": []
   },
   "outputs": [
    {
     "name": "stdout",
     "output_type": "stream",
     "text": [
      "CPU times: user 1min 15s, sys: 8 s, total: 1min 23s\n",
      "Wall time: 31.3 s\n"
     ]
    },
    {
     "data": {
      "text/html": [
       "<style>#sk-container-id-1 {color: black;background-color: white;}#sk-container-id-1 pre{padding: 0;}#sk-container-id-1 div.sk-toggleable {background-color: white;}#sk-container-id-1 label.sk-toggleable__label {cursor: pointer;display: block;width: 100%;margin-bottom: 0;padding: 0.3em;box-sizing: border-box;text-align: center;}#sk-container-id-1 label.sk-toggleable__label-arrow:before {content: \"▸\";float: left;margin-right: 0.25em;color: #696969;}#sk-container-id-1 label.sk-toggleable__label-arrow:hover:before {color: black;}#sk-container-id-1 div.sk-estimator:hover label.sk-toggleable__label-arrow:before {color: black;}#sk-container-id-1 div.sk-toggleable__content {max-height: 0;max-width: 0;overflow: hidden;text-align: left;background-color: #f0f8ff;}#sk-container-id-1 div.sk-toggleable__content pre {margin: 0.2em;color: black;border-radius: 0.25em;background-color: #f0f8ff;}#sk-container-id-1 input.sk-toggleable__control:checked~div.sk-toggleable__content {max-height: 200px;max-width: 100%;overflow: auto;}#sk-container-id-1 input.sk-toggleable__control:checked~label.sk-toggleable__label-arrow:before {content: \"▾\";}#sk-container-id-1 div.sk-estimator input.sk-toggleable__control:checked~label.sk-toggleable__label {background-color: #d4ebff;}#sk-container-id-1 div.sk-label input.sk-toggleable__control:checked~label.sk-toggleable__label {background-color: #d4ebff;}#sk-container-id-1 input.sk-hidden--visually {border: 0;clip: rect(1px 1px 1px 1px);clip: rect(1px, 1px, 1px, 1px);height: 1px;margin: -1px;overflow: hidden;padding: 0;position: absolute;width: 1px;}#sk-container-id-1 div.sk-estimator {font-family: monospace;background-color: #f0f8ff;border: 1px dotted black;border-radius: 0.25em;box-sizing: border-box;margin-bottom: 0.5em;}#sk-container-id-1 div.sk-estimator:hover {background-color: #d4ebff;}#sk-container-id-1 div.sk-parallel-item::after {content: \"\";width: 100%;border-bottom: 1px solid gray;flex-grow: 1;}#sk-container-id-1 div.sk-label:hover label.sk-toggleable__label {background-color: #d4ebff;}#sk-container-id-1 div.sk-serial::before {content: \"\";position: absolute;border-left: 1px solid gray;box-sizing: border-box;top: 0;bottom: 0;left: 50%;z-index: 0;}#sk-container-id-1 div.sk-serial {display: flex;flex-direction: column;align-items: center;background-color: white;padding-right: 0.2em;padding-left: 0.2em;position: relative;}#sk-container-id-1 div.sk-item {position: relative;z-index: 1;}#sk-container-id-1 div.sk-parallel {display: flex;align-items: stretch;justify-content: center;background-color: white;position: relative;}#sk-container-id-1 div.sk-item::before, #sk-container-id-1 div.sk-parallel-item::before {content: \"\";position: absolute;border-left: 1px solid gray;box-sizing: border-box;top: 0;bottom: 0;left: 50%;z-index: -1;}#sk-container-id-1 div.sk-parallel-item {display: flex;flex-direction: column;z-index: 1;position: relative;background-color: white;}#sk-container-id-1 div.sk-parallel-item:first-child::after {align-self: flex-end;width: 50%;}#sk-container-id-1 div.sk-parallel-item:last-child::after {align-self: flex-start;width: 50%;}#sk-container-id-1 div.sk-parallel-item:only-child::after {width: 0;}#sk-container-id-1 div.sk-dashed-wrapped {border: 1px dashed gray;margin: 0 0.4em 0.5em 0.4em;box-sizing: border-box;padding-bottom: 0.4em;background-color: white;}#sk-container-id-1 div.sk-label label {font-family: monospace;font-weight: bold;display: inline-block;line-height: 1.2em;}#sk-container-id-1 div.sk-label-container {text-align: center;}#sk-container-id-1 div.sk-container {/* jupyter's `normalize.less` sets `[hidden] { display: none; }` but bootstrap.min.css set `[hidden] { display: none !important; }` so we also need the `!important` here to be able to override the default hidden behavior on the sphinx rendered scikit-learn.org. See: https://github.com/scikit-learn/scikit-learn/issues/21755 */display: inline-block !important;position: relative;}#sk-container-id-1 div.sk-text-repr-fallback {display: none;}</style><div id=\"sk-container-id-1\" class=\"sk-top-container\"><div class=\"sk-text-repr-fallback\"><pre>LGBMRegressor(colsample_bytree=0.836929459452, learning_rate=0.251616038758,\n",
       "              max_depth=10, min_child_samples=19,\n",
       "              min_child_weight=0.392389870828, min_split_gain=0.33687805764,\n",
       "              n_estimators=183, num_leaves=493, random_state=1664,\n",
       "              reg_alpha=0.907183957449, reg_lambda=0.453793120328)</pre><b>In a Jupyter environment, please rerun this cell to show the HTML representation or trust the notebook. <br />On GitHub, the HTML representation is unable to render, please try loading this page with nbviewer.org.</b></div><div class=\"sk-container\" hidden><div class=\"sk-item\"><div class=\"sk-estimator sk-toggleable\"><input class=\"sk-toggleable__control sk-hidden--visually\" id=\"sk-estimator-id-1\" type=\"checkbox\" checked><label for=\"sk-estimator-id-1\" class=\"sk-toggleable__label sk-toggleable__label-arrow\">LGBMRegressor</label><div class=\"sk-toggleable__content\"><pre>LGBMRegressor(colsample_bytree=0.836929459452, learning_rate=0.251616038758,\n",
       "              max_depth=10, min_child_samples=19,\n",
       "              min_child_weight=0.392389870828, min_split_gain=0.33687805764,\n",
       "              n_estimators=183, num_leaves=493, random_state=1664,\n",
       "              reg_alpha=0.907183957449, reg_lambda=0.453793120328)</pre></div></div></div></div></div>"
      ],
      "text/plain": [
       "LGBMRegressor(colsample_bytree=0.836929459452, learning_rate=0.251616038758,\n",
       "              max_depth=10, min_child_samples=19,\n",
       "              min_child_weight=0.392389870828, min_split_gain=0.33687805764,\n",
       "              n_estimators=183, num_leaves=493, random_state=1664,\n",
       "              reg_alpha=0.907183957449, reg_lambda=0.453793120328)"
      ]
     },
     "execution_count": 38,
     "metadata": {},
     "output_type": "execute_result"
    }
   ],
   "source": [
    "%time clf_conso.fit(X_train_conso, y_train_conso)"
   ]
  },
  {
   "cell_type": "code",
   "execution_count": 39,
   "id": "0deb9caa",
   "metadata": {
    "execution": {
     "iopub.execute_input": "2024-01-26T10:54:34.307975Z",
     "iopub.status.busy": "2024-01-26T10:54:34.307535Z",
     "iopub.status.idle": "2024-01-26T10:54:35.769636Z",
     "shell.execute_reply": "2024-01-26T10:54:35.768455Z"
    },
    "papermill": {
     "duration": 1.487588,
     "end_time": "2024-01-26T10:54:35.772058",
     "exception": false,
     "start_time": "2024-01-26T10:54:34.284470",
     "status": "completed"
    },
    "tags": []
   },
   "outputs": [
    {
     "name": "stdout",
     "output_type": "stream",
     "text": [
      "CPU times: user 5.57 s, sys: 0 ns, total: 5.57 s\n",
      "Wall time: 1.46 s\n"
     ]
    }
   ],
   "source": [
    "%time _predictions_conso = clf_conso.predict(X_test_conso)\n",
    "predictions_conso = pd.Series(data=_predictions_conso, index=X_test_conso.index, name='predicted')"
   ]
  },
  {
   "cell_type": "code",
   "execution_count": 40,
   "id": "d83a6a29",
   "metadata": {
    "execution": {
     "iopub.execute_input": "2024-01-26T10:54:35.817995Z",
     "iopub.status.busy": "2024-01-26T10:54:35.816664Z",
     "iopub.status.idle": "2024-01-26T10:54:35.825624Z",
     "shell.execute_reply": "2024-01-26T10:54:35.824518Z"
    },
    "papermill": {
     "duration": 0.034509,
     "end_time": "2024-01-26T10:54:35.828090",
     "exception": false,
     "start_time": "2024-01-26T10:54:35.793581",
     "status": "completed"
    },
    "tags": []
   },
   "outputs": [
    {
     "name": "stdout",
     "output_type": "stream",
     "text": [
      "41.226188882244365\n"
     ]
    }
   ],
   "source": [
    "mae_conso = mean_absolute_error(y_test_conso, predictions_conso)\n",
    "print(mae_conso)"
   ]
  },
  {
   "cell_type": "markdown",
   "id": "5953997f",
   "metadata": {
    "papermill": {
     "duration": 0.021751,
     "end_time": "2024-01-26T10:54:35.871614",
     "exception": false,
     "start_time": "2024-01-26T10:54:35.849863",
     "status": "completed"
    },
    "tags": []
   },
   "source": [
    "#### MAE pour prod"
   ]
  },
  {
   "cell_type": "code",
   "execution_count": 41,
   "id": "4e468e6c",
   "metadata": {
    "execution": {
     "iopub.execute_input": "2024-01-26T10:54:35.918403Z",
     "iopub.status.busy": "2024-01-26T10:54:35.917161Z",
     "iopub.status.idle": "2024-01-26T10:54:36.605244Z",
     "shell.execute_reply": "2024-01-26T10:54:36.604207Z"
    },
    "papermill": {
     "duration": 0.714118,
     "end_time": "2024-01-26T10:54:36.607950",
     "exception": false,
     "start_time": "2024-01-26T10:54:35.893832",
     "status": "completed"
    },
    "tags": []
   },
   "outputs": [],
   "source": [
    "X_train_prod, X_test_prod, y_train_prod, y_test_prod = train_test_split(\n",
    "    df_train_prod.drop(columns=['datetime','row_id','datetime_day','target','prediction_unit_id','seasonality','med_st_county','med_st_business','med_st_product_type','st_target','residuals']),\n",
    "    df_train_prod['residuals'], test_size=0.2, random_state=1664)"
   ]
  },
  {
   "cell_type": "code",
   "execution_count": 42,
   "id": "44ca104d",
   "metadata": {
    "execution": {
     "iopub.execute_input": "2024-01-26T10:54:36.653150Z",
     "iopub.status.busy": "2024-01-26T10:54:36.652711Z",
     "iopub.status.idle": "2024-01-26T10:54:36.660334Z",
     "shell.execute_reply": "2024-01-26T10:54:36.659034Z"
    },
    "papermill": {
     "duration": 0.033076,
     "end_time": "2024-01-26T10:54:36.662755",
     "exception": false,
     "start_time": "2024-01-26T10:54:36.629679",
     "status": "completed"
    },
    "tags": []
   },
   "outputs": [],
   "source": [
    "clf_prod = LGBMRegressor(\n",
    "                    boosting_type='goss',\n",
    "                    num_leaves=485,\n",
    "                    max_depth=10,\n",
    "                    learning_rate=0.253143159518,\n",
    "                    n_estimators=201,\n",
    "                    subsample_for_bin=200000,\n",
    "                    min_split_gain=0.762653720945,\n",
    "                    min_child_weight=0.343101060199,\n",
    "                    min_child_samples=1,\n",
    "                    subsample=1.0,\n",
    "                    subsample_freq=0,\n",
    "                    colsample_bytree=0.893307186557,\n",
    "                    reg_alpha=0.40008195935,\n",
    "                    reg_lambda=0.347216793321,\n",
    "                    random_state=1337\n",
    "                  )"
   ]
  },
  {
   "cell_type": "code",
   "execution_count": 43,
   "id": "cbf5f679",
   "metadata": {
    "execution": {
     "iopub.execute_input": "2024-01-26T10:54:36.709198Z",
     "iopub.status.busy": "2024-01-26T10:54:36.708533Z",
     "iopub.status.idle": "2024-01-26T10:55:16.827901Z",
     "shell.execute_reply": "2024-01-26T10:55:16.826625Z"
    },
    "papermill": {
     "duration": 40.167942,
     "end_time": "2024-01-26T10:55:16.853016",
     "exception": false,
     "start_time": "2024-01-26T10:54:36.685074",
     "status": "completed"
    },
    "tags": []
   },
   "outputs": [
    {
     "name": "stdout",
     "output_type": "stream",
     "text": [
      "CPU times: user 1min 34s, sys: 10.9 s, total: 1min 45s\n",
      "Wall time: 40.1 s\n"
     ]
    },
    {
     "data": {
      "text/html": [
       "<style>#sk-container-id-2 {color: black;background-color: white;}#sk-container-id-2 pre{padding: 0;}#sk-container-id-2 div.sk-toggleable {background-color: white;}#sk-container-id-2 label.sk-toggleable__label {cursor: pointer;display: block;width: 100%;margin-bottom: 0;padding: 0.3em;box-sizing: border-box;text-align: center;}#sk-container-id-2 label.sk-toggleable__label-arrow:before {content: \"▸\";float: left;margin-right: 0.25em;color: #696969;}#sk-container-id-2 label.sk-toggleable__label-arrow:hover:before {color: black;}#sk-container-id-2 div.sk-estimator:hover label.sk-toggleable__label-arrow:before {color: black;}#sk-container-id-2 div.sk-toggleable__content {max-height: 0;max-width: 0;overflow: hidden;text-align: left;background-color: #f0f8ff;}#sk-container-id-2 div.sk-toggleable__content pre {margin: 0.2em;color: black;border-radius: 0.25em;background-color: #f0f8ff;}#sk-container-id-2 input.sk-toggleable__control:checked~div.sk-toggleable__content {max-height: 200px;max-width: 100%;overflow: auto;}#sk-container-id-2 input.sk-toggleable__control:checked~label.sk-toggleable__label-arrow:before {content: \"▾\";}#sk-container-id-2 div.sk-estimator input.sk-toggleable__control:checked~label.sk-toggleable__label {background-color: #d4ebff;}#sk-container-id-2 div.sk-label input.sk-toggleable__control:checked~label.sk-toggleable__label {background-color: #d4ebff;}#sk-container-id-2 input.sk-hidden--visually {border: 0;clip: rect(1px 1px 1px 1px);clip: rect(1px, 1px, 1px, 1px);height: 1px;margin: -1px;overflow: hidden;padding: 0;position: absolute;width: 1px;}#sk-container-id-2 div.sk-estimator {font-family: monospace;background-color: #f0f8ff;border: 1px dotted black;border-radius: 0.25em;box-sizing: border-box;margin-bottom: 0.5em;}#sk-container-id-2 div.sk-estimator:hover {background-color: #d4ebff;}#sk-container-id-2 div.sk-parallel-item::after {content: \"\";width: 100%;border-bottom: 1px solid gray;flex-grow: 1;}#sk-container-id-2 div.sk-label:hover label.sk-toggleable__label {background-color: #d4ebff;}#sk-container-id-2 div.sk-serial::before {content: \"\";position: absolute;border-left: 1px solid gray;box-sizing: border-box;top: 0;bottom: 0;left: 50%;z-index: 0;}#sk-container-id-2 div.sk-serial {display: flex;flex-direction: column;align-items: center;background-color: white;padding-right: 0.2em;padding-left: 0.2em;position: relative;}#sk-container-id-2 div.sk-item {position: relative;z-index: 1;}#sk-container-id-2 div.sk-parallel {display: flex;align-items: stretch;justify-content: center;background-color: white;position: relative;}#sk-container-id-2 div.sk-item::before, #sk-container-id-2 div.sk-parallel-item::before {content: \"\";position: absolute;border-left: 1px solid gray;box-sizing: border-box;top: 0;bottom: 0;left: 50%;z-index: -1;}#sk-container-id-2 div.sk-parallel-item {display: flex;flex-direction: column;z-index: 1;position: relative;background-color: white;}#sk-container-id-2 div.sk-parallel-item:first-child::after {align-self: flex-end;width: 50%;}#sk-container-id-2 div.sk-parallel-item:last-child::after {align-self: flex-start;width: 50%;}#sk-container-id-2 div.sk-parallel-item:only-child::after {width: 0;}#sk-container-id-2 div.sk-dashed-wrapped {border: 1px dashed gray;margin: 0 0.4em 0.5em 0.4em;box-sizing: border-box;padding-bottom: 0.4em;background-color: white;}#sk-container-id-2 div.sk-label label {font-family: monospace;font-weight: bold;display: inline-block;line-height: 1.2em;}#sk-container-id-2 div.sk-label-container {text-align: center;}#sk-container-id-2 div.sk-container {/* jupyter's `normalize.less` sets `[hidden] { display: none; }` but bootstrap.min.css set `[hidden] { display: none !important; }` so we also need the `!important` here to be able to override the default hidden behavior on the sphinx rendered scikit-learn.org. See: https://github.com/scikit-learn/scikit-learn/issues/21755 */display: inline-block !important;position: relative;}#sk-container-id-2 div.sk-text-repr-fallback {display: none;}</style><div id=\"sk-container-id-2\" class=\"sk-top-container\"><div class=\"sk-text-repr-fallback\"><pre>LGBMRegressor(boosting_type=&#x27;goss&#x27;, colsample_bytree=0.893307186557,\n",
       "              learning_rate=0.253143159518, max_depth=10, min_child_samples=1,\n",
       "              min_child_weight=0.343101060199, min_split_gain=0.762653720945,\n",
       "              n_estimators=201, num_leaves=485, random_state=1337,\n",
       "              reg_alpha=0.40008195935, reg_lambda=0.347216793321)</pre><b>In a Jupyter environment, please rerun this cell to show the HTML representation or trust the notebook. <br />On GitHub, the HTML representation is unable to render, please try loading this page with nbviewer.org.</b></div><div class=\"sk-container\" hidden><div class=\"sk-item\"><div class=\"sk-estimator sk-toggleable\"><input class=\"sk-toggleable__control sk-hidden--visually\" id=\"sk-estimator-id-2\" type=\"checkbox\" checked><label for=\"sk-estimator-id-2\" class=\"sk-toggleable__label sk-toggleable__label-arrow\">LGBMRegressor</label><div class=\"sk-toggleable__content\"><pre>LGBMRegressor(boosting_type=&#x27;goss&#x27;, colsample_bytree=0.893307186557,\n",
       "              learning_rate=0.253143159518, max_depth=10, min_child_samples=1,\n",
       "              min_child_weight=0.343101060199, min_split_gain=0.762653720945,\n",
       "              n_estimators=201, num_leaves=485, random_state=1337,\n",
       "              reg_alpha=0.40008195935, reg_lambda=0.347216793321)</pre></div></div></div></div></div>"
      ],
      "text/plain": [
       "LGBMRegressor(boosting_type='goss', colsample_bytree=0.893307186557,\n",
       "              learning_rate=0.253143159518, max_depth=10, min_child_samples=1,\n",
       "              min_child_weight=0.343101060199, min_split_gain=0.762653720945,\n",
       "              n_estimators=201, num_leaves=485, random_state=1337,\n",
       "              reg_alpha=0.40008195935, reg_lambda=0.347216793321)"
      ]
     },
     "execution_count": 43,
     "metadata": {},
     "output_type": "execute_result"
    }
   ],
   "source": [
    "%time clf_prod.fit(X_train_prod, y_train_prod)"
   ]
  },
  {
   "cell_type": "code",
   "execution_count": 44,
   "id": "a038826d",
   "metadata": {
    "execution": {
     "iopub.execute_input": "2024-01-26T10:55:16.900355Z",
     "iopub.status.busy": "2024-01-26T10:55:16.899961Z",
     "iopub.status.idle": "2024-01-26T10:55:18.610315Z",
     "shell.execute_reply": "2024-01-26T10:55:18.609489Z"
    },
    "papermill": {
     "duration": 1.737367,
     "end_time": "2024-01-26T10:55:18.612836",
     "exception": false,
     "start_time": "2024-01-26T10:55:16.875469",
     "status": "completed"
    },
    "tags": []
   },
   "outputs": [
    {
     "name": "stdout",
     "output_type": "stream",
     "text": [
      "CPU times: user 6.52 s, sys: 0 ns, total: 6.52 s\n",
      "Wall time: 1.7 s\n"
     ]
    }
   ],
   "source": [
    "%time _predictions_prod = clf_prod.predict(X_test_prod)\n",
    "predictions_prod = pd.Series(data=_predictions_prod, index=X_test_prod.index, name='predicted')"
   ]
  },
  {
   "cell_type": "code",
   "execution_count": 45,
   "id": "28f68796",
   "metadata": {
    "execution": {
     "iopub.execute_input": "2024-01-26T10:55:18.660716Z",
     "iopub.status.busy": "2024-01-26T10:55:18.660310Z",
     "iopub.status.idle": "2024-01-26T10:55:18.667855Z",
     "shell.execute_reply": "2024-01-26T10:55:18.666752Z"
    },
    "papermill": {
     "duration": 0.034615,
     "end_time": "2024-01-26T10:55:18.670073",
     "exception": false,
     "start_time": "2024-01-26T10:55:18.635458",
     "status": "completed"
    },
    "tags": []
   },
   "outputs": [
    {
     "name": "stdout",
     "output_type": "stream",
     "text": [
      "27.729983200335077\n"
     ]
    }
   ],
   "source": [
    "mae_prod = mean_absolute_error(y_test_prod, predictions_prod)\n",
    "print(mae_prod)"
   ]
  },
  {
   "cell_type": "markdown",
   "id": "f007f636",
   "metadata": {
    "papermill": {
     "duration": 0.022268,
     "end_time": "2024-01-26T10:55:18.714816",
     "exception": false,
     "start_time": "2024-01-26T10:55:18.692548",
     "status": "completed"
    },
    "tags": []
   },
   "source": [
    "# Test set"
   ]
  },
  {
   "cell_type": "code",
   "execution_count": 46,
   "id": "7d43c15f",
   "metadata": {
    "execution": {
     "iopub.execute_input": "2024-01-26T10:55:18.761848Z",
     "iopub.status.busy": "2024-01-26T10:55:18.761145Z",
     "iopub.status.idle": "2024-01-26T10:55:18.802343Z",
     "shell.execute_reply": "2024-01-26T10:55:18.801292Z"
    },
    "papermill": {
     "duration": 0.067889,
     "end_time": "2024-01-26T10:55:18.805006",
     "exception": false,
     "start_time": "2024-01-26T10:55:18.737117",
     "status": "completed"
    },
    "tags": []
   },
   "outputs": [],
   "source": [
    "class run_ETL:\n",
    "    \n",
    "    def __init__(self, client, elec, gas, weather, main):\n",
    "        self.df_client = client\n",
    "        self.df_electricity = elec\n",
    "        self.df_gas = gas\n",
    "        self.df_weather = weather\n",
    "        self.df_test = main\n",
    "        \n",
    "    \n",
    "    def transform_measures(self):\n",
    "        \n",
    "        # ======================== WEATHER FORECAST ============================================\n",
    "        # Keeps only forecast for the next day\n",
    "        self.df_weather =  self.df_weather.loc[(self.df_weather.hours_ahead>=22) & (self.df_weather.hours_ahead<=45)]\n",
    "        # primary key\n",
    "        self.df_weather['cle_lat-long'] = self.df_weather.latitude.astype(str) + \"-\" + self.df_weather.longitude.astype(str)\n",
    "        # Join to add county to each lat-long key\n",
    "        self.df_forecast_w_per_county = pd.merge(self.df_weather, df_stations_county_mapping, on='cle_lat-long')\n",
    "\n",
    "        # Agg measures per county per hour\n",
    "        # as_index= False to preserve hourly measures\n",
    "        self.df_forecast_w_per_county = self.df_forecast_w_per_county.groupby(['forecast_datetime', 'county'], as_index=False)\\\n",
    "        .agg({'temperature': ['min', 'mean', 'max'],\\\n",
    "              'dewpoint': 'mean',\\\n",
    "              '10_metre_u_wind_component': 'mean',\\\n",
    "              'direct_solar_radiation': ['mean', 'max'],\\\n",
    "              'surface_solar_radiation_downwards' : ['mean', 'max']\n",
    "             })\n",
    "\n",
    "        # Flatten multi-level columns\n",
    "        self.df_forecast_w_per_county.columns = [\"_\".join(a) for a in self.df_forecast_w_per_county.columns.to_flat_index()]\n",
    "        self.df_forecast_w_per_county.rename(columns={'forecast_datetime_':'datetime','county_':'county'}, inplace=True)\n",
    "        self.df_forecast_w_per_county['county'] = self.df_forecast_w_per_county.county.astype(int)\n",
    "        self.df_forecast_w_per_county['datetime'] = pd.to_datetime(self.df_forecast_w_per_county['datetime'], format='%Y-%m-%d %H:%M:%S')\n",
    "        self.df_forecast_w_per_county['datetime'] = self.df_forecast_w_per_county['datetime'].dt.tz_localize('UTC')\n",
    "        \n",
    "        # ======================== CLIENT ============================================\n",
    "        self.df_client[\"date\"] = pd.to_datetime(self.df_client.date)\n",
    "        # Date where the measure is received, adjusted to prediction datetime\n",
    "        self.df_client[\"datetime_day\"] = (self.df_client[\"date\"] + timedelta(days=2)).dt.tz_localize('UTC')\n",
    "        self.df_client = self.df_client[['datetime_day','county','is_business','product_type','eic_count','installed_capacity']]\n",
    "        \n",
    "        # ======================== GAS  & ELEC ============================================\n",
    "        self.df_gas.rename(columns={'forecast_date':'datetime_day'}, inplace=True)\n",
    "        self.df_gas['datetime_day'] = pd.to_datetime(self.df_gas['datetime_day'])\n",
    "        self.df_gas['datetime_day'] = (self.df_gas['datetime_day'] + timedelta(days=1)).dt.tz_localize('UTC')\n",
    "        self.df_gas = self.df_gas[['datetime_day','lowest_price_per_mwh','highest_price_per_mwh']]\n",
    "        \n",
    "        self.df_electricity['datetime'] = pd.to_datetime(self.df_electricity['forecast_date'], format='%Y-%m-%d %H:%M:%S')\n",
    "        self.df_electricity['datetime'] = (self.df_electricity['datetime'] + timedelta(days=1)).dt.tz_localize('UTC')\n",
    "        self.df_electricity = self.df_electricity[['datetime','euros_per_mwh']]\n",
    "        \n",
    "    \n",
    "    def split_and_add_fourier_forecast(self):\n",
    "        \n",
    "        #self.df_test.rename(columns={'prediction_datetime':'datetime'}, inplace=True)\n",
    "        self.df_test['datetime'] = pd.to_datetime(self.df_test['prediction_datetime'], format='%Y-%m-%d %H:%M:%S')\n",
    "        self.df_test['datetime'] = self.df_test['datetime'].dt.tz_localize('UTC')\n",
    "        \n",
    "        self.df_conso_test = self.df_test[self.df_test.is_consumption==1].copy()\n",
    "        # Join aggregates columns\n",
    "        self.df_conso_test = pd.merge(self.df_conso_test, df_ref_conso[['datetime','county','med_st_county']].drop_duplicates(), on=['datetime','county'], how='left')\n",
    "        self.df_conso_test = pd.merge(self.df_conso_test, df_ref_conso[['datetime','is_business','med_st_business']].drop_duplicates(), on=['datetime','is_business'], how='left')\n",
    "        self.df_conso_test = pd.merge(self.df_conso_test, df_ref_conso[['datetime','product_type','med_st_product_type']].drop_duplicates(), on=['datetime','product_type'], how='left')\n",
    "        self.df_conso_test = pd.merge(self.df_conso_test, df_ref_conso[['datetime','datetime_day','holiday','week_of_year','day_of_week','day_of_year','hour_of_day']].drop_duplicates(), on=['datetime'], how='left')\n",
    "        # Compute seasonnalty + trend based on coefficients \n",
    "        self.df_conso_test['st_target'] = coeffs_conso[0]*self.df_conso_test.med_st_county + coeffs_conso[1]*self.df_conso_test.med_st_business + coeffs_conso[2]*self.df_conso_test.med_st_product_type\n",
    "\n",
    "        self.df_prod_test = self.df_test[self.df_test.is_consumption==0].copy()\n",
    "        self.df_prod_test = pd.merge(self.df_prod_test, df_ref_prod[['datetime','county','med_st_county']].drop_duplicates(), on=['datetime','county'], how='left')\n",
    "        self.df_prod_test = pd.merge(self.df_prod_test, df_ref_prod[['datetime','is_business','med_st_business']].drop_duplicates(), on=['datetime','is_business'], how='left')\n",
    "        self.df_prod_test = pd.merge(self.df_prod_test, df_ref_prod[['datetime','product_type','med_st_product_type']].drop_duplicates(), on=['datetime','product_type'], how='left')\n",
    "        self.df_prod_test = pd.merge(self.df_prod_test, df_ref_prod[['datetime','datetime_day','holiday','week_of_year','day_of_week','day_of_year','hour_of_day']].drop_duplicates(), on=['datetime'], how='left')\n",
    "        # Compute seasonnalty + trend based on coefficients \n",
    "        self.df_prod_test['st_target'] = coeffs_prod[0]*self.df_prod_test.med_st_county + coeffs_prod[1]*self.df_prod_test.med_st_business + coeffs_prod[2]*self.df_prod_test.med_st_product_type\n",
    "\n",
    "    \n",
    "    def unite_FE_and_interpolate(self):\n",
    "        \n",
    "        # List of all unique pids\n",
    "        pids = set(self.df_conso_test.prediction_unit_id)\n",
    "        \n",
    "        # Join all dataframes together\n",
    "        self.df_conso_test = unite_dfs(self.df_conso_test, self.df_client, self.df_gas, self.df_electricity, self.df_forecast_w_per_county)\n",
    "        self.df_prod_test = unite_dfs(self.df_prod_test, self.df_client, self.df_gas, self.df_electricity, self.df_forecast_w_per_county)\n",
    "        \n",
    "        # Interpolate nulls values (prices elec & gas are concerned on last day)\n",
    "        col_list = self.df_prod_test.columns.to_list()\n",
    "        self.df_conso_test_toPredict = pd.DataFrame(columns=col_list)\n",
    "        self.df_prod_test_toPredict = pd.DataFrame(columns=col_list)\n",
    "\n",
    "        for g in list(pids):\n",
    "            self.df_conso_test_toPredict = pd.concat([self.df_conso_test_toPredict, interpolate_per_pids(self.df_conso_test, group=g)])\n",
    "            self.df_prod_test_toPredict = pd.concat([self.df_prod_test_toPredict, interpolate_per_pids(self.df_prod_test, group=g)])\n",
    "        \n",
    "        # Convert columns incorrectly converted as object back to int\n",
    "        obj_cols = self.df_conso_test_toPredict.drop(columns=['prediction_datetime','datetime_day']).select_dtypes(include=[object]).columns\n",
    "        self.df_conso_test_toPredict[obj_cols] = self.df_conso_test_toPredict[obj_cols].astype(int)\n",
    "        self.df_prod_test_toPredict[obj_cols] = self.df_prod_test_toPredict[obj_cols].astype(int)\n",
    "        \n",
    "        # Add Feature Engineering columns\n",
    "        self.df_conso_test_toPredict = generate_FE_columns(self.df_conso_test_toPredict)\n",
    "        self.df_prod_test_toPredict = generate_FE_columns(self.df_prod_test_toPredict)\n",
    "    \n",
    "    \n",
    "    def predict_residuals_and_target(self):\n",
    "        \n",
    "        # Keep only necessary columns, the model has been trained on\n",
    "        cols_to_keep = X_test_conso.columns.to_list()\n",
    "        # index is a loop since interpolate -> need to reset it before predict and join results\n",
    "        self.df_conso_test_toPredict.reset_index(drop=True, inplace=True)\n",
    "        self.df_prod_test_toPredict.reset_index(drop=True, inplace=True)\n",
    "        \n",
    "        _predictions_conso = clf_conso.predict(self.df_conso_test_toPredict[cols_to_keep])\n",
    "        predictions_conso = pd.Series(data=_predictions_conso, index=self.df_conso_test_toPredict.index, name='predicted_residuals')\n",
    "        self.df_conso_test_toPredict = self.df_conso_test_toPredict.join(predictions_conso, how='left')\n",
    "        self.df_conso_test_toPredict['predicted_target'] = self.df_conso_test_toPredict['st_target'] + self.df_conso_test_toPredict['predicted_residuals']\n",
    "        # Replace negative values by 0\n",
    "        self.df_conso_test_toPredict['predicted_target'] = self.df_conso_test_toPredict['predicted_target'].clip(lower=med_spring_consumption)\n",
    "        \n",
    "        _predictions_prod = clf_prod.predict(self.df_prod_test_toPredict[cols_to_keep])\n",
    "        predictions_prod = pd.Series(data=_predictions_prod, index=self.df_prod_test_toPredict.index, name='predicted_residuals')\n",
    "        self.df_prod_test_toPredict = self.df_prod_test_toPredict.join(predictions_prod, how='left')\n",
    "        self.df_prod_test_toPredict['predicted_target'] = self.df_prod_test_toPredict['st_target'] + self.df_prod_test_toPredict['predicted_residuals']\n",
    "        self.df_prod_test_toPredict['predicted_target'] = self.df_prod_test_toPredict['predicted_target'].clip(lower=med_spring_production)\n",
    "    \n",
    "    \n",
    "    def merge_and_submit(self):\n",
    "        \n",
    "        self.df_concat = pd.concat([etl.df_conso_test_toPredict, etl.df_prod_test_toPredict]).sort_values(by='row_id')\n",
    "        self.df_test = pd.merge(self.df_test, self.df_concat[['row_id','predicted_target']], on=['row_id'], how='left')"
   ]
  },
  {
   "cell_type": "markdown",
   "id": "ff7b64b0",
   "metadata": {
    "execution": {
     "iopub.execute_input": "2024-01-25T21:19:03.995954Z",
     "iopub.status.busy": "2024-01-25T21:19:03.995546Z",
     "iopub.status.idle": "2024-01-25T21:19:04.025544Z",
     "shell.execute_reply": "2024-01-25T21:19:04.023959Z",
     "shell.execute_reply.started": "2024-01-25T21:19:03.995919Z"
    },
    "papermill": {
     "duration": 0.022606,
     "end_time": "2024-01-26T10:55:18.849994",
     "exception": false,
     "start_time": "2024-01-26T10:55:18.827388",
     "status": "completed"
    },
    "tags": []
   },
   "source": [
    "del etl"
   ]
  },
  {
   "cell_type": "markdown",
   "id": "5167fd8f",
   "metadata": {
    "papermill": {
     "duration": 0.022359,
     "end_time": "2024-01-26T10:55:18.894921",
     "exception": false,
     "start_time": "2024-01-26T10:55:18.872562",
     "status": "completed"
    },
    "tags": []
   },
   "source": [
    "Beware : electricity/h, gas/d"
   ]
  },
  {
   "cell_type": "code",
   "execution_count": 47,
   "id": "0f448acb",
   "metadata": {
    "execution": {
     "iopub.execute_input": "2024-01-26T10:55:18.941942Z",
     "iopub.status.busy": "2024-01-26T10:55:18.941117Z",
     "iopub.status.idle": "2024-01-26T10:55:19.117968Z",
     "shell.execute_reply": "2024-01-26T10:55:19.116854Z"
    },
    "papermill": {
     "duration": 0.2032,
     "end_time": "2024-01-26T10:55:19.120418",
     "exception": false,
     "start_time": "2024-01-26T10:55:18.917218",
     "status": "completed"
    },
    "tags": []
   },
   "outputs": [],
   "source": [
    "etl = run_ETL(client = pd.read_csv(\"/kaggle/input/predict-energy-behavior-of-prosumers/example_test_files/client.csv\"),\n",
    "             elec = pd.read_csv(\"/kaggle/input/predict-energy-behavior-of-prosumers/example_test_files/electricity_prices.csv\"),\n",
    "             gas = pd.read_csv(\"/kaggle/input/predict-energy-behavior-of-prosumers/example_test_files/gas_prices.csv\"),\n",
    "             weather = pd.read_csv(\"/kaggle/input/predict-energy-behavior-of-prosumers/example_test_files/forecast_weather.csv\"),\n",
    "             main = pd.read_csv(\"/kaggle/input/predict-energy-behavior-of-prosumers/example_test_files/test.csv\"))\n"
   ]
  },
  {
   "cell_type": "code",
   "execution_count": 48,
   "id": "a7464079",
   "metadata": {
    "execution": {
     "iopub.execute_input": "2024-01-26T10:55:19.167508Z",
     "iopub.status.busy": "2024-01-26T10:55:19.166832Z",
     "iopub.status.idle": "2024-01-26T10:55:21.506472Z",
     "shell.execute_reply": "2024-01-26T10:55:21.505601Z"
    },
    "papermill": {
     "duration": 2.366248,
     "end_time": "2024-01-26T10:55:21.509157",
     "exception": false,
     "start_time": "2024-01-26T10:55:19.142909",
     "status": "completed"
    },
    "tags": []
   },
   "outputs": [],
   "source": [
    "etl.transform_measures()\n",
    "etl.split_and_add_fourier_forecast()\n",
    "etl.unite_FE_and_interpolate()\n",
    "etl.predict_residuals_and_target()\n",
    "etl.merge_and_submit()"
   ]
  },
  {
   "cell_type": "markdown",
   "id": "f9e2b123",
   "metadata": {
    "papermill": {
     "duration": 0.021984,
     "end_time": "2024-01-26T10:55:21.553414",
     "exception": false,
     "start_time": "2024-01-26T10:55:21.531430",
     "status": "completed"
    },
    "tags": []
   },
   "source": [
    "# Submit"
   ]
  },
  {
   "cell_type": "code",
   "execution_count": 49,
   "id": "9c9a958e",
   "metadata": {
    "execution": {
     "iopub.execute_input": "2024-01-26T10:55:21.603377Z",
     "iopub.status.busy": "2024-01-26T10:55:21.602702Z",
     "iopub.status.idle": "2024-01-26T10:55:21.607133Z",
     "shell.execute_reply": "2024-01-26T10:55:21.606129Z"
    },
    "papermill": {
     "duration": 0.030644,
     "end_time": "2024-01-26T10:55:21.609343",
     "exception": false,
     "start_time": "2024-01-26T10:55:21.578699",
     "status": "completed"
    },
    "tags": []
   },
   "outputs": [],
   "source": [
    "iter_test = env.iter_test()"
   ]
  },
  {
   "cell_type": "code",
   "execution_count": 50,
   "id": "95de215c",
   "metadata": {
    "execution": {
     "iopub.execute_input": "2024-01-26T10:55:21.656372Z",
     "iopub.status.busy": "2024-01-26T10:55:21.655387Z",
     "iopub.status.idle": "2024-01-26T10:55:21.660463Z",
     "shell.execute_reply": "2024-01-26T10:55:21.659648Z"
    },
    "papermill": {
     "duration": 0.031058,
     "end_time": "2024-01-26T10:55:21.662746",
     "exception": false,
     "start_time": "2024-01-26T10:55:21.631688",
     "status": "completed"
    },
    "tags": []
   },
   "outputs": [],
   "source": [
    "def is_prediciton_needed(df):\n",
    "    ''' Update of competition submission rules.\n",
    "    Scores only if test column currently_scored is set to True.'''\n",
    "    return not all(df['currently_scored'] == False)"
   ]
  },
  {
   "cell_type": "code",
   "execution_count": 51,
   "id": "448a6745",
   "metadata": {
    "execution": {
     "iopub.execute_input": "2024-01-26T10:55:21.709615Z",
     "iopub.status.busy": "2024-01-26T10:55:21.708904Z",
     "iopub.status.idle": "2024-01-26T10:55:30.909101Z",
     "shell.execute_reply": "2024-01-26T10:55:30.907605Z"
    },
    "papermill": {
     "duration": 9.226626,
     "end_time": "2024-01-26T10:55:30.911768",
     "exception": false,
     "start_time": "2024-01-26T10:55:21.685142",
     "status": "completed"
    },
    "tags": []
   },
   "outputs": [
    {
     "name": "stdout",
     "output_type": "stream",
     "text": [
      "This version of the API is not optimized and should not be used to estimate the runtime of your code on the hidden test set.\n",
      "all ['currently_scored'] values are False -> dummy Prediction 0\n",
      "all ['currently_scored'] values are False -> dummy Prediction 0\n",
      "all ['currently_scored'] values are False -> dummy Prediction 0\n",
      "all ['currently_scored'] values are False -> dummy Prediction 0\n"
     ]
    }
   ],
   "source": [
    "for (test, revealed_targets, client, historical_weather,\n",
    "        forecast_weather, electricity_prices, gas_prices, sample_prediction) in iter_test:\n",
    "    \n",
    "    etl = run_ETL(client = client,\n",
    "             elec = electricity_prices,\n",
    "             gas = gas_prices,\n",
    "             weather = forecast_weather,\n",
    "             main = test)\n",
    "    \n",
    "    etl.transform_measures()\n",
    "    etl.split_and_add_fourier_forecast()\n",
    "    etl.unite_FE_and_interpolate()\n",
    "    etl.predict_residuals_and_target()\n",
    "    etl.merge_and_submit()\n",
    "    \n",
    "    #df_submit = etl.df_test[['row_id','predicted_target']].sort_values(by=['row_id'], ascending=True).copy()\n",
    "    #df_submit['predicted_target'] = round(df_submit['predicted_target'], 4)\n",
    "    #target = df_submit['predicted_target'].to_numpy()\n",
    "    \n",
    "    if not is_prediciton_needed(test):\n",
    "        print(\"all ['currently_scored'] values are False -> dummy Prediction 0\")\n",
    "        sample_prediction['target'] = 0\n",
    "        env.predict(sample_prediction)\n",
    "        continue\n",
    "    \n",
    "    #sample_prediction['target'] = target\n",
    "    sample_prediction = pd.merge(sample_prediction.drop(columns='target'), etl.df_test[['row_id','predicted_target']].rename(columns={'predicted_target':'target'}), on=['row_id'], how='left')\n",
    "    env.predict(sample_prediction)"
   ]
  }
 ],
 "metadata": {
  "kaggle": {
   "accelerator": "none",
   "dataSources": [
    {
     "databundleVersionId": 7292407,
     "sourceId": 57236,
     "sourceType": "competition"
    }
   ],
   "dockerImageVersionId": 30635,
   "isGpuEnabled": false,
   "isInternetEnabled": false,
   "language": "python",
   "sourceType": "notebook"
  },
  "kernelspec": {
   "display_name": "Python 3",
   "language": "python",
   "name": "python3"
  },
  "language_info": {
   "codemirror_mode": {
    "name": "ipython",
    "version": 3
   },
   "file_extension": ".py",
   "mimetype": "text/x-python",
   "name": "python",
   "nbconvert_exporter": "python",
   "pygments_lexer": "ipython3",
   "version": "3.10.12"
  },
  "papermill": {
   "default_parameters": {},
   "duration": 196.632381,
   "end_time": "2024-01-26T10:55:31.958557",
   "environment_variables": {},
   "exception": null,
   "input_path": "__notebook__.ipynb",
   "output_path": "__notebook__.ipynb",
   "parameters": {},
   "start_time": "2024-01-26T10:52:15.326176",
   "version": "2.4.0"
  }
 },
 "nbformat": 4,
 "nbformat_minor": 5
}
