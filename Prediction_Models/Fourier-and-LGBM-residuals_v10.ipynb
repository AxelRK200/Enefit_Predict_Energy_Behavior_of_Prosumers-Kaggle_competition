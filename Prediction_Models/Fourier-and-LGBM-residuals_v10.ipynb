{
 "cells": [
  {
   "cell_type": "code",
   "execution_count": 1,
   "id": "cd3a4b84",
   "metadata": {
    "_cell_guid": "b1076dfc-b9ad-4769-8c92-a6c4dae69d19",
    "_uuid": "8f2839f25d086af736a60e9eeb907d3b93b6e0e5",
    "execution": {
     "iopub.execute_input": "2024-01-30T18:18:10.135929Z",
     "iopub.status.busy": "2024-01-30T18:18:10.135035Z",
     "iopub.status.idle": "2024-01-30T18:18:16.060578Z",
     "shell.execute_reply": "2024-01-30T18:18:16.059572Z"
    },
    "papermill": {
     "duration": 5.95116,
     "end_time": "2024-01-30T18:18:16.063493",
     "exception": false,
     "start_time": "2024-01-30T18:18:10.112333",
     "status": "completed"
    },
    "tags": []
   },
   "outputs": [],
   "source": [
    "import numpy as np\n",
    "import pandas as pd\n",
    "\n",
    "import os\n",
    "import sys\n",
    "import itertools\n",
    "\n",
    "import sklearn as sk\n",
    "from sklearn.model_selection import train_test_split\n",
    "from lightgbm import LGBMRegressor\n",
    "import xgboost as xgb\n",
    "import scipy.stats as stats\n",
    "from statsmodels.tsa.deterministic import CalendarFourier, DeterministicProcess\n",
    "import statsmodels.api as sm\n",
    "from sklearn.linear_model import LinearRegression\n",
    "from sklearn.metrics import mean_absolute_error\n",
    "from scipy.optimize import minimize\n",
    "\n",
    "import matplotlib.pyplot as plt\n",
    "\n",
    "from datetime import timedelta\n",
    "import holidays\n",
    "\n",
    "import enefit"
   ]
  },
  {
   "cell_type": "code",
   "execution_count": 2,
   "id": "ac7f0baa",
   "metadata": {
    "execution": {
     "iopub.execute_input": "2024-01-30T18:18:16.107961Z",
     "iopub.status.busy": "2024-01-30T18:18:16.107150Z",
     "iopub.status.idle": "2024-01-30T18:18:16.112380Z",
     "shell.execute_reply": "2024-01-30T18:18:16.111523Z"
    },
    "papermill": {
     "duration": 0.030121,
     "end_time": "2024-01-30T18:18:16.114762",
     "exception": false,
     "start_time": "2024-01-30T18:18:16.084641",
     "status": "completed"
    },
    "tags": []
   },
   "outputs": [],
   "source": [
    "import warnings\n",
    "warnings.filterwarnings(\"ignore\")"
   ]
  },
  {
   "cell_type": "code",
   "execution_count": 3,
   "id": "ebfb47f4",
   "metadata": {
    "execution": {
     "iopub.execute_input": "2024-01-30T18:18:16.159548Z",
     "iopub.status.busy": "2024-01-30T18:18:16.158558Z",
     "iopub.status.idle": "2024-01-30T18:18:16.164545Z",
     "shell.execute_reply": "2024-01-30T18:18:16.163655Z"
    },
    "papermill": {
     "duration": 0.031074,
     "end_time": "2024-01-30T18:18:16.167048",
     "exception": false,
     "start_time": "2024-01-30T18:18:16.135974",
     "status": "completed"
    },
    "tags": []
   },
   "outputs": [],
   "source": [
    "env = enefit.make_env()"
   ]
  },
  {
   "cell_type": "markdown",
   "id": "e9521871",
   "metadata": {
    "papermill": {
     "duration": 0.020288,
     "end_time": "2024-01-30T18:18:16.208800",
     "exception": false,
     "start_time": "2024-01-30T18:18:16.188512",
     "status": "completed"
    },
    "tags": []
   },
   "source": [
    "# ETL"
   ]
  },
  {
   "cell_type": "markdown",
   "id": "f765def6",
   "metadata": {
    "papermill": {
     "duration": 0.023091,
     "end_time": "2024-01-30T18:18:16.252459",
     "exception": false,
     "start_time": "2024-01-30T18:18:16.229368",
     "status": "completed"
    },
    "tags": []
   },
   "source": [
    "## Load & Convert Data"
   ]
  },
  {
   "cell_type": "code",
   "execution_count": 4,
   "id": "965bb4d1",
   "metadata": {
    "execution": {
     "iopub.execute_input": "2024-01-30T18:18:16.297639Z",
     "iopub.status.busy": "2024-01-30T18:18:16.296615Z",
     "iopub.status.idle": "2024-01-30T18:18:38.952939Z",
     "shell.execute_reply": "2024-01-30T18:18:38.952026Z"
    },
    "papermill": {
     "duration": 22.681726,
     "end_time": "2024-01-30T18:18:38.955559",
     "exception": false,
     "start_time": "2024-01-30T18:18:16.273833",
     "status": "completed"
    },
    "tags": []
   },
   "outputs": [],
   "source": [
    "df_client = pd.read_csv(\"/kaggle/input/predict-energy-behavior-of-prosumers/client.csv\")\n",
    "df_electricity = pd.read_csv(\"/kaggle/input/predict-energy-behavior-of-prosumers/electricity_prices.csv\")\n",
    "df_gas = pd.read_csv(\"/kaggle/input/predict-energy-behavior-of-prosumers/gas_prices.csv\")\n",
    "df_weather = pd.read_csv(\"/kaggle/input/predict-energy-behavior-of-prosumers/forecast_weather.csv\")\n",
    "df_train = pd.read_csv(\"/kaggle/input/predict-energy-behavior-of-prosumers/train.csv\")\n",
    "df_stations_county_mapping = pd.read_csv(\"/kaggle/input/predict-energy-behavior-of-prosumers/weather_station_to_county_mapping.csv\")"
   ]
  },
  {
   "cell_type": "code",
   "execution_count": 5,
   "id": "1c7b5acb",
   "metadata": {
    "execution": {
     "iopub.execute_input": "2024-01-30T18:18:38.999418Z",
     "iopub.status.busy": "2024-01-30T18:18:38.999021Z",
     "iopub.status.idle": "2024-01-30T18:18:39.505648Z",
     "shell.execute_reply": "2024-01-30T18:18:39.504363Z"
    },
    "papermill": {
     "duration": 0.531473,
     "end_time": "2024-01-30T18:18:39.508344",
     "exception": false,
     "start_time": "2024-01-30T18:18:38.976871",
     "status": "completed"
    },
    "tags": []
   },
   "outputs": [
    {
     "name": "stdout",
     "output_type": "stream",
     "text": [
      "Median Spring Consumption : 137.83, Production : 0.17\n"
     ]
    }
   ],
   "source": [
    "df_train['datetime'] = pd.to_datetime(df_train['datetime'])\n",
    "\n",
    "df_medianes = df_train.loc[((df_train['datetime']>='2022-01-01') & (df_train['datetime']<='2022-04-30')) | \n",
    "                           ((df_train['datetime']>='2023-01-01') & (df_train['datetime']<='2023-04-30'))].copy()\n",
    "\n",
    "spring_consumption = df_medianes[['target']].loc[df_medianes.is_consumption==1].median()\n",
    "med_spring_consumption = spring_consumption[0]\n",
    "spring_production = df_medianes[['target']].loc[df_medianes.is_consumption==0].median()\n",
    "med_spring_production = spring_production[0]\n",
    "\n",
    "print(\"Median Spring Consumption : {:.2f}, Production : {:.2f}\".format(med_spring_consumption, med_spring_production))"
   ]
  },
  {
   "cell_type": "markdown",
   "id": "1807ebae",
   "metadata": {
    "papermill": {
     "duration": 0.020841,
     "end_time": "2024-01-30T18:18:39.551176",
     "exception": false,
     "start_time": "2024-01-30T18:18:39.530335",
     "status": "completed"
    },
    "tags": []
   },
   "source": [
    "mapping, **reference dataframe**"
   ]
  },
  {
   "cell_type": "code",
   "execution_count": 6,
   "id": "0f01b0e7",
   "metadata": {
    "execution": {
     "iopub.execute_input": "2024-01-30T18:18:39.594325Z",
     "iopub.status.busy": "2024-01-30T18:18:39.593896Z",
     "iopub.status.idle": "2024-01-30T18:18:39.605717Z",
     "shell.execute_reply": "2024-01-30T18:18:39.603826Z"
    },
    "papermill": {
     "duration": 0.036906,
     "end_time": "2024-01-30T18:18:39.608527",
     "exception": false,
     "start_time": "2024-01-30T18:18:39.571621",
     "status": "completed"
    },
    "tags": []
   },
   "outputs": [],
   "source": [
    "# Fill empty values of county with 12. County 12 is set as 'unknown', so we will average all 'unknown' locations into 1\n",
    "df_stations_county_mapping['county'].fillna(12, inplace=True)\n",
    "\n",
    "# primary key\n",
    "df_stations_county_mapping['cle_lat-long'] = round(df_stations_county_mapping.latitude, 1).astype(str) + \"-\" + df_stations_county_mapping.longitude.astype(str)\n",
    "\n",
    "df_stations_county_mapping = df_stations_county_mapping[['cle_lat-long','county']]"
   ]
  },
  {
   "cell_type": "markdown",
   "id": "39d8e3f5",
   "metadata": {
    "papermill": {
     "duration": 0.083259,
     "end_time": "2024-01-30T18:18:39.712901",
     "exception": false,
     "start_time": "2024-01-30T18:18:39.629642",
     "status": "completed"
    },
    "tags": []
   },
   "source": [
    "Weather forecast"
   ]
  },
  {
   "cell_type": "code",
   "execution_count": 7,
   "id": "5d25a2c2",
   "metadata": {
    "execution": {
     "iopub.execute_input": "2024-01-30T18:18:39.756583Z",
     "iopub.status.busy": "2024-01-30T18:18:39.755825Z",
     "iopub.status.idle": "2024-01-30T18:18:43.128164Z",
     "shell.execute_reply": "2024-01-30T18:18:43.127241Z"
    },
    "papermill": {
     "duration": 3.397426,
     "end_time": "2024-01-30T18:18:43.131082",
     "exception": false,
     "start_time": "2024-01-30T18:18:39.733656",
     "status": "completed"
    },
    "tags": []
   },
   "outputs": [],
   "source": [
    "# Keeps only forecast for the next day\n",
    "df_weather =  df_weather.loc[(df_weather.hours_ahead>=22) & (df_weather.hours_ahead<=45)]\n",
    "# primary key\n",
    "df_weather['cle_lat-long'] = df_weather.latitude.astype(str) + \"-\" + df_weather.longitude.astype(str)"
   ]
  },
  {
   "cell_type": "code",
   "execution_count": 8,
   "id": "5adffcdd",
   "metadata": {
    "execution": {
     "iopub.execute_input": "2024-01-30T18:18:43.175102Z",
     "iopub.status.busy": "2024-01-30T18:18:43.174436Z",
     "iopub.status.idle": "2024-01-30T18:18:44.344543Z",
     "shell.execute_reply": "2024-01-30T18:18:44.343532Z"
    },
    "papermill": {
     "duration": 1.194951,
     "end_time": "2024-01-30T18:18:44.347174",
     "exception": false,
     "start_time": "2024-01-30T18:18:43.152223",
     "status": "completed"
    },
    "tags": []
   },
   "outputs": [],
   "source": [
    "# Join to add county to each lat-long key\n",
    "df_forecast_w_per_county = pd.merge(df_weather, df_stations_county_mapping, on='cle_lat-long')"
   ]
  },
  {
   "cell_type": "code",
   "execution_count": 9,
   "id": "8b9bc8c8",
   "metadata": {
    "execution": {
     "iopub.execute_input": "2024-01-30T18:18:44.391515Z",
     "iopub.status.busy": "2024-01-30T18:18:44.390776Z",
     "iopub.status.idle": "2024-01-30T18:18:45.129025Z",
     "shell.execute_reply": "2024-01-30T18:18:45.127856Z"
    },
    "papermill": {
     "duration": 0.763687,
     "end_time": "2024-01-30T18:18:45.131856",
     "exception": false,
     "start_time": "2024-01-30T18:18:44.368169",
     "status": "completed"
    },
    "tags": []
   },
   "outputs": [],
   "source": [
    "# Agg measures per county per hour\n",
    "# as_index= False to preserve hourly measures\n",
    "df_forecast_w_per_county = df_forecast_w_per_county.groupby(['forecast_datetime', 'county'], as_index=False)\\\n",
    ".agg({'temperature': ['min', 'mean', 'max'],\\\n",
    "      'dewpoint': 'mean',\\\n",
    "      '10_metre_u_wind_component': 'mean',\\\n",
    "      'direct_solar_radiation': ['mean', 'max'],\\\n",
    "      'surface_solar_radiation_downwards' : ['mean', 'max']\n",
    "     })\n",
    "\n",
    "# Flatten multi-level columns\n",
    "df_forecast_w_per_county.columns = [\"_\".join(a) for a in df_forecast_w_per_county.columns.to_flat_index()]\n",
    "df_forecast_w_per_county.rename(columns={'forecast_datetime_':'datetime','county_':'county'}, inplace=True)"
   ]
  },
  {
   "cell_type": "code",
   "execution_count": 10,
   "id": "f0afa78c",
   "metadata": {
    "execution": {
     "iopub.execute_input": "2024-01-30T18:18:45.175527Z",
     "iopub.status.busy": "2024-01-30T18:18:45.175058Z",
     "iopub.status.idle": "2024-01-30T18:18:45.240276Z",
     "shell.execute_reply": "2024-01-30T18:18:45.239136Z"
    },
    "papermill": {
     "duration": 0.090193,
     "end_time": "2024-01-30T18:18:45.243095",
     "exception": false,
     "start_time": "2024-01-30T18:18:45.152902",
     "status": "completed"
    },
    "tags": []
   },
   "outputs": [],
   "source": [
    "df_forecast_w_per_county['county'] = df_forecast_w_per_county.county.astype(int)\n",
    "df_forecast_w_per_county['datetime'] = pd.to_datetime(df_forecast_w_per_county['datetime'], format='%Y-%m-%d %H:%M:%S')\n",
    "df_forecast_w_per_county['datetime'] = df_forecast_w_per_county['datetime'].dt.tz_localize('UTC')"
   ]
  },
  {
   "cell_type": "markdown",
   "id": "0b6a533f",
   "metadata": {
    "execution": {
     "iopub.execute_input": "2024-01-19T17:13:51.791034Z",
     "iopub.status.busy": "2024-01-19T17:13:51.789886Z",
     "iopub.status.idle": "2024-01-19T17:13:51.800901Z",
     "shell.execute_reply": "2024-01-19T17:13:51.799672Z",
     "shell.execute_reply.started": "2024-01-19T17:13:51.790985Z"
    },
    "papermill": {
     "duration": 0.021345,
     "end_time": "2024-01-30T18:18:45.285733",
     "exception": false,
     "start_time": "2024-01-30T18:18:45.264388",
     "status": "completed"
    },
    "tags": []
   },
   "source": [
    "Keep forecast_datetime as object or reduced to day precision after merge or groupby"
   ]
  },
  {
   "cell_type": "markdown",
   "id": "3c030ad1",
   "metadata": {
    "papermill": {
     "duration": 0.020335,
     "end_time": "2024-01-30T18:18:45.326602",
     "exception": false,
     "start_time": "2024-01-30T18:18:45.306267",
     "status": "completed"
    },
    "tags": []
   },
   "source": [
    "Client"
   ]
  },
  {
   "cell_type": "code",
   "execution_count": 11,
   "id": "7c6016cf",
   "metadata": {
    "execution": {
     "iopub.execute_input": "2024-01-30T18:18:45.370475Z",
     "iopub.status.busy": "2024-01-30T18:18:45.370063Z",
     "iopub.status.idle": "2024-01-30T18:18:45.391580Z",
     "shell.execute_reply": "2024-01-30T18:18:45.390439Z"
    },
    "papermill": {
     "duration": 0.046546,
     "end_time": "2024-01-30T18:18:45.394400",
     "exception": false,
     "start_time": "2024-01-30T18:18:45.347854",
     "status": "completed"
    },
    "tags": []
   },
   "outputs": [],
   "source": [
    "df_client[\"date\"] = pd.to_datetime(df_client.date)\n",
    "# Date where the measure is received\n",
    "# Converts to str to join as key later\n",
    "#df_client[\"datetime_day\"] = (df_client[\"date\"] + timedelta(days=2)).dt.strftime('%Y-%m-%d')\n",
    "df_client[\"datetime_day\"] = (df_client[\"date\"] + timedelta(days=2)).dt.tz_localize('UTC')\n",
    "\n",
    "df_client = df_client[['datetime_day','county','is_business','product_type','eic_count','installed_capacity']]"
   ]
  },
  {
   "cell_type": "markdown",
   "id": "8e109588",
   "metadata": {
    "papermill": {
     "duration": 0.020968,
     "end_time": "2024-01-30T18:18:45.436281",
     "exception": false,
     "start_time": "2024-01-30T18:18:45.415313",
     "status": "completed"
    },
    "tags": []
   },
   "source": [
    "gas et elec nothing to change. Forecast_date already set, as object.<br>\n",
    "Beware : electricity/h, gas/d"
   ]
  },
  {
   "cell_type": "code",
   "execution_count": 12,
   "id": "90c11a52",
   "metadata": {
    "execution": {
     "iopub.execute_input": "2024-01-30T18:18:45.480321Z",
     "iopub.status.busy": "2024-01-30T18:18:45.479885Z",
     "iopub.status.idle": "2024-01-30T18:18:45.491267Z",
     "shell.execute_reply": "2024-01-30T18:18:45.490408Z"
    },
    "papermill": {
     "duration": 0.03639,
     "end_time": "2024-01-30T18:18:45.493517",
     "exception": false,
     "start_time": "2024-01-30T18:18:45.457127",
     "status": "completed"
    },
    "tags": []
   },
   "outputs": [],
   "source": [
    "df_gas.rename(columns={'forecast_date':'datetime_day'}, inplace=True)\n",
    "\n",
    "df_gas[\"datetime_day\"] = pd.to_datetime(df_gas.datetime_day)\n",
    "#df_gas[\"datetime_day\"] = (df_gas[\"date\"] + timedelta(days=1)).dt.strftime('%Y-%m-%d')\n",
    "df_gas[\"datetime_day\"] = (df_gas[\"datetime_day\"] + timedelta(days=1)).dt.tz_localize('UTC')\n",
    "\n",
    "df_gas = df_gas[['datetime_day','lowest_price_per_mwh','highest_price_per_mwh']]"
   ]
  },
  {
   "cell_type": "code",
   "execution_count": 13,
   "id": "7bb54d35",
   "metadata": {
    "execution": {
     "iopub.execute_input": "2024-01-30T18:18:45.537299Z",
     "iopub.status.busy": "2024-01-30T18:18:45.536544Z",
     "iopub.status.idle": "2024-01-30T18:18:45.554392Z",
     "shell.execute_reply": "2024-01-30T18:18:45.553244Z"
    },
    "papermill": {
     "duration": 0.043147,
     "end_time": "2024-01-30T18:18:45.557499",
     "exception": false,
     "start_time": "2024-01-30T18:18:45.514352",
     "status": "completed"
    },
    "tags": []
   },
   "outputs": [],
   "source": [
    "df_electricity['datetime'] = pd.to_datetime(df_electricity['forecast_date'], format='%Y-%m-%d %H:%M:%S')\n",
    "df_electricity['datetime'] = (df_electricity['datetime'] + timedelta(days=1)).dt.tz_localize('UTC')\n",
    "df_electricity = df_electricity[['datetime','euros_per_mwh']]"
   ]
  },
  {
   "cell_type": "markdown",
   "id": "df05ff2d",
   "metadata": {
    "papermill": {
     "duration": 0.02036,
     "end_time": "2024-01-30T18:18:45.599196",
     "exception": false,
     "start_time": "2024-01-30T18:18:45.578836",
     "status": "completed"
    },
    "tags": []
   },
   "source": [
    "## Fourier transform and out-of-sample"
   ]
  },
  {
   "cell_type": "markdown",
   "id": "b0a204ee",
   "metadata": {
    "papermill": {
     "duration": 0.02049,
     "end_time": "2024-01-30T18:18:45.640812",
     "exception": false,
     "start_time": "2024-01-30T18:18:45.620322",
     "status": "completed"
    },
    "tags": []
   },
   "source": [
    "We want to isolate only pid where measure are complete for training.<br>\n",
    "Extrapolate on missing data would have been possible, but data is sufficient for proper training.<br>\n",
    "Some pid (68 i.e.) have way too much missing values, we want to keep them away."
   ]
  },
  {
   "cell_type": "code",
   "execution_count": 14,
   "id": "02f26cea",
   "metadata": {
    "execution": {
     "iopub.execute_input": "2024-01-30T18:18:45.684617Z",
     "iopub.status.busy": "2024-01-30T18:18:45.683382Z",
     "iopub.status.idle": "2024-01-30T18:18:45.793091Z",
     "shell.execute_reply": "2024-01-30T18:18:45.791821Z"
    },
    "papermill": {
     "duration": 0.134376,
     "end_time": "2024-01-30T18:18:45.795742",
     "exception": false,
     "start_time": "2024-01-30T18:18:45.661366",
     "status": "completed"
    },
    "tags": []
   },
   "outputs": [
    {
     "name": "stdout",
     "output_type": "stream",
     "text": [
      "56 prediction_unit_id are complete out of 69\n"
     ]
    }
   ],
   "source": [
    "df_conso = df_train[df_train.is_consumption==1].copy()\n",
    "\n",
    "df_full_pid = df_conso.groupby('prediction_unit_id').size().reset_index(name='count')\n",
    "\n",
    "pid_is_complete = df_full_pid['count'].max()\n",
    "df_full_pid = df_full_pid[df_full_pid['count'] == pid_is_complete]\n",
    "\n",
    "print(\"{} prediction_unit_id are complete out of 69\".format(df_full_pid.shape[0]))\n",
    "\n",
    "del df_conso"
   ]
  },
  {
   "cell_type": "code",
   "execution_count": 15,
   "id": "d4fab293",
   "metadata": {
    "execution": {
     "iopub.execute_input": "2024-01-30T18:18:45.841350Z",
     "iopub.status.busy": "2024-01-30T18:18:45.840745Z",
     "iopub.status.idle": "2024-01-30T18:18:45.863295Z",
     "shell.execute_reply": "2024-01-30T18:18:45.862139Z"
    },
    "papermill": {
     "duration": 0.049008,
     "end_time": "2024-01-30T18:18:45.865609",
     "exception": false,
     "start_time": "2024-01-30T18:18:45.816601",
     "status": "completed"
    },
    "tags": []
   },
   "outputs": [
    {
     "data": {
      "text/plain": [
       "datetime           \n",
       "2022-10-30 03:00:00    136\n",
       "2022-03-27 03:00:00    134\n",
       "2023-03-26 03:00:00    132\n",
       "2021-10-31 03:00:00    126\n",
       "Name: count, dtype: int64"
      ]
     },
     "execution_count": 15,
     "metadata": {},
     "output_type": "execute_result"
    }
   ],
   "source": [
    "# Some target are nulls.\n",
    "# They are observed during daytime change, summer and winter\n",
    "df_train[['datetime']].loc[df_train.target.isnull()].value_counts()"
   ]
  },
  {
   "cell_type": "code",
   "execution_count": 16,
   "id": "949a57ec",
   "metadata": {
    "execution": {
     "iopub.execute_input": "2024-01-30T18:18:45.911820Z",
     "iopub.status.busy": "2024-01-30T18:18:45.910814Z",
     "iopub.status.idle": "2024-01-30T18:18:46.032933Z",
     "shell.execute_reply": "2024-01-30T18:18:46.031761Z"
    },
    "papermill": {
     "duration": 0.147233,
     "end_time": "2024-01-30T18:18:46.035806",
     "exception": false,
     "start_time": "2024-01-30T18:18:45.888573",
     "status": "completed"
    },
    "tags": []
   },
   "outputs": [],
   "source": [
    "# We can drop them, no need to interpolate\n",
    "df_train.dropna(subset=['target'], inplace=True)"
   ]
  },
  {
   "cell_type": "code",
   "execution_count": 17,
   "id": "3fee30b5",
   "metadata": {
    "execution": {
     "iopub.execute_input": "2024-01-30T18:18:46.079355Z",
     "iopub.status.busy": "2024-01-30T18:18:46.078940Z",
     "iopub.status.idle": "2024-01-30T18:18:46.457532Z",
     "shell.execute_reply": "2024-01-30T18:18:46.456378Z"
    },
    "papermill": {
     "duration": 0.4036,
     "end_time": "2024-01-30T18:18:46.460379",
     "exception": false,
     "start_time": "2024-01-30T18:18:46.056779",
     "status": "completed"
    },
    "tags": []
   },
   "outputs": [],
   "source": [
    "df_full_pid_conso = df_train.loc[df_train.is_consumption==1].merge(\\\n",
    "                        df_full_pid[['prediction_unit_id']], on='prediction_unit_id', how='inner')\n",
    "\n",
    "df_full_pid_prod = df_train.loc[df_train.is_consumption==0].merge(\\\n",
    "                        df_full_pid[['prediction_unit_id']], on='prediction_unit_id', how='inner')"
   ]
  },
  {
   "cell_type": "markdown",
   "id": "f7b96169",
   "metadata": {
    "papermill": {
     "duration": 0.020763,
     "end_time": "2024-01-30T18:18:46.502283",
     "exception": false,
     "start_time": "2024-01-30T18:18:46.481520",
     "status": "completed"
    },
    "tags": []
   },
   "source": [
    "#### Functions definition"
   ]
  },
  {
   "cell_type": "code",
   "execution_count": 18,
   "id": "fd108d77",
   "metadata": {
    "execution": {
     "iopub.execute_input": "2024-01-30T18:18:46.546128Z",
     "iopub.status.busy": "2024-01-30T18:18:46.545716Z",
     "iopub.status.idle": "2024-01-30T18:18:46.553069Z",
     "shell.execute_reply": "2024-01-30T18:18:46.552116Z"
    },
    "papermill": {
     "duration": 0.031696,
     "end_time": "2024-01-30T18:18:46.555179",
     "exception": false,
     "start_time": "2024-01-30T18:18:46.523483",
     "status": "completed"
    },
    "tags": []
   },
   "outputs": [],
   "source": [
    "def fourier_features(index, freq, order):\n",
    "    time = np.arange(len(index), dtype=np.float32)\n",
    "    k = 2 * np.pi * (1 / freq) * time\n",
    "    features = {}\n",
    "    for i in range(1, order + 1):\n",
    "        features.update({\n",
    "            f\"sin_{freq}_{i}\": np.sin(i * k),\n",
    "            f\"cos_{freq}_{i}\": np.cos(i * k),\n",
    "        })\n",
    "    return pd.DataFrame(features, index=index)"
   ]
  },
  {
   "cell_type": "code",
   "execution_count": 19,
   "id": "86990a32",
   "metadata": {
    "execution": {
     "iopub.execute_input": "2024-01-30T18:18:46.599044Z",
     "iopub.status.busy": "2024-01-30T18:18:46.598571Z",
     "iopub.status.idle": "2024-01-30T18:18:46.611601Z",
     "shell.execute_reply": "2024-01-30T18:18:46.610455Z"
    },
    "papermill": {
     "duration": 0.037832,
     "end_time": "2024-01-30T18:18:46.614068",
     "exception": false,
     "start_time": "2024-01-30T18:18:46.576236",
     "status": "completed"
    },
    "tags": []
   },
   "outputs": [],
   "source": [
    "def add_season(df, consumption, group):\n",
    "    ''' Adds the seasonal Fourier in and out of sample, up to the end of the competition, per hour'''\n",
    "    \n",
    "    df_fourier = df.loc[ df.prediction_unit_id == group ]\n",
    "    # str -> datetime, then as index\n",
    "    df_fourier['datetime'] = pd.to_datetime(df_fourier['datetime'], format='%Y-%m-%d %H:%M:%S')\n",
    "    df_fourier = df_fourier.set_index('datetime').sort_index(ascending=True)\n",
    "    # remove timezone aware from index\n",
    "    df_fourier.index = df_fourier.index.tz_localize(None)\n",
    "    \n",
    "    # Orders are not the same for production and consumption.\n",
    "    # See periodogram in the dedicated notebook\n",
    "    nb_f = 4 if consumption==True else 3\n",
    "    \n",
    "    fourier = CalendarFourier(freq=\"A\", order=nb_f)\n",
    "\n",
    "    dp = DeterministicProcess(\n",
    "        # Need to pass index as period, otherwise won't work\n",
    "        index=df_fourier.index.to_period(\"H\"), #slice the index with in sample only\n",
    "        constant=True,               # dummy feature for bias (y-intercept)\n",
    "        order=1,                     # trend (order 1 means linear)\n",
    "        seasonal=True,               # weekly seasonality (indicators)\n",
    "        additional_terms=[fourier],  # annual seasonality (fourier)\n",
    "        drop=True                    # drop terms to avoid collinearity\n",
    "    )\n",
    "\n",
    "    # in-sample\n",
    "    X = dp.in_sample()\n",
    "    y = df_fourier['target']\n",
    "\n",
    "    model = LinearRegression(fit_intercept=False)\n",
    "    _ = model.fit(X, y)\n",
    "\n",
    "    y_pred = pd.Series(model.predict(X), index=y.index)\n",
    "\n",
    "    # There are 5880 more rows between 31-05-2022 and 02-06-2024\n",
    "    # This should be the largest 'real data' test possible\n",
    "    X_fore = dp.out_of_sample(steps=8820)\n",
    "    y_fore = pd.Series(model.predict(X_fore), index=X_fore.index)\n",
    "\n",
    "    # Concatenate in and out of sample\n",
    "    y_fore.index = y_fore.index.to_timestamp()\n",
    "    y_season = pd.concat([y_pred, y_fore])\n",
    "\n",
    "    df_season = pd.DataFrame(y_season, columns=['seasonality'])\n",
    "    \n",
    "    df_fourier = df_fourier.join(df_season, how='right')\n",
    "    # Fill pid for out of sample values\n",
    "    df_fourier['prediction_unit_id'] = group\n",
    "    df_fourier['is_consumption'] = 1 if consumption==True else 0\n",
    "\n",
    "\n",
    "    return df_fourier"
   ]
  },
  {
   "cell_type": "code",
   "execution_count": 20,
   "id": "999d1598",
   "metadata": {
    "execution": {
     "iopub.execute_input": "2024-01-30T18:18:46.658500Z",
     "iopub.status.busy": "2024-01-30T18:18:46.658081Z",
     "iopub.status.idle": "2024-01-30T18:18:46.667066Z",
     "shell.execute_reply": "2024-01-30T18:18:46.666066Z"
    },
    "papermill": {
     "duration": 0.034238,
     "end_time": "2024-01-30T18:18:46.669338",
     "exception": false,
     "start_time": "2024-01-30T18:18:46.635100",
     "status": "completed"
    },
    "tags": []
   },
   "outputs": [],
   "source": [
    "def add_median_columns(df_in):\n",
    "    \n",
    "    # Consumption and production can't be below 0. Floor Fourier functions to 0.\n",
    "    #df_in.loc[df_in.seasonality < 0, 'seasonality'] = 0\n",
    "\n",
    "    # Seasonality per county\n",
    "    df_gp = df_in.groupby(['datetime','county'])['seasonality'].median().reset_index()\n",
    "    df_gp.rename(columns={'seasonality':'med_st_county'}, inplace=True)\n",
    "    df_in = pd.merge(df_in, df_gp, on=['datetime', 'county'])\n",
    "\n",
    "    # Seasonality per business\n",
    "    df_gp = df_in.groupby(['datetime','is_business'])['seasonality'].median().reset_index()\n",
    "    df_gp.rename(columns={'seasonality':'med_st_business'}, inplace=True)\n",
    "    df_in = pd.merge(df_in, df_gp, on=['datetime', 'is_business'])\n",
    "\n",
    "    # Seasonality per product\n",
    "    df_gp = df_in.groupby(['datetime','product_type'])['seasonality'].median().reset_index()\n",
    "    df_gp.rename(columns={'seasonality':'med_st_product_type'}, inplace=True)\n",
    "    df_in = pd.merge(df_in, df_gp, on=['datetime', 'product_type'])\n",
    "\n",
    "    return df_in"
   ]
  },
  {
   "cell_type": "code",
   "execution_count": 21,
   "id": "d30ba807",
   "metadata": {
    "execution": {
     "iopub.execute_input": "2024-01-30T18:18:46.713120Z",
     "iopub.status.busy": "2024-01-30T18:18:46.712659Z",
     "iopub.status.idle": "2024-01-30T18:18:46.721903Z",
     "shell.execute_reply": "2024-01-30T18:18:46.721071Z"
    },
    "papermill": {
     "duration": 0.033747,
     "end_time": "2024-01-30T18:18:46.724129",
     "exception": false,
     "start_time": "2024-01-30T18:18:46.690382",
     "status": "completed"
    },
    "tags": []
   },
   "outputs": [],
   "source": [
    "def optim_coeffs(df_in):\n",
    "    \n",
    "    df_optim = df_in[df_in['target'].notna()]\n",
    "\n",
    "    # Define the coefficients\n",
    "    x = np.random.rand()\n",
    "    y = np.random.rand()\n",
    "    z = np.random.rand()\n",
    "    \n",
    "    def f(coefficients):\n",
    "        ''' Define the function to minimize'''\n",
    "        x, y, z = coefficients\n",
    "        return np.sum((x * df_optim['med_st_county'] + y * df_optim['med_st_business'] + z * df_optim['med_st_product_type'] - df_optim['target']) ** 2)\n",
    "    \n",
    "    # Minimize the function\n",
    "    res = minimize(f, [x, y, z])\n",
    "\n",
    "    x_opt = res.x[0]\n",
    "    y_opt = res.x[1]\n",
    "    z_opt = res.x[2]\n",
    "    coeffs = [x_opt, y_opt, z_opt]\n",
    "\n",
    "    df_in['st_target'] = x_opt*df_in.med_st_county + y_opt*df_in.med_st_business + z_opt*df_in.med_st_product_type\n",
    "    df_in['residuals'] = df_in.target - df_in.st_target\n",
    "    \n",
    "    return df_in, coeffs"
   ]
  },
  {
   "cell_type": "code",
   "execution_count": 22,
   "id": "d758805b",
   "metadata": {
    "execution": {
     "iopub.execute_input": "2024-01-30T18:18:46.768507Z",
     "iopub.status.busy": "2024-01-30T18:18:46.768081Z",
     "iopub.status.idle": "2024-01-30T18:18:46.777194Z",
     "shell.execute_reply": "2024-01-30T18:18:46.776096Z"
    },
    "papermill": {
     "duration": 0.034327,
     "end_time": "2024-01-30T18:18:46.779508",
     "exception": false,
     "start_time": "2024-01-30T18:18:46.745181",
     "status": "completed"
    },
    "tags": []
   },
   "outputs": [],
   "source": [
    "def extract_date_components(df_in):\n",
    "    '''Feature engineering for dates.\n",
    "    Add datetime day, holiday, and datetime components'''\n",
    "    \n",
    "    df_in['datetime_day'] = df_in['datetime'].dt.date\n",
    "    df_in['datetime_day'] = pd.to_datetime(df_in['datetime_day'], format='%Y-%m-%d')\n",
    "    \n",
    "    # Add Estonian holiday column, based on the previous one\n",
    "    est_holidays = holidays.Estonia(years=[2021, 2022, 2023, 2024])\n",
    "    df_in['holiday'] = df_in['datetime_day'].apply(lambda x: 1 if x in est_holidays else 0)\n",
    "    \n",
    "    # Create new columns from date column\n",
    "    df_in['week_of_year'] = df_in['datetime'].dt.isocalendar().week.astype(int)\n",
    "    df_in['day_of_week'] = df_in['datetime'].dt.dayofweek.astype(int)\n",
    "    df_in['day_of_year'] = df_in['datetime'].dt.dayofyear.astype(int)\n",
    "    df_in['hour_of_day'] = df_in['datetime'].dt.hour.astype(int)\n",
    "    df_in['month'] = df_in['datetime'].dt.month.astype(int)\n",
    "    \n",
    "    return df_in"
   ]
  },
  {
   "cell_type": "code",
   "execution_count": 23,
   "id": "d226afcf",
   "metadata": {
    "execution": {
     "iopub.execute_input": "2024-01-30T18:18:46.823588Z",
     "iopub.status.busy": "2024-01-30T18:18:46.823169Z",
     "iopub.status.idle": "2024-01-30T18:18:46.833785Z",
     "shell.execute_reply": "2024-01-30T18:18:46.832038Z"
    },
    "papermill": {
     "duration": 0.035725,
     "end_time": "2024-01-30T18:18:46.836572",
     "exception": false,
     "start_time": "2024-01-30T18:18:46.800847",
     "status": "completed"
    },
    "tags": []
   },
   "outputs": [],
   "source": [
    "def run_fourier_and_optim(df_in, consumption, pid_list): \n",
    "    \n",
    "    df_list = []\n",
    "\n",
    "    for p in pids:\n",
    "        df_list.append( add_season(df_in, consumption=consumption, group=p) )\n",
    "    \n",
    "    df_fourier = pd.concat(df_list)\n",
    "\n",
    "    # Datetime back as column, no timezone\n",
    "    df_fourier.reset_index(inplace=True)\n",
    "    df_fourier.rename(columns={'index':'datetime'},inplace=True)\n",
    "    df_fourier['datetime'] = df_fourier['datetime'].dt.tz_localize('UTC')\n",
    "    \n",
    "    # Feature Engineering for datetime column\n",
    "    df_fourier = extract_date_components(df_fourier)\n",
    "    df_fourier['datetime_day'] = df_fourier['datetime_day'].dt.tz_localize('UTC')\n",
    "    \n",
    "    # Add 'county','is_business','product_type' to out of sample. Join with distinct pid combinations\n",
    "    df_fourier = pd.merge(df_fourier.drop(columns=['county','is_business','product_type']), df_distinct, on=['prediction_unit_id'], how='left')\n",
    "\n",
    "    # Median columns calculation\n",
    "    df_fourier = add_median_columns(df_fourier)\n",
    "    \n",
    "    # Coeff optimisation\n",
    "    df_fourier, coeffs = optim_coeffs(df_fourier)\n",
    "\n",
    "    return df_fourier.drop(columns=['data_block_id']), coeffs"
   ]
  },
  {
   "cell_type": "code",
   "execution_count": 24,
   "id": "87ed0d66",
   "metadata": {
    "execution": {
     "iopub.execute_input": "2024-01-30T18:18:46.881779Z",
     "iopub.status.busy": "2024-01-30T18:18:46.881341Z",
     "iopub.status.idle": "2024-01-30T18:18:46.888858Z",
     "shell.execute_reply": "2024-01-30T18:18:46.887724Z"
    },
    "papermill": {
     "duration": 0.032561,
     "end_time": "2024-01-30T18:18:46.891377",
     "exception": false,
     "start_time": "2024-01-30T18:18:46.858816",
     "status": "completed"
    },
    "tags": []
   },
   "outputs": [],
   "source": [
    "def unite_dfs(df_in, client, gas, elec, weather_forecast):\n",
    "    ''' Merge all DataFrames into one'''\n",
    "    \n",
    "    df_unite = pd.merge(df_in, client, on=['datetime_day', 'county', 'is_business', 'product_type'], how='left')\n",
    "    df_unite = pd.merge(df_unite, gas, on=['datetime_day'], how='left')\n",
    "    df_unite = pd.merge(df_unite, elec, on=['datetime'], how='left')\n",
    "    df_unite = pd.merge(df_unite, weather_forecast, on=['datetime','county'], how='left')\n",
    "    \n",
    "    return df_unite"
   ]
  },
  {
   "cell_type": "code",
   "execution_count": 25,
   "id": "7e316473",
   "metadata": {
    "execution": {
     "iopub.execute_input": "2024-01-30T18:18:46.935733Z",
     "iopub.status.busy": "2024-01-30T18:18:46.934958Z",
     "iopub.status.idle": "2024-01-30T18:18:46.945724Z",
     "shell.execute_reply": "2024-01-30T18:18:46.944907Z"
    },
    "papermill": {
     "duration": 0.035933,
     "end_time": "2024-01-30T18:18:46.948238",
     "exception": false,
     "start_time": "2024-01-30T18:18:46.912305",
     "status": "completed"
    },
    "tags": []
   },
   "outputs": [],
   "source": [
    "def generate_FE_columns(df_in):\n",
    "\n",
    "    df_in['ssrd_mean*temp_mean'] = df_in.surface_solar_radiation_downwards_mean * df_in.temperature_mean\n",
    "    df_in['ssrd_mean*temp_max'] = df_in.surface_solar_radiation_downwards_mean * df_in.temperature_max\n",
    "    df_in['ssrd_mean*hod'] = df_in.surface_solar_radiation_downwards_mean * df_in.hour_of_day\n",
    "    df_in['ssrd_mean*eic'] = df_in.surface_solar_radiation_downwards_mean * df_in.eic_count\n",
    "    df_in['ssrd_max*eic'] = df_in.surface_solar_radiation_downwards_max * df_in.eic_count\n",
    "    df_in['ssrd_mean*capacity'] = df_in.surface_solar_radiation_downwards_mean * df_in.installed_capacity\n",
    "    df_in['ssrd_max*capacity'] = df_in.surface_solar_radiation_downwards_max * df_in.installed_capacity\n",
    "    df_in['ssrd_mean*dsr_mean'] = df_in.surface_solar_radiation_downwards_mean * df_in.direct_solar_radiation_mean\n",
    "    df_in['ssrd_max*dsr_mean'] = df_in.surface_solar_radiation_downwards_max * df_in.direct_solar_radiation_mean\n",
    "    \n",
    "    df_in['temp_max*hod'] = df_in.temperature_max * df_in.hour_of_day\n",
    "    df_in['temp_max*dsr_max'] = df_in.temperature_max * df_in.direct_solar_radiation_max\n",
    "    df_in['temp_min*capacity'] = df_in.temperature_min * df_in.installed_capacity\n",
    "    \n",
    "    df_in['dsr_mean*dsr_max'] = df_in.direct_solar_radiation_mean * df_in.direct_solar_radiation_max\n",
    "    \n",
    "    df_in['capacity*business'] = df_in.installed_capacity * df_in.is_business\n",
    "    df_in['capacity*eic'] = df_in.installed_capacity * df_in.eic_count\n",
    "    df_in['holiday*eic'] = df_in.holiday * df_in.eic_count\n",
    "    \n",
    "    df_in['log10_capacity'] = np.log10(df_in.installed_capacity)\n",
    "    df_in['log10_eic'] = np.log10(df_in.eic_count)\n",
    "    df_in['log10_eic'] = df_in.installed_capacity ** 2\n",
    "    df_in['sqr_eic'] = df_in.eic_count ** 2\n",
    "    \n",
    "    return df_in"
   ]
  },
  {
   "cell_type": "code",
   "execution_count": 26,
   "id": "78a0930b",
   "metadata": {
    "execution": {
     "iopub.execute_input": "2024-01-30T18:18:46.992376Z",
     "iopub.status.busy": "2024-01-30T18:18:46.991960Z",
     "iopub.status.idle": "2024-01-30T18:18:46.998794Z",
     "shell.execute_reply": "2024-01-30T18:18:46.997733Z"
    },
    "papermill": {
     "duration": 0.031682,
     "end_time": "2024-01-30T18:18:47.001060",
     "exception": false,
     "start_time": "2024-01-30T18:18:46.969378",
     "status": "completed"
    },
    "tags": []
   },
   "outputs": [],
   "source": [
    "def interpolate_per_pids(df, group):\n",
    "    '''Interpolate null Target values.\n",
    "    Per given group'''\n",
    "    \n",
    "    # Handle on selected group, in-sample data, for training\n",
    "    df_extract = df.loc[df['prediction_unit_id'] == group].copy()\n",
    "\n",
    "    # Datetime has to be passed to index to interpolate\n",
    "    df_extract.set_index('datetime', inplace=True)\n",
    "    df_extract.sort_index(ascending=True, inplace=True)\n",
    "\n",
    "    # The pad method fills the missing values with the last known value in the column.\n",
    "    df_extract.interpolate(method='pad', inplace=True)\n",
    "\n",
    "    # Bring datetime back to column. Easier for future pd.contact for each group\n",
    "    return df_extract.reset_index()\n"
   ]
  },
  {
   "cell_type": "markdown",
   "id": "09e2b6f3",
   "metadata": {
    "papermill": {
     "duration": 0.021498,
     "end_time": "2024-01-30T18:18:47.043776",
     "exception": false,
     "start_time": "2024-01-30T18:18:47.022278",
     "status": "completed"
    },
    "tags": []
   },
   "source": [
    "#### Run Fourier transform"
   ]
  },
  {
   "cell_type": "code",
   "execution_count": 27,
   "id": "9bb0210c",
   "metadata": {
    "execution": {
     "iopub.execute_input": "2024-01-30T18:18:47.088632Z",
     "iopub.status.busy": "2024-01-30T18:18:47.087912Z",
     "iopub.status.idle": "2024-01-30T18:18:47.363406Z",
     "shell.execute_reply": "2024-01-30T18:18:47.362438Z"
    },
    "papermill": {
     "duration": 0.30061,
     "end_time": "2024-01-30T18:18:47.365902",
     "exception": false,
     "start_time": "2024-01-30T18:18:47.065292",
     "status": "completed"
    },
    "tags": []
   },
   "outputs": [],
   "source": [
    "d_dfs_in = {\n",
    "    \"df_in\":[df_full_pid_conso, df_full_pid_prod],\n",
    "    \"consumption\":[True, False]\n",
    "}\n",
    "\n",
    "# List of all unique pids\n",
    "pids = set(df_full_pid_conso.prediction_unit_id)\n",
    "\n",
    "df_distinct = df_train[['prediction_unit_id','county','is_business','product_type']].drop_duplicates()"
   ]
  },
  {
   "cell_type": "code",
   "execution_count": 28,
   "id": "66cb2410",
   "metadata": {
    "execution": {
     "iopub.execute_input": "2024-01-30T18:18:47.410483Z",
     "iopub.status.busy": "2024-01-30T18:18:47.409781Z",
     "iopub.status.idle": "2024-01-30T18:19:41.335426Z",
     "shell.execute_reply": "2024-01-30T18:19:41.334039Z"
    },
    "papermill": {
     "duration": 53.95131,
     "end_time": "2024-01-30T18:19:41.338665",
     "exception": false,
     "start_time": "2024-01-30T18:18:47.387355",
     "status": "completed"
    },
    "tags": []
   },
   "outputs": [],
   "source": [
    "# Add Fourier Season + Trend /county /isBusiness /Product, on prod & conso datasets separately\n",
    "df_ref_conso, coeffs_conso = run_fourier_and_optim(d_dfs_in['df_in'][0], d_dfs_in['consumption'][0], pids)\n",
    "df_ref_prod, coeffs_prod = run_fourier_and_optim(d_dfs_in['df_in'][1], d_dfs_in['consumption'][1], pids)"
   ]
  },
  {
   "cell_type": "code",
   "execution_count": 29,
   "id": "c63cb2ec",
   "metadata": {
    "execution": {
     "iopub.execute_input": "2024-01-30T18:19:41.383812Z",
     "iopub.status.busy": "2024-01-30T18:19:41.383417Z",
     "iopub.status.idle": "2024-01-30T18:19:41.388912Z",
     "shell.execute_reply": "2024-01-30T18:19:41.387929Z"
    },
    "papermill": {
     "duration": 0.031786,
     "end_time": "2024-01-30T18:19:41.392304",
     "exception": false,
     "start_time": "2024-01-30T18:19:41.360518",
     "status": "completed"
    },
    "tags": []
   },
   "outputs": [
    {
     "name": "stdout",
     "output_type": "stream",
     "text": [
      "[1.6066448824635613, 1.0218815439856979, -0.07560437330862395]\n",
      "[1.8344578118553612, -2.8296503210013526, 1.882824411645626]\n"
     ]
    }
   ],
   "source": [
    "print(coeffs_conso)\n",
    "print(coeffs_prod)"
   ]
  },
  {
   "cell_type": "code",
   "execution_count": 30,
   "id": "b34039aa",
   "metadata": {
    "execution": {
     "iopub.execute_input": "2024-01-30T18:19:41.436836Z",
     "iopub.status.busy": "2024-01-30T18:19:41.436425Z",
     "iopub.status.idle": "2024-01-30T18:19:42.869253Z",
     "shell.execute_reply": "2024-01-30T18:19:42.868162Z"
    },
    "papermill": {
     "duration": 1.458236,
     "end_time": "2024-01-30T18:19:42.871993",
     "exception": false,
     "start_time": "2024-01-30T18:19:41.413757",
     "status": "completed"
    },
    "tags": []
   },
   "outputs": [],
   "source": [
    "# Merge main DataFrames with additional Measures Datasets\n",
    "\n",
    "df_raw_conso = unite_dfs(df_ref_conso.loc[(df_ref_conso.datetime_day>='2021-09-03') & (df_ref_conso.datetime_day<='2023-05-31')],\n",
    "                           df_client, df_gas, df_electricity, df_forecast_w_per_county)\n",
    "     \n",
    "df_raw_prod = unite_dfs(df_ref_prod.loc[(df_ref_prod.datetime_day>='2021-09-03') & (df_ref_prod.datetime_day<='2023-05-31')],\n",
    "                          df_client, df_gas, df_electricity, df_forecast_w_per_county)"
   ]
  },
  {
   "cell_type": "code",
   "execution_count": 31,
   "id": "4ce6fdf3",
   "metadata": {
    "execution": {
     "iopub.execute_input": "2024-01-30T18:19:42.917248Z",
     "iopub.status.busy": "2024-01-30T18:19:42.916862Z",
     "iopub.status.idle": "2024-01-30T18:19:54.090034Z",
     "shell.execute_reply": "2024-01-30T18:19:54.088760Z"
    },
    "papermill": {
     "duration": 11.19874,
     "end_time": "2024-01-30T18:19:54.092946",
     "exception": false,
     "start_time": "2024-01-30T18:19:42.894206",
     "status": "completed"
    },
    "tags": []
   },
   "outputs": [],
   "source": [
    "# extract in-sample data, and interpolate values per PIDs\n",
    "\n",
    "col_list = df_raw_conso.columns.to_list()\n",
    "df_train_conso = pd.DataFrame(columns=col_list)\n",
    "df_train_prod = pd.DataFrame(columns=col_list)\n",
    "\n",
    "for g in list(pids):\n",
    "        df_train_conso = pd.concat([df_train_conso, interpolate_per_pids(df_raw_conso, group=g)])\n",
    "        df_train_prod = pd.concat([df_train_prod, interpolate_per_pids(df_raw_prod, group=g)])\n",
    "\n",
    "del df_raw_conso, df_raw_prod"
   ]
  },
  {
   "cell_type": "code",
   "execution_count": 32,
   "id": "48fb89b0",
   "metadata": {
    "execution": {
     "iopub.execute_input": "2024-01-30T18:19:54.137595Z",
     "iopub.status.busy": "2024-01-30T18:19:54.137231Z",
     "iopub.status.idle": "2024-01-30T18:19:56.380738Z",
     "shell.execute_reply": "2024-01-30T18:19:56.379404Z"
    },
    "papermill": {
     "duration": 2.269024,
     "end_time": "2024-01-30T18:19:56.383557",
     "exception": false,
     "start_time": "2024-01-30T18:19:54.114533",
     "status": "completed"
    },
    "tags": []
   },
   "outputs": [],
   "source": [
    "# Convert columns incorrectly converted as object back to int\n",
    "obj_cols = df_train_conso.drop('datetime_day', axis=1).select_dtypes(include=[object]).columns\n",
    "\n",
    "df_train_conso[obj_cols] = df_train_conso[obj_cols].astype(int)\n",
    "df_train_prod[obj_cols] = df_train_prod[obj_cols].astype(int)"
   ]
  },
  {
   "cell_type": "code",
   "execution_count": 33,
   "id": "cc0f7056",
   "metadata": {
    "execution": {
     "iopub.execute_input": "2024-01-30T18:19:56.427588Z",
     "iopub.status.busy": "2024-01-30T18:19:56.427195Z",
     "iopub.status.idle": "2024-01-30T18:19:56.640739Z",
     "shell.execute_reply": "2024-01-30T18:19:56.639898Z"
    },
    "papermill": {
     "duration": 0.238647,
     "end_time": "2024-01-30T18:19:56.643232",
     "exception": false,
     "start_time": "2024-01-30T18:19:56.404585",
     "status": "completed"
    },
    "tags": []
   },
   "outputs": [],
   "source": [
    "# Add Feature Engineering columns\n",
    "df_train_conso = generate_FE_columns(df_train_conso)\n",
    "df_train_prod = generate_FE_columns(df_train_prod)"
   ]
  },
  {
   "cell_type": "code",
   "execution_count": 34,
   "id": "719425bf",
   "metadata": {
    "execution": {
     "iopub.execute_input": "2024-01-30T18:19:56.688757Z",
     "iopub.status.busy": "2024-01-30T18:19:56.688083Z",
     "iopub.status.idle": "2024-01-30T18:19:56.766921Z",
     "shell.execute_reply": "2024-01-30T18:19:56.765738Z"
    },
    "papermill": {
     "duration": 0.104463,
     "end_time": "2024-01-30T18:19:56.769259",
     "exception": false,
     "start_time": "2024-01-30T18:19:56.664796",
     "status": "completed"
    },
    "tags": []
   },
   "outputs": [
    {
     "data": {
      "text/plain": [
       "datetime                                  0\n",
       "target                                    0\n",
       "is_consumption                            0\n",
       "row_id                                    0\n",
       "prediction_unit_id                        0\n",
       "seasonality                               0\n",
       "datetime_day                              0\n",
       "holiday                                   0\n",
       "week_of_year                              0\n",
       "day_of_week                               0\n",
       "day_of_year                               0\n",
       "hour_of_day                               0\n",
       "month                                     0\n",
       "county                                    0\n",
       "is_business                               0\n",
       "product_type                              0\n",
       "med_st_county                             0\n",
       "med_st_business                           0\n",
       "med_st_product_type                       0\n",
       "st_target                                 0\n",
       "residuals                                 0\n",
       "eic_count                                 0\n",
       "installed_capacity                        0\n",
       "lowest_price_per_mwh                      0\n",
       "highest_price_per_mwh                     0\n",
       "euros_per_mwh                             0\n",
       "temperature_min                           0\n",
       "temperature_mean                          0\n",
       "temperature_max                           0\n",
       "dewpoint_mean                             0\n",
       "10_metre_u_wind_component_mean            0\n",
       "direct_solar_radiation_mean               0\n",
       "direct_solar_radiation_max                0\n",
       "surface_solar_radiation_downwards_mean    0\n",
       "surface_solar_radiation_downwards_max     0\n",
       "ssrd_mean*temp_mean                       0\n",
       "ssrd_mean*temp_max                        0\n",
       "ssrd_mean*hod                             0\n",
       "ssrd_mean*eic                             0\n",
       "ssrd_max*eic                              0\n",
       "ssrd_mean*capacity                        0\n",
       "ssrd_max*capacity                         0\n",
       "ssrd_mean*dsr_mean                        0\n",
       "ssrd_max*dsr_mean                         0\n",
       "temp_max*hod                              0\n",
       "temp_max*dsr_max                          0\n",
       "temp_min*capacity                         0\n",
       "dsr_mean*dsr_max                          0\n",
       "capacity*business                         0\n",
       "capacity*eic                              0\n",
       "holiday*eic                               0\n",
       "log10_capacity                            0\n",
       "log10_eic                                 0\n",
       "sqr_eic                                   0\n",
       "dtype: int64"
      ]
     },
     "execution_count": 34,
     "metadata": {},
     "output_type": "execute_result"
    }
   ],
   "source": [
    "df_train_conso.isnull().sum()"
   ]
  },
  {
   "cell_type": "code",
   "execution_count": 35,
   "id": "f5a8e4f7",
   "metadata": {
    "execution": {
     "iopub.execute_input": "2024-01-30T18:19:56.813282Z",
     "iopub.status.busy": "2024-01-30T18:19:56.812894Z",
     "iopub.status.idle": "2024-01-30T18:19:56.883891Z",
     "shell.execute_reply": "2024-01-30T18:19:56.882736Z"
    },
    "papermill": {
     "duration": 0.09598,
     "end_time": "2024-01-30T18:19:56.886455",
     "exception": false,
     "start_time": "2024-01-30T18:19:56.790475",
     "status": "completed"
    },
    "tags": []
   },
   "outputs": [
    {
     "data": {
      "text/plain": [
       "datetime                                  0\n",
       "target                                    0\n",
       "is_consumption                            0\n",
       "row_id                                    0\n",
       "prediction_unit_id                        0\n",
       "seasonality                               0\n",
       "datetime_day                              0\n",
       "holiday                                   0\n",
       "week_of_year                              0\n",
       "day_of_week                               0\n",
       "day_of_year                               0\n",
       "hour_of_day                               0\n",
       "month                                     0\n",
       "county                                    0\n",
       "is_business                               0\n",
       "product_type                              0\n",
       "med_st_county                             0\n",
       "med_st_business                           0\n",
       "med_st_product_type                       0\n",
       "st_target                                 0\n",
       "residuals                                 0\n",
       "eic_count                                 0\n",
       "installed_capacity                        0\n",
       "lowest_price_per_mwh                      0\n",
       "highest_price_per_mwh                     0\n",
       "euros_per_mwh                             0\n",
       "temperature_min                           0\n",
       "temperature_mean                          0\n",
       "temperature_max                           0\n",
       "dewpoint_mean                             0\n",
       "10_metre_u_wind_component_mean            0\n",
       "direct_solar_radiation_mean               0\n",
       "direct_solar_radiation_max                0\n",
       "surface_solar_radiation_downwards_mean    0\n",
       "surface_solar_radiation_downwards_max     0\n",
       "ssrd_mean*temp_mean                       0\n",
       "ssrd_mean*temp_max                        0\n",
       "ssrd_mean*hod                             0\n",
       "ssrd_mean*eic                             0\n",
       "ssrd_max*eic                              0\n",
       "ssrd_mean*capacity                        0\n",
       "ssrd_max*capacity                         0\n",
       "ssrd_mean*dsr_mean                        0\n",
       "ssrd_max*dsr_mean                         0\n",
       "temp_max*hod                              0\n",
       "temp_max*dsr_max                          0\n",
       "temp_min*capacity                         0\n",
       "dsr_mean*dsr_max                          0\n",
       "capacity*business                         0\n",
       "capacity*eic                              0\n",
       "holiday*eic                               0\n",
       "log10_capacity                            0\n",
       "log10_eic                                 0\n",
       "sqr_eic                                   0\n",
       "dtype: int64"
      ]
     },
     "execution_count": 35,
     "metadata": {},
     "output_type": "execute_result"
    }
   ],
   "source": [
    "df_train_prod.isnull().sum()"
   ]
  },
  {
   "cell_type": "markdown",
   "id": "c1a371da",
   "metadata": {
    "papermill": {
     "duration": 0.021905,
     "end_time": "2024-01-30T18:19:56.930778",
     "exception": false,
     "start_time": "2024-01-30T18:19:56.908873",
     "status": "completed"
    },
    "tags": []
   },
   "source": [
    "# Train & Fit Model"
   ]
  },
  {
   "cell_type": "markdown",
   "id": "f36d8056",
   "metadata": {
    "papermill": {
     "duration": 0.02111,
     "end_time": "2024-01-30T18:19:56.973539",
     "exception": false,
     "start_time": "2024-01-30T18:19:56.952429",
     "status": "completed"
    },
    "tags": []
   },
   "source": [
    "Stratify per month before train, in order to have the closest 'target' distribution on each set<br> *(train, test, validate. For CONSO & PROD)*.<br>\n",
    "We also focus the training on months to forecast"
   ]
  },
  {
   "cell_type": "code",
   "execution_count": 36,
   "id": "0d69bf0d",
   "metadata": {
    "execution": {
     "iopub.execute_input": "2024-01-30T18:19:57.019601Z",
     "iopub.status.busy": "2024-01-30T18:19:57.018852Z",
     "iopub.status.idle": "2024-01-30T18:19:57.023427Z",
     "shell.execute_reply": "2024-01-30T18:19:57.022567Z"
    },
    "papermill": {
     "duration": 0.030539,
     "end_time": "2024-01-30T18:19:57.025639",
     "exception": false,
     "start_time": "2024-01-30T18:19:56.995100",
     "status": "completed"
    },
    "tags": []
   },
   "outputs": [],
   "source": [
    "'''#Code when month selection\n",
    "df_spring_conso = df_train_conso.loc[df_train_conso['month'].isin(list(range(1,5)) + list(range(9,13)))].copy()\n",
    "df_spring_prod = df_train_prod.loc[df_train_prod['month'].isin(list(range(1,5)) + list(range(9,13)))].copy()'''\n",
    "\n",
    "df_spring_conso = df_train_conso\n",
    "df_spring_prod = df_train_prod"
   ]
  },
  {
   "cell_type": "code",
   "execution_count": 37,
   "id": "47612b7d",
   "metadata": {
    "execution": {
     "iopub.execute_input": "2024-01-30T18:19:57.070882Z",
     "iopub.status.busy": "2024-01-30T18:19:57.070470Z",
     "iopub.status.idle": "2024-01-30T18:19:59.904825Z",
     "shell.execute_reply": "2024-01-30T18:19:59.903760Z"
    },
    "papermill": {
     "duration": 2.859899,
     "end_time": "2024-01-30T18:19:59.907572",
     "exception": false,
     "start_time": "2024-01-30T18:19:57.047673",
     "status": "completed"
    },
    "tags": []
   },
   "outputs": [],
   "source": [
    "# 70/20/10 en conservant la même ratio de mois pour chaque.\n",
    "# target a trop de valeurs uniques, datetime_day serait trop fin, woy bizarre sur semaine 35\n",
    "\n",
    "X_train_conso, test_validate_conso = train_test_split(df_spring_conso, test_size=0.3, random_state=1334, stratify=df_spring_conso['month'])\n",
    "X_test_conso, X_validate_conso = train_test_split(test_validate_conso, test_size=0.33, random_state=1334, stratify=test_validate_conso['month'])\n",
    "\n",
    "X_train_prod, test_validate_prod = train_test_split(df_spring_prod, test_size=0.3, random_state=1334, stratify=df_spring_prod['month'])\n",
    "X_test_prod, X_validate_prod = train_test_split(test_validate_prod, test_size=0.33, random_state=1334, stratify=test_validate_prod['month'])"
   ]
  },
  {
   "cell_type": "code",
   "execution_count": 38,
   "id": "929799d0",
   "metadata": {
    "execution": {
     "iopub.execute_input": "2024-01-30T18:19:59.953549Z",
     "iopub.status.busy": "2024-01-30T18:19:59.953164Z",
     "iopub.status.idle": "2024-01-30T18:20:00.281111Z",
     "shell.execute_reply": "2024-01-30T18:20:00.279978Z"
    },
    "papermill": {
     "duration": 0.354372,
     "end_time": "2024-01-30T18:20:00.283941",
     "exception": false,
     "start_time": "2024-01-30T18:19:59.929569",
     "status": "completed"
    },
    "tags": []
   },
   "outputs": [],
   "source": [
    "# extract y_train, y_test conso\n",
    "\n",
    "y_train_conso = X_train_conso['residuals']\n",
    "y_test_conso = X_test_conso['residuals']\n",
    "y_validate_conso = X_validate_conso['residuals']\n",
    "\n",
    "X_train_conso = X_train_conso.drop(columns=['datetime','row_id','is_consumption','datetime_day','target','prediction_unit_id','seasonality','med_st_county','med_st_business','med_st_product_type','st_target','residuals'])\n",
    "X_test_conso = X_test_conso.drop(columns=['datetime','row_id','is_consumption','datetime_day','target','prediction_unit_id','seasonality','med_st_county','med_st_business','med_st_product_type','st_target','residuals'])\n",
    "X_validate_conso = X_validate_conso.drop(columns=['datetime','row_id','is_consumption','datetime_day','target','prediction_unit_id','seasonality','med_st_county','med_st_business','med_st_product_type','st_target','residuals'])\n",
    "\n",
    "# & prod\n",
    "y_train_prod = X_train_prod['residuals']\n",
    "y_test_prod = X_test_prod['residuals']\n",
    "y_validate_prod = X_validate_prod['residuals']\n",
    "\n",
    "X_train_prod = X_train_prod.drop(columns=['datetime','row_id','is_consumption','datetime_day','target','prediction_unit_id','seasonality','med_st_county','med_st_business','med_st_product_type','st_target','residuals'])\n",
    "X_test_prod = X_test_prod.drop(columns=['datetime','row_id','is_consumption','datetime_day','target','prediction_unit_id','seasonality','med_st_county','med_st_business','med_st_product_type','st_target','residuals'])\n",
    "X_validate_prod = X_validate_prod.drop(columns=['datetime','row_id','is_consumption','datetime_day','target','prediction_unit_id','seasonality','med_st_county','med_st_business','med_st_product_type','st_target','residuals'])"
   ]
  },
  {
   "cell_type": "code",
   "execution_count": 39,
   "id": "5ec5274c",
   "metadata": {
    "execution": {
     "iopub.execute_input": "2024-01-30T18:20:00.329066Z",
     "iopub.status.busy": "2024-01-30T18:20:00.328566Z",
     "iopub.status.idle": "2024-01-30T18:20:00.905402Z",
     "shell.execute_reply": "2024-01-30T18:20:00.904210Z"
    },
    "papermill": {
     "duration": 0.602745,
     "end_time": "2024-01-30T18:20:00.908328",
     "exception": false,
     "start_time": "2024-01-30T18:20:00.305583",
     "status": "completed"
    },
    "tags": []
   },
   "outputs": [
    {
     "name": "stdout",
     "output_type": "stream",
     "text": [
      "p-value conso train/test is 0.8772\n",
      "p-value conso train/validate is 0.2435\n",
      "p-value conso test/validate is 0.5661\n",
      "=============================================\n",
      "p-value prod train/test is 0.2138\n",
      "p-value prod train/validate is 0.6364\n",
      "p-value prod test/validate is 0.6787\n"
     ]
    }
   ],
   "source": [
    "# Compare the distributions of the target columns\n",
    "statistic, pvalue = stats.ks_2samp(y_train_conso, y_test_conso)\n",
    "print(f\"p-value conso train/test is {pvalue:.4f}\")\n",
    "statistic, pvalue = stats.ks_2samp(y_train_conso, y_validate_conso)\n",
    "print(f\"p-value conso train/validate is {pvalue:.4f}\")\n",
    "statistic, pvalue = stats.ks_2samp(y_test_conso, y_validate_conso)\n",
    "print(f\"p-value conso test/validate is {pvalue:.4f}\")\n",
    "\n",
    "print(\"=============================================\")\n",
    "\n",
    "statistic, pvalue = stats.ks_2samp(y_train_prod, y_test_prod)\n",
    "print(f\"p-value prod train/test is {pvalue:.4f}\")\n",
    "statistic, pvalue = stats.ks_2samp(y_train_prod, y_validate_prod)\n",
    "print(f\"p-value prod train/validate is {pvalue:.4f}\")\n",
    "statistic, pvalue = stats.ks_2samp(y_test_prod, y_validate_prod)\n",
    "print(f\"p-value prod test/validate is {pvalue:.4f}\")\n"
   ]
  },
  {
   "cell_type": "markdown",
   "id": "d2a75393",
   "metadata": {
    "papermill": {
     "duration": 0.021544,
     "end_time": "2024-01-30T18:20:00.952137",
     "exception": false,
     "start_time": "2024-01-30T18:20:00.930593",
     "status": "completed"
    },
    "tags": []
   },
   "source": [
    "#### MAE pour conso"
   ]
  },
  {
   "cell_type": "markdown",
   "id": "f19eddab",
   "metadata": {
    "execution": {
     "iopub.execute_input": "2024-01-30T13:33:44.817947Z",
     "iopub.status.busy": "2024-01-30T13:33:44.817478Z",
     "iopub.status.idle": "2024-01-30T13:33:44.825720Z",
     "shell.execute_reply": "2024-01-30T13:33:44.824424Z",
     "shell.execute_reply.started": "2024-01-30T13:33:44.817906Z"
    },
    "papermill": {
     "duration": 0.021317,
     "end_time": "2024-01-30T18:20:00.995095",
     "exception": false,
     "start_time": "2024-01-30T18:20:00.973778",
     "status": "completed"
    },
    "tags": []
   },
   "source": [
    "clf_conso = LGBMRegressor(\n",
    "                    boosting_type='gbdt',\n",
    "                    num_leaves=500,\n",
    "                    max_depth=20,\n",
    "                    learning_rate=0.407758307054,\n",
    "                    n_estimators=301,\n",
    "                    subsample_for_bin=200000,\n",
    "                    min_split_gain=1.0,\n",
    "                    min_child_weight=0.001,\n",
    "                    min_child_samples=1,\n",
    "                    subsample=0.9,\n",
    "                    subsample_freq=1,\n",
    "                    colsample_bytree=1.0,\n",
    "                    reg_alpha=0.637303362873,\n",
    "                    reg_lambda=1.0,\n",
    "                    random_state=1337\n",
    "                  )"
   ]
  },
  {
   "cell_type": "code",
   "execution_count": 40,
   "id": "d338a2cc",
   "metadata": {
    "execution": {
     "iopub.execute_input": "2024-01-30T18:20:01.042159Z",
     "iopub.status.busy": "2024-01-30T18:20:01.041714Z",
     "iopub.status.idle": "2024-01-30T18:20:01.048725Z",
     "shell.execute_reply": "2024-01-30T18:20:01.047405Z"
    },
    "papermill": {
     "duration": 0.034359,
     "end_time": "2024-01-30T18:20:01.051196",
     "exception": false,
     "start_time": "2024-01-30T18:20:01.016837",
     "status": "completed"
    },
    "tags": []
   },
   "outputs": [],
   "source": [
    "clf_conso = xgb.XGBRegressor(\n",
    "                    max_depth=13,\n",
    "                    learning_rate=0.20000817,\n",
    "                    gamma=0.37044242,\n",
    "                    min_child_weight=2.433325,\n",
    "                    max_delta_step=0.0,\n",
    "                    subsample=0.7390808,\n",
    "                    colsample_bytree=0.95659643,\n",
    "                    colsample_bylevel=0.50240487,\n",
    "                    reg_alpha=0.9693489,\n",
    "                    reg_lambda=1.0,\n",
    "                    n_estimators=300,\n",
    "                    silent=0,\n",
    "                    nthread=4,\n",
    "                    scale_pos_weight=1.0,\n",
    "                    base_score=0.5,\n",
    "                    seed=1337\n",
    ")"
   ]
  },
  {
   "cell_type": "code",
   "execution_count": 41,
   "id": "f141a568",
   "metadata": {
    "execution": {
     "iopub.execute_input": "2024-01-30T18:20:01.096591Z",
     "iopub.status.busy": "2024-01-30T18:20:01.096162Z",
     "iopub.status.idle": "2024-01-30T18:21:01.175274Z",
     "shell.execute_reply": "2024-01-30T18:21:01.174003Z"
    },
    "papermill": {
     "duration": 60.127072,
     "end_time": "2024-01-30T18:21:01.199747",
     "exception": false,
     "start_time": "2024-01-30T18:20:01.072675",
     "status": "completed"
    },
    "tags": []
   },
   "outputs": [
    {
     "name": "stdout",
     "output_type": "stream",
     "text": [
      "CPU times: user 3min 51s, sys: 811 ms, total: 3min 52s\n",
      "Wall time: 1min\n"
     ]
    },
    {
     "data": {
      "text/html": [
       "<style>#sk-container-id-1 {color: black;background-color: white;}#sk-container-id-1 pre{padding: 0;}#sk-container-id-1 div.sk-toggleable {background-color: white;}#sk-container-id-1 label.sk-toggleable__label {cursor: pointer;display: block;width: 100%;margin-bottom: 0;padding: 0.3em;box-sizing: border-box;text-align: center;}#sk-container-id-1 label.sk-toggleable__label-arrow:before {content: \"▸\";float: left;margin-right: 0.25em;color: #696969;}#sk-container-id-1 label.sk-toggleable__label-arrow:hover:before {color: black;}#sk-container-id-1 div.sk-estimator:hover label.sk-toggleable__label-arrow:before {color: black;}#sk-container-id-1 div.sk-toggleable__content {max-height: 0;max-width: 0;overflow: hidden;text-align: left;background-color: #f0f8ff;}#sk-container-id-1 div.sk-toggleable__content pre {margin: 0.2em;color: black;border-radius: 0.25em;background-color: #f0f8ff;}#sk-container-id-1 input.sk-toggleable__control:checked~div.sk-toggleable__content {max-height: 200px;max-width: 100%;overflow: auto;}#sk-container-id-1 input.sk-toggleable__control:checked~label.sk-toggleable__label-arrow:before {content: \"▾\";}#sk-container-id-1 div.sk-estimator input.sk-toggleable__control:checked~label.sk-toggleable__label {background-color: #d4ebff;}#sk-container-id-1 div.sk-label input.sk-toggleable__control:checked~label.sk-toggleable__label {background-color: #d4ebff;}#sk-container-id-1 input.sk-hidden--visually {border: 0;clip: rect(1px 1px 1px 1px);clip: rect(1px, 1px, 1px, 1px);height: 1px;margin: -1px;overflow: hidden;padding: 0;position: absolute;width: 1px;}#sk-container-id-1 div.sk-estimator {font-family: monospace;background-color: #f0f8ff;border: 1px dotted black;border-radius: 0.25em;box-sizing: border-box;margin-bottom: 0.5em;}#sk-container-id-1 div.sk-estimator:hover {background-color: #d4ebff;}#sk-container-id-1 div.sk-parallel-item::after {content: \"\";width: 100%;border-bottom: 1px solid gray;flex-grow: 1;}#sk-container-id-1 div.sk-label:hover label.sk-toggleable__label {background-color: #d4ebff;}#sk-container-id-1 div.sk-serial::before {content: \"\";position: absolute;border-left: 1px solid gray;box-sizing: border-box;top: 0;bottom: 0;left: 50%;z-index: 0;}#sk-container-id-1 div.sk-serial {display: flex;flex-direction: column;align-items: center;background-color: white;padding-right: 0.2em;padding-left: 0.2em;position: relative;}#sk-container-id-1 div.sk-item {position: relative;z-index: 1;}#sk-container-id-1 div.sk-parallel {display: flex;align-items: stretch;justify-content: center;background-color: white;position: relative;}#sk-container-id-1 div.sk-item::before, #sk-container-id-1 div.sk-parallel-item::before {content: \"\";position: absolute;border-left: 1px solid gray;box-sizing: border-box;top: 0;bottom: 0;left: 50%;z-index: -1;}#sk-container-id-1 div.sk-parallel-item {display: flex;flex-direction: column;z-index: 1;position: relative;background-color: white;}#sk-container-id-1 div.sk-parallel-item:first-child::after {align-self: flex-end;width: 50%;}#sk-container-id-1 div.sk-parallel-item:last-child::after {align-self: flex-start;width: 50%;}#sk-container-id-1 div.sk-parallel-item:only-child::after {width: 0;}#sk-container-id-1 div.sk-dashed-wrapped {border: 1px dashed gray;margin: 0 0.4em 0.5em 0.4em;box-sizing: border-box;padding-bottom: 0.4em;background-color: white;}#sk-container-id-1 div.sk-label label {font-family: monospace;font-weight: bold;display: inline-block;line-height: 1.2em;}#sk-container-id-1 div.sk-label-container {text-align: center;}#sk-container-id-1 div.sk-container {/* jupyter's `normalize.less` sets `[hidden] { display: none; }` but bootstrap.min.css set `[hidden] { display: none !important; }` so we also need the `!important` here to be able to override the default hidden behavior on the sphinx rendered scikit-learn.org. See: https://github.com/scikit-learn/scikit-learn/issues/21755 */display: inline-block !important;position: relative;}#sk-container-id-1 div.sk-text-repr-fallback {display: none;}</style><div id=\"sk-container-id-1\" class=\"sk-top-container\"><div class=\"sk-text-repr-fallback\"><pre>XGBRegressor(base_score=0.5, booster=None, callbacks=None,\n",
       "             colsample_bylevel=0.50240487, colsample_bynode=None,\n",
       "             colsample_bytree=0.95659643, device=None,\n",
       "             early_stopping_rounds=None, enable_categorical=False,\n",
       "             eval_metric=None, feature_types=None, gamma=0.37044242,\n",
       "             grow_policy=None, importance_type=None,\n",
       "             interaction_constraints=None, learning_rate=0.20000817,\n",
       "             max_bin=None, max_cat_threshold=None, max_cat_to_onehot=None,\n",
       "             max_delta_step=0.0, max_depth=13, max_leaves=None,\n",
       "             min_child_weight=2.433325, missing=nan, monotone_constraints=None,\n",
       "             multi_strategy=None, n_estimators=300, n_jobs=None, nthread=4,\n",
       "             num_parallel_tree=None, ...)</pre><b>In a Jupyter environment, please rerun this cell to show the HTML representation or trust the notebook. <br />On GitHub, the HTML representation is unable to render, please try loading this page with nbviewer.org.</b></div><div class=\"sk-container\" hidden><div class=\"sk-item\"><div class=\"sk-estimator sk-toggleable\"><input class=\"sk-toggleable__control sk-hidden--visually\" id=\"sk-estimator-id-1\" type=\"checkbox\" checked><label for=\"sk-estimator-id-1\" class=\"sk-toggleable__label sk-toggleable__label-arrow\">XGBRegressor</label><div class=\"sk-toggleable__content\"><pre>XGBRegressor(base_score=0.5, booster=None, callbacks=None,\n",
       "             colsample_bylevel=0.50240487, colsample_bynode=None,\n",
       "             colsample_bytree=0.95659643, device=None,\n",
       "             early_stopping_rounds=None, enable_categorical=False,\n",
       "             eval_metric=None, feature_types=None, gamma=0.37044242,\n",
       "             grow_policy=None, importance_type=None,\n",
       "             interaction_constraints=None, learning_rate=0.20000817,\n",
       "             max_bin=None, max_cat_threshold=None, max_cat_to_onehot=None,\n",
       "             max_delta_step=0.0, max_depth=13, max_leaves=None,\n",
       "             min_child_weight=2.433325, missing=nan, monotone_constraints=None,\n",
       "             multi_strategy=None, n_estimators=300, n_jobs=None, nthread=4,\n",
       "             num_parallel_tree=None, ...)</pre></div></div></div></div></div>"
      ],
      "text/plain": [
       "XGBRegressor(base_score=0.5, booster=None, callbacks=None,\n",
       "             colsample_bylevel=0.50240487, colsample_bynode=None,\n",
       "             colsample_bytree=0.95659643, device=None,\n",
       "             early_stopping_rounds=None, enable_categorical=False,\n",
       "             eval_metric=None, feature_types=None, gamma=0.37044242,\n",
       "             grow_policy=None, importance_type=None,\n",
       "             interaction_constraints=None, learning_rate=0.20000817,\n",
       "             max_bin=None, max_cat_threshold=None, max_cat_to_onehot=None,\n",
       "             max_delta_step=0.0, max_depth=13, max_leaves=None,\n",
       "             min_child_weight=2.433325, missing=nan, monotone_constraints=None,\n",
       "             multi_strategy=None, n_estimators=300, n_jobs=None, nthread=4,\n",
       "             num_parallel_tree=None, ...)"
      ]
     },
     "execution_count": 41,
     "metadata": {},
     "output_type": "execute_result"
    }
   ],
   "source": [
    "%time clf_conso.fit(X_train_conso, y_train_conso)"
   ]
  },
  {
   "cell_type": "code",
   "execution_count": 42,
   "id": "ab2f1142",
   "metadata": {
    "execution": {
     "iopub.execute_input": "2024-01-30T18:21:01.245836Z",
     "iopub.status.busy": "2024-01-30T18:21:01.245408Z",
     "iopub.status.idle": "2024-01-30T18:21:03.833732Z",
     "shell.execute_reply": "2024-01-30T18:21:03.832792Z"
    },
    "papermill": {
     "duration": 2.615167,
     "end_time": "2024-01-30T18:21:03.837057",
     "exception": false,
     "start_time": "2024-01-30T18:21:01.221890",
     "status": "completed"
    },
    "tags": []
   },
   "outputs": [
    {
     "name": "stdout",
     "output_type": "stream",
     "text": [
      "CPU times: user 10 s, sys: 7.08 ms, total: 10 s\n",
      "Wall time: 2.58 s\n"
     ]
    }
   ],
   "source": [
    "%time _predictions_conso = clf_conso.predict(X_test_conso)\n",
    "predictions_conso = pd.Series(data=_predictions_conso, index=X_test_conso.index, name='predicted')"
   ]
  },
  {
   "cell_type": "code",
   "execution_count": 43,
   "id": "f46fe554",
   "metadata": {
    "execution": {
     "iopub.execute_input": "2024-01-30T18:21:03.884740Z",
     "iopub.status.busy": "2024-01-30T18:21:03.884306Z",
     "iopub.status.idle": "2024-01-30T18:21:05.139318Z",
     "shell.execute_reply": "2024-01-30T18:21:05.138411Z"
    },
    "papermill": {
     "duration": 1.281628,
     "end_time": "2024-01-30T18:21:05.142468",
     "exception": false,
     "start_time": "2024-01-30T18:21:03.860840",
     "status": "completed"
    },
    "tags": []
   },
   "outputs": [
    {
     "name": "stdout",
     "output_type": "stream",
     "text": [
      "CPU times: user 4.85 s, sys: 1.71 ms, total: 4.85 s\n",
      "Wall time: 1.25 s\n"
     ]
    }
   ],
   "source": [
    "%time _validate_conso = clf_conso.predict(X_validate_conso)\n",
    "validate_conso = pd.Series(data=_validate_conso, index=X_validate_conso.index, name='validation')"
   ]
  },
  {
   "cell_type": "code",
   "execution_count": 44,
   "id": "25e7991c",
   "metadata": {
    "execution": {
     "iopub.execute_input": "2024-01-30T18:21:05.190957Z",
     "iopub.status.busy": "2024-01-30T18:21:05.190531Z",
     "iopub.status.idle": "2024-01-30T18:21:05.200975Z",
     "shell.execute_reply": "2024-01-30T18:21:05.199549Z"
    },
    "papermill": {
     "duration": 0.036968,
     "end_time": "2024-01-30T18:21:05.203718",
     "exception": false,
     "start_time": "2024-01-30T18:21:05.166750",
     "status": "completed"
    },
    "tags": []
   },
   "outputs": [
    {
     "name": "stdout",
     "output_type": "stream",
     "text": [
      "MAE Test :  32.274455706549844\n",
      "MAE validate :  32.468676938081416\n"
     ]
    }
   ],
   "source": [
    "mae_conso = mean_absolute_error(y_test_conso, predictions_conso)\n",
    "print(\"MAE Test : \",mae_conso)\n",
    "mae_validate = mean_absolute_error(y_validate_conso, validate_conso)\n",
    "print(\"MAE validate : \",mae_validate)"
   ]
  },
  {
   "cell_type": "markdown",
   "id": "b5ab5961",
   "metadata": {
    "papermill": {
     "duration": 0.0239,
     "end_time": "2024-01-30T18:21:05.251281",
     "exception": false,
     "start_time": "2024-01-30T18:21:05.227381",
     "status": "completed"
    },
    "tags": []
   },
   "source": [
    "#### MAE pour prod"
   ]
  },
  {
   "cell_type": "code",
   "execution_count": 45,
   "id": "64fc3ed2",
   "metadata": {
    "execution": {
     "iopub.execute_input": "2024-01-30T18:21:05.300190Z",
     "iopub.status.busy": "2024-01-30T18:21:05.299765Z",
     "iopub.status.idle": "2024-01-30T18:21:05.306701Z",
     "shell.execute_reply": "2024-01-30T18:21:05.305521Z"
    },
    "papermill": {
     "duration": 0.033781,
     "end_time": "2024-01-30T18:21:05.309163",
     "exception": false,
     "start_time": "2024-01-30T18:21:05.275382",
     "status": "completed"
    },
    "tags": []
   },
   "outputs": [],
   "source": [
    "clf_prod = LGBMRegressor(\n",
    "                    boosting_type='gbdt',\n",
    "                    num_leaves=500,\n",
    "                    max_depth=20,\n",
    "                    learning_rate=0.155242982923,\n",
    "                    n_estimators=301,\n",
    "                    subsample_for_bin=200000,\n",
    "                    min_split_gain=0.0,\n",
    "                    min_child_weight=0.001,\n",
    "                    min_child_samples=1,\n",
    "                    subsample=0.9,\n",
    "                    subsample_freq=1,\n",
    "                    colsample_bytree=1.0,\n",
    "                    reg_alpha=0.0,\n",
    "                    reg_lambda=1.0,\n",
    "                    random_state=1337\n",
    ")"
   ]
  },
  {
   "cell_type": "code",
   "execution_count": 46,
   "id": "b832bd4e",
   "metadata": {
    "execution": {
     "iopub.execute_input": "2024-01-30T18:21:05.356267Z",
     "iopub.status.busy": "2024-01-30T18:21:05.355872Z",
     "iopub.status.idle": "2024-01-30T18:22:27.436952Z",
     "shell.execute_reply": "2024-01-30T18:22:27.435741Z"
    },
    "papermill": {
     "duration": 82.130133,
     "end_time": "2024-01-30T18:22:27.462024",
     "exception": false,
     "start_time": "2024-01-30T18:21:05.331891",
     "status": "completed"
    },
    "tags": []
   },
   "outputs": [
    {
     "name": "stdout",
     "output_type": "stream",
     "text": [
      "CPU times: user 3min 2s, sys: 23.5 s, total: 3min 25s\n",
      "Wall time: 1min 22s\n"
     ]
    },
    {
     "data": {
      "text/html": [
       "<style>#sk-container-id-2 {color: black;background-color: white;}#sk-container-id-2 pre{padding: 0;}#sk-container-id-2 div.sk-toggleable {background-color: white;}#sk-container-id-2 label.sk-toggleable__label {cursor: pointer;display: block;width: 100%;margin-bottom: 0;padding: 0.3em;box-sizing: border-box;text-align: center;}#sk-container-id-2 label.sk-toggleable__label-arrow:before {content: \"▸\";float: left;margin-right: 0.25em;color: #696969;}#sk-container-id-2 label.sk-toggleable__label-arrow:hover:before {color: black;}#sk-container-id-2 div.sk-estimator:hover label.sk-toggleable__label-arrow:before {color: black;}#sk-container-id-2 div.sk-toggleable__content {max-height: 0;max-width: 0;overflow: hidden;text-align: left;background-color: #f0f8ff;}#sk-container-id-2 div.sk-toggleable__content pre {margin: 0.2em;color: black;border-radius: 0.25em;background-color: #f0f8ff;}#sk-container-id-2 input.sk-toggleable__control:checked~div.sk-toggleable__content {max-height: 200px;max-width: 100%;overflow: auto;}#sk-container-id-2 input.sk-toggleable__control:checked~label.sk-toggleable__label-arrow:before {content: \"▾\";}#sk-container-id-2 div.sk-estimator input.sk-toggleable__control:checked~label.sk-toggleable__label {background-color: #d4ebff;}#sk-container-id-2 div.sk-label input.sk-toggleable__control:checked~label.sk-toggleable__label {background-color: #d4ebff;}#sk-container-id-2 input.sk-hidden--visually {border: 0;clip: rect(1px 1px 1px 1px);clip: rect(1px, 1px, 1px, 1px);height: 1px;margin: -1px;overflow: hidden;padding: 0;position: absolute;width: 1px;}#sk-container-id-2 div.sk-estimator {font-family: monospace;background-color: #f0f8ff;border: 1px dotted black;border-radius: 0.25em;box-sizing: border-box;margin-bottom: 0.5em;}#sk-container-id-2 div.sk-estimator:hover {background-color: #d4ebff;}#sk-container-id-2 div.sk-parallel-item::after {content: \"\";width: 100%;border-bottom: 1px solid gray;flex-grow: 1;}#sk-container-id-2 div.sk-label:hover label.sk-toggleable__label {background-color: #d4ebff;}#sk-container-id-2 div.sk-serial::before {content: \"\";position: absolute;border-left: 1px solid gray;box-sizing: border-box;top: 0;bottom: 0;left: 50%;z-index: 0;}#sk-container-id-2 div.sk-serial {display: flex;flex-direction: column;align-items: center;background-color: white;padding-right: 0.2em;padding-left: 0.2em;position: relative;}#sk-container-id-2 div.sk-item {position: relative;z-index: 1;}#sk-container-id-2 div.sk-parallel {display: flex;align-items: stretch;justify-content: center;background-color: white;position: relative;}#sk-container-id-2 div.sk-item::before, #sk-container-id-2 div.sk-parallel-item::before {content: \"\";position: absolute;border-left: 1px solid gray;box-sizing: border-box;top: 0;bottom: 0;left: 50%;z-index: -1;}#sk-container-id-2 div.sk-parallel-item {display: flex;flex-direction: column;z-index: 1;position: relative;background-color: white;}#sk-container-id-2 div.sk-parallel-item:first-child::after {align-self: flex-end;width: 50%;}#sk-container-id-2 div.sk-parallel-item:last-child::after {align-self: flex-start;width: 50%;}#sk-container-id-2 div.sk-parallel-item:only-child::after {width: 0;}#sk-container-id-2 div.sk-dashed-wrapped {border: 1px dashed gray;margin: 0 0.4em 0.5em 0.4em;box-sizing: border-box;padding-bottom: 0.4em;background-color: white;}#sk-container-id-2 div.sk-label label {font-family: monospace;font-weight: bold;display: inline-block;line-height: 1.2em;}#sk-container-id-2 div.sk-label-container {text-align: center;}#sk-container-id-2 div.sk-container {/* jupyter's `normalize.less` sets `[hidden] { display: none; }` but bootstrap.min.css set `[hidden] { display: none !important; }` so we also need the `!important` here to be able to override the default hidden behavior on the sphinx rendered scikit-learn.org. See: https://github.com/scikit-learn/scikit-learn/issues/21755 */display: inline-block !important;position: relative;}#sk-container-id-2 div.sk-text-repr-fallback {display: none;}</style><div id=\"sk-container-id-2\" class=\"sk-top-container\"><div class=\"sk-text-repr-fallback\"><pre>LGBMRegressor(learning_rate=0.155242982923, max_depth=20, min_child_samples=1,\n",
       "              n_estimators=301, num_leaves=500, random_state=1337,\n",
       "              reg_lambda=1.0, subsample=0.9, subsample_freq=1)</pre><b>In a Jupyter environment, please rerun this cell to show the HTML representation or trust the notebook. <br />On GitHub, the HTML representation is unable to render, please try loading this page with nbviewer.org.</b></div><div class=\"sk-container\" hidden><div class=\"sk-item\"><div class=\"sk-estimator sk-toggleable\"><input class=\"sk-toggleable__control sk-hidden--visually\" id=\"sk-estimator-id-2\" type=\"checkbox\" checked><label for=\"sk-estimator-id-2\" class=\"sk-toggleable__label sk-toggleable__label-arrow\">LGBMRegressor</label><div class=\"sk-toggleable__content\"><pre>LGBMRegressor(learning_rate=0.155242982923, max_depth=20, min_child_samples=1,\n",
       "              n_estimators=301, num_leaves=500, random_state=1337,\n",
       "              reg_lambda=1.0, subsample=0.9, subsample_freq=1)</pre></div></div></div></div></div>"
      ],
      "text/plain": [
       "LGBMRegressor(learning_rate=0.155242982923, max_depth=20, min_child_samples=1,\n",
       "              n_estimators=301, num_leaves=500, random_state=1337,\n",
       "              reg_lambda=1.0, subsample=0.9, subsample_freq=1)"
      ]
     },
     "execution_count": 46,
     "metadata": {},
     "output_type": "execute_result"
    }
   ],
   "source": [
    "%time clf_prod.fit(X_train_prod, y_train_prod)"
   ]
  },
  {
   "cell_type": "code",
   "execution_count": 47,
   "id": "00deb4b3",
   "metadata": {
    "execution": {
     "iopub.execute_input": "2024-01-30T18:22:27.512889Z",
     "iopub.status.busy": "2024-01-30T18:22:27.512413Z",
     "iopub.status.idle": "2024-01-30T18:22:29.861393Z",
     "shell.execute_reply": "2024-01-30T18:22:29.859971Z"
    },
    "papermill": {
     "duration": 2.377765,
     "end_time": "2024-01-30T18:22:29.864093",
     "exception": false,
     "start_time": "2024-01-30T18:22:27.486328",
     "status": "completed"
    },
    "tags": []
   },
   "outputs": [
    {
     "name": "stdout",
     "output_type": "stream",
     "text": [
      "CPU times: user 8.95 s, sys: 28.6 ms, total: 8.98 s\n",
      "Wall time: 2.34 s\n"
     ]
    }
   ],
   "source": [
    "%time _predictions_prod = clf_prod.predict(X_test_prod)\n",
    "predictions_prod = pd.Series(data=_predictions_prod, index=X_test_prod.index, name='predicted')"
   ]
  },
  {
   "cell_type": "code",
   "execution_count": 48,
   "id": "457be387",
   "metadata": {
    "execution": {
     "iopub.execute_input": "2024-01-30T18:22:29.913181Z",
     "iopub.status.busy": "2024-01-30T18:22:29.912378Z",
     "iopub.status.idle": "2024-01-30T18:22:31.077533Z",
     "shell.execute_reply": "2024-01-30T18:22:31.076615Z"
    },
    "papermill": {
     "duration": 1.192237,
     "end_time": "2024-01-30T18:22:31.079906",
     "exception": false,
     "start_time": "2024-01-30T18:22:29.887669",
     "status": "completed"
    },
    "tags": []
   },
   "outputs": [
    {
     "name": "stdout",
     "output_type": "stream",
     "text": [
      "CPU times: user 4.45 s, sys: 407 µs, total: 4.45 s\n",
      "Wall time: 1.16 s\n"
     ]
    }
   ],
   "source": [
    "%time _validate_prod = clf_prod.predict(X_validate_prod)\n",
    "validate_prod = pd.Series(data=_validate_prod, index=X_validate_prod.index, name='validation')"
   ]
  },
  {
   "cell_type": "code",
   "execution_count": 49,
   "id": "849a0ad4",
   "metadata": {
    "execution": {
     "iopub.execute_input": "2024-01-30T18:22:31.130029Z",
     "iopub.status.busy": "2024-01-30T18:22:31.129356Z",
     "iopub.status.idle": "2024-01-30T18:22:31.138367Z",
     "shell.execute_reply": "2024-01-30T18:22:31.137429Z"
    },
    "papermill": {
     "duration": 0.036199,
     "end_time": "2024-01-30T18:22:31.140794",
     "exception": false,
     "start_time": "2024-01-30T18:22:31.104595",
     "status": "completed"
    },
    "tags": []
   },
   "outputs": [
    {
     "name": "stdout",
     "output_type": "stream",
     "text": [
      "MAE test prod :  23.660280572827773\n",
      "MAE validate prod:  23.926945353787026\n"
     ]
    }
   ],
   "source": [
    "mae_prod = mean_absolute_error(y_test_prod, predictions_prod)\n",
    "print(\"MAE test prod : \",mae_prod)\n",
    "mae_validate_prod = mean_absolute_error(y_validate_prod, validate_prod)\n",
    "print(\"MAE validate prod: \",mae_validate_prod)"
   ]
  },
  {
   "cell_type": "markdown",
   "id": "37ef8a6a",
   "metadata": {
    "papermill": {
     "duration": 0.022812,
     "end_time": "2024-01-30T18:22:31.187649",
     "exception": false,
     "start_time": "2024-01-30T18:22:31.164837",
     "status": "completed"
    },
    "tags": []
   },
   "source": [
    "# Test set"
   ]
  },
  {
   "cell_type": "code",
   "execution_count": 50,
   "id": "ffb51c39",
   "metadata": {
    "execution": {
     "iopub.execute_input": "2024-01-30T18:22:31.236850Z",
     "iopub.status.busy": "2024-01-30T18:22:31.236088Z",
     "iopub.status.idle": "2024-01-30T18:22:31.277901Z",
     "shell.execute_reply": "2024-01-30T18:22:31.276976Z"
    },
    "papermill": {
     "duration": 0.069317,
     "end_time": "2024-01-30T18:22:31.280447",
     "exception": false,
     "start_time": "2024-01-30T18:22:31.211130",
     "status": "completed"
    },
    "tags": []
   },
   "outputs": [],
   "source": [
    "class run_ETL:\n",
    "    \n",
    "    def __init__(self, client, elec, gas, weather, main):\n",
    "        self.df_client = client\n",
    "        self.df_electricity = elec\n",
    "        self.df_gas = gas\n",
    "        self.df_weather = weather\n",
    "        self.df_test = main\n",
    "        \n",
    "    \n",
    "    def transform_measures(self):\n",
    "        \n",
    "        # ======================== WEATHER FORECAST ============================================\n",
    "        # Keeps only forecast for the next day\n",
    "        self.df_weather =  self.df_weather.loc[(self.df_weather.hours_ahead>=22) & (self.df_weather.hours_ahead<=45)]\n",
    "        # primary key\n",
    "        self.df_weather['cle_lat-long'] = self.df_weather.latitude.astype(str) + \"-\" + self.df_weather.longitude.astype(str)\n",
    "        # Join to add county to each lat-long key\n",
    "        self.df_forecast_w_per_county = pd.merge(self.df_weather, df_stations_county_mapping, on='cle_lat-long')\n",
    "\n",
    "        # Agg measures per county per hour\n",
    "        # as_index= False to preserve hourly measures\n",
    "        self.df_forecast_w_per_county = self.df_forecast_w_per_county.groupby(['forecast_datetime', 'county'], as_index=False)\\\n",
    "        .agg({'temperature': ['min', 'mean', 'max'],\\\n",
    "              'dewpoint': 'mean',\\\n",
    "              '10_metre_u_wind_component': 'mean',\\\n",
    "              'direct_solar_radiation': ['mean', 'max'],\\\n",
    "              'surface_solar_radiation_downwards' : ['mean', 'max']\n",
    "             })\n",
    "\n",
    "        # Flatten multi-level columns\n",
    "        self.df_forecast_w_per_county.columns = [\"_\".join(a) for a in self.df_forecast_w_per_county.columns.to_flat_index()]\n",
    "        self.df_forecast_w_per_county.rename(columns={'forecast_datetime_':'datetime','county_':'county'}, inplace=True)\n",
    "        self.df_forecast_w_per_county['county'] = self.df_forecast_w_per_county.county.astype(int)\n",
    "        self.df_forecast_w_per_county['datetime'] = pd.to_datetime(self.df_forecast_w_per_county['datetime'], format='%Y-%m-%d %H:%M:%S')\n",
    "        self.df_forecast_w_per_county['datetime'] = self.df_forecast_w_per_county['datetime'].dt.tz_localize('UTC')\n",
    "        \n",
    "        # ======================== CLIENT ============================================\n",
    "        self.df_client[\"date\"] = pd.to_datetime(self.df_client.date)\n",
    "        # Date where the measure is received, adjusted to prediction datetime\n",
    "        self.df_client[\"datetime_day\"] = (self.df_client[\"date\"] + timedelta(days=2)).dt.tz_localize('UTC')\n",
    "        self.df_client = self.df_client[['datetime_day','county','is_business','product_type','eic_count','installed_capacity']]\n",
    "        \n",
    "        # ======================== GAS  & ELEC ============================================\n",
    "        self.df_gas.rename(columns={'forecast_date':'datetime_day'}, inplace=True)\n",
    "        self.df_gas['datetime_day'] = pd.to_datetime(self.df_gas['datetime_day'])\n",
    "        self.df_gas['datetime_day'] = (self.df_gas['datetime_day'] + timedelta(days=1)).dt.tz_localize('UTC')\n",
    "        self.df_gas = self.df_gas[['datetime_day','lowest_price_per_mwh','highest_price_per_mwh']]\n",
    "        \n",
    "        self.df_electricity['datetime'] = pd.to_datetime(self.df_electricity['forecast_date'], format='%Y-%m-%d %H:%M:%S')\n",
    "        self.df_electricity['datetime'] = (self.df_electricity['datetime'] + timedelta(days=1)).dt.tz_localize('UTC')\n",
    "        self.df_electricity = self.df_electricity[['datetime','euros_per_mwh']]\n",
    "        \n",
    "    \n",
    "    def split_and_add_fourier_forecast(self):\n",
    "        \n",
    "        #self.df_test.rename(columns={'prediction_datetime':'datetime'}, inplace=True)\n",
    "        self.df_test['datetime'] = pd.to_datetime(self.df_test['prediction_datetime'], format='%Y-%m-%d %H:%M:%S')\n",
    "        self.df_test['datetime'] = self.df_test['datetime'].dt.tz_localize('UTC')\n",
    "        \n",
    "        self.df_conso_test = self.df_test[self.df_test.is_consumption==1].copy()\n",
    "        # Join aggregates columns\n",
    "        self.df_conso_test = pd.merge(self.df_conso_test, df_ref_conso[['datetime','county','med_st_county']].drop_duplicates(), on=['datetime','county'], how='left')\n",
    "        self.df_conso_test = pd.merge(self.df_conso_test, df_ref_conso[['datetime','is_business','med_st_business']].drop_duplicates(), on=['datetime','is_business'], how='left')\n",
    "        self.df_conso_test = pd.merge(self.df_conso_test, df_ref_conso[['datetime','product_type','med_st_product_type']].drop_duplicates(), on=['datetime','product_type'], how='left')\n",
    "        self.df_conso_test = pd.merge(self.df_conso_test, df_ref_conso[['datetime','datetime_day','holiday','week_of_year','day_of_week','day_of_year','hour_of_day','month']].drop_duplicates(), on=['datetime'], how='left')\n",
    "        # Compute seasonnalty + trend based on coefficients \n",
    "        self.df_conso_test['st_target'] = coeffs_conso[0]*self.df_conso_test.med_st_county + coeffs_conso[1]*self.df_conso_test.med_st_business + coeffs_conso[2]*self.df_conso_test.med_st_product_type\n",
    "\n",
    "        self.df_prod_test = self.df_test[self.df_test.is_consumption==0].copy()\n",
    "        self.df_prod_test = pd.merge(self.df_prod_test, df_ref_prod[['datetime','county','med_st_county']].drop_duplicates(), on=['datetime','county'], how='left')\n",
    "        self.df_prod_test = pd.merge(self.df_prod_test, df_ref_prod[['datetime','is_business','med_st_business']].drop_duplicates(), on=['datetime','is_business'], how='left')\n",
    "        self.df_prod_test = pd.merge(self.df_prod_test, df_ref_prod[['datetime','product_type','med_st_product_type']].drop_duplicates(), on=['datetime','product_type'], how='left')\n",
    "        self.df_prod_test = pd.merge(self.df_prod_test, df_ref_prod[['datetime','datetime_day','holiday','week_of_year','day_of_week','day_of_year','hour_of_day','month']].drop_duplicates(), on=['datetime'], how='left')\n",
    "        # Compute seasonnalty + trend based on coefficients \n",
    "        self.df_prod_test['st_target'] = coeffs_prod[0]*self.df_prod_test.med_st_county + coeffs_prod[1]*self.df_prod_test.med_st_business + coeffs_prod[2]*self.df_prod_test.med_st_product_type\n",
    "\n",
    "    \n",
    "    def unite_FE_and_interpolate(self):\n",
    "        \n",
    "        # List of all unique pids\n",
    "        pids = set(self.df_conso_test.prediction_unit_id)\n",
    "        \n",
    "        # Join all dataframes together\n",
    "        self.df_conso_test = unite_dfs(self.df_conso_test, self.df_client, self.df_gas, self.df_electricity, self.df_forecast_w_per_county)\n",
    "        self.df_prod_test = unite_dfs(self.df_prod_test, self.df_client, self.df_gas, self.df_electricity, self.df_forecast_w_per_county)\n",
    "        \n",
    "        # Interpolate nulls values (prices elec & gas are concerned on last day)\n",
    "        col_list = self.df_prod_test.columns.to_list()\n",
    "        self.df_conso_test_toPredict = pd.DataFrame(columns=col_list)\n",
    "        self.df_prod_test_toPredict = pd.DataFrame(columns=col_list)\n",
    "\n",
    "        for g in list(pids):\n",
    "            self.df_conso_test_toPredict = pd.concat([self.df_conso_test_toPredict, interpolate_per_pids(self.df_conso_test, group=g)])\n",
    "            self.df_prod_test_toPredict = pd.concat([self.df_prod_test_toPredict, interpolate_per_pids(self.df_prod_test, group=g)])\n",
    "        \n",
    "        # Convert columns incorrectly converted as object back to int\n",
    "        obj_cols = self.df_conso_test_toPredict.drop(columns=['prediction_datetime','datetime_day']).select_dtypes(include=[object]).columns\n",
    "        self.df_conso_test_toPredict[obj_cols] = self.df_conso_test_toPredict[obj_cols].astype(int)\n",
    "        self.df_prod_test_toPredict[obj_cols] = self.df_prod_test_toPredict[obj_cols].astype(int)\n",
    "        \n",
    "        # Add Feature Engineering columns\n",
    "        self.df_conso_test_toPredict = generate_FE_columns(self.df_conso_test_toPredict)\n",
    "        self.df_prod_test_toPredict = generate_FE_columns(self.df_prod_test_toPredict)\n",
    "    \n",
    "    \n",
    "    def predict_residuals_and_target(self):\n",
    "        \n",
    "        # Keep only necessary columns, the model has been trained on\n",
    "        cols_to_keep = X_test_conso.columns.to_list()\n",
    "        # index is a loop since interpolate -> need to reset it before predict and join results\n",
    "        self.df_conso_test_toPredict.reset_index(drop=True, inplace=True)\n",
    "        self.df_prod_test_toPredict.reset_index(drop=True, inplace=True)\n",
    "        \n",
    "        _predictions_conso = clf_conso.predict(self.df_conso_test_toPredict[cols_to_keep])\n",
    "        predictions_conso = pd.Series(data=_predictions_conso, index=self.df_conso_test_toPredict.index, name='predicted_residuals')\n",
    "        self.df_conso_test_toPredict = self.df_conso_test_toPredict.join(predictions_conso, how='left')\n",
    "        self.df_conso_test_toPredict['predicted_target'] = self.df_conso_test_toPredict['st_target'] + self.df_conso_test_toPredict['predicted_residuals']\n",
    "        # Replace negative values by 0\n",
    "        self.df_conso_test_toPredict['predicted_target'] = self.df_conso_test_toPredict['predicted_target'].clip(lower=med_spring_consumption)\n",
    "        \n",
    "        _predictions_prod = clf_prod.predict(self.df_prod_test_toPredict[cols_to_keep])\n",
    "        predictions_prod = pd.Series(data=_predictions_prod, index=self.df_prod_test_toPredict.index, name='predicted_residuals')\n",
    "        self.df_prod_test_toPredict = self.df_prod_test_toPredict.join(predictions_prod, how='left')\n",
    "        self.df_prod_test_toPredict['predicted_target'] = self.df_prod_test_toPredict['st_target'] + self.df_prod_test_toPredict['predicted_residuals']\n",
    "        self.df_prod_test_toPredict['predicted_target'] = self.df_prod_test_toPredict['predicted_target'].clip(lower=med_spring_production)\n",
    "    \n",
    "    \n",
    "    def merge_and_submit(self):\n",
    "        \n",
    "        self.df_concat = pd.concat([etl.df_conso_test_toPredict, etl.df_prod_test_toPredict]).sort_values(by='row_id')\n",
    "        self.df_test = pd.merge(self.df_test, self.df_concat[['row_id','predicted_target']], on=['row_id'], how='left')"
   ]
  },
  {
   "cell_type": "markdown",
   "id": "cc2576db",
   "metadata": {
    "papermill": {
     "duration": 0.023119,
     "end_time": "2024-01-30T18:22:31.326784",
     "exception": false,
     "start_time": "2024-01-30T18:22:31.303665",
     "status": "completed"
    },
    "tags": []
   },
   "source": [
    "# Submit"
   ]
  },
  {
   "cell_type": "code",
   "execution_count": 51,
   "id": "078cfbb6",
   "metadata": {
    "execution": {
     "iopub.execute_input": "2024-01-30T18:22:31.375041Z",
     "iopub.status.busy": "2024-01-30T18:22:31.374295Z",
     "iopub.status.idle": "2024-01-30T18:22:31.378723Z",
     "shell.execute_reply": "2024-01-30T18:22:31.377902Z"
    },
    "papermill": {
     "duration": 0.030912,
     "end_time": "2024-01-30T18:22:31.380904",
     "exception": false,
     "start_time": "2024-01-30T18:22:31.349992",
     "status": "completed"
    },
    "tags": []
   },
   "outputs": [],
   "source": [
    "iter_test = env.iter_test()"
   ]
  },
  {
   "cell_type": "code",
   "execution_count": 52,
   "id": "f7665393",
   "metadata": {
    "execution": {
     "iopub.execute_input": "2024-01-30T18:22:31.429219Z",
     "iopub.status.busy": "2024-01-30T18:22:31.428462Z",
     "iopub.status.idle": "2024-01-30T18:22:31.433206Z",
     "shell.execute_reply": "2024-01-30T18:22:31.432399Z"
    },
    "papermill": {
     "duration": 0.031097,
     "end_time": "2024-01-30T18:22:31.435336",
     "exception": false,
     "start_time": "2024-01-30T18:22:31.404239",
     "status": "completed"
    },
    "tags": []
   },
   "outputs": [],
   "source": [
    "def is_prediciton_needed(df):\n",
    "    ''' Update of competition submission rules.\n",
    "    Scores only if test column currently_scored is set to True.'''\n",
    "    return not all(df['currently_scored'] == False)"
   ]
  },
  {
   "cell_type": "code",
   "execution_count": 53,
   "id": "0f1331ea",
   "metadata": {
    "execution": {
     "iopub.execute_input": "2024-01-30T18:22:31.484296Z",
     "iopub.status.busy": "2024-01-30T18:22:31.483563Z",
     "iopub.status.idle": "2024-01-30T18:22:41.384279Z",
     "shell.execute_reply": "2024-01-30T18:22:41.382617Z"
    },
    "papermill": {
     "duration": 9.928652,
     "end_time": "2024-01-30T18:22:41.387103",
     "exception": false,
     "start_time": "2024-01-30T18:22:31.458451",
     "status": "completed"
    },
    "tags": []
   },
   "outputs": [
    {
     "name": "stdout",
     "output_type": "stream",
     "text": [
      "This version of the API is not optimized and should not be used to estimate the runtime of your code on the hidden test set.\n",
      "all ['currently_scored'] values are False -> dummy Prediction 0\n",
      "all ['currently_scored'] values are False -> dummy Prediction 0\n",
      "all ['currently_scored'] values are False -> dummy Prediction 0\n",
      "all ['currently_scored'] values are False -> dummy Prediction 0\n"
     ]
    }
   ],
   "source": [
    "for (test, revealed_targets, client, historical_weather,\n",
    "        forecast_weather, electricity_prices, gas_prices, sample_prediction) in iter_test:\n",
    "    \n",
    "    etl = run_ETL(client = client,\n",
    "             elec = electricity_prices,\n",
    "             gas = gas_prices,\n",
    "             weather = forecast_weather,\n",
    "             main = test)\n",
    "    \n",
    "    etl.transform_measures()\n",
    "    etl.split_and_add_fourier_forecast()\n",
    "    etl.unite_FE_and_interpolate()\n",
    "    etl.predict_residuals_and_target()\n",
    "    etl.merge_and_submit()\n",
    "    \n",
    "    #df_submit = etl.df_test[['row_id','predicted_target']].sort_values(by=['row_id'], ascending=True).copy()\n",
    "    #df_submit['predicted_target'] = round(df_submit['predicted_target'], 4)\n",
    "    #target = df_submit['predicted_target'].to_numpy()\n",
    "    \n",
    "    if not is_prediciton_needed(test):\n",
    "        print(\"all ['currently_scored'] values are False -> dummy Prediction 0\")\n",
    "        sample_prediction['target'] = 0\n",
    "        env.predict(sample_prediction)\n",
    "        continue\n",
    "    \n",
    "    #sample_prediction['target'] = target\n",
    "    sample_prediction = pd.merge(sample_prediction.drop(columns='target'), etl.df_test[['row_id','predicted_target']].rename(columns={'predicted_target':'target'}), on=['row_id'], how='left')\n",
    "    env.predict(sample_prediction)"
   ]
  }
 ],
 "metadata": {
  "kaggle": {
   "accelerator": "none",
   "dataSources": [
    {
     "databundleVersionId": 7292407,
     "sourceId": 57236,
     "sourceType": "competition"
    }
   ],
   "dockerImageVersionId": 30635,
   "isGpuEnabled": false,
   "isInternetEnabled": false,
   "language": "python",
   "sourceType": "notebook"
  },
  "kernelspec": {
   "display_name": "Python 3",
   "language": "python",
   "name": "python3"
  },
  "language_info": {
   "codemirror_mode": {
    "name": "ipython",
    "version": 3
   },
   "file_extension": ".py",
   "mimetype": "text/x-python",
   "name": "python",
   "nbconvert_exporter": "python",
   "pygments_lexer": "ipython3",
   "version": "3.10.12"
  },
  "papermill": {
   "default_parameters": {},
   "duration": 276.665891,
   "end_time": "2024-01-30T18:22:42.435909",
   "environment_variables": {},
   "exception": null,
   "input_path": "__notebook__.ipynb",
   "output_path": "__notebook__.ipynb",
   "parameters": {},
   "start_time": "2024-01-30T18:18:05.770018",
   "version": "2.4.0"
  }
 },
 "nbformat": 4,
 "nbformat_minor": 5
}
